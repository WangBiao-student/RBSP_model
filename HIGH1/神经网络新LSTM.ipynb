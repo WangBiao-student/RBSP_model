{
 "cells": [
  {
   "cell_type": "code",
   "execution_count": 1,
   "metadata": {},
   "outputs": [
    {
     "name": "stderr",
     "output_type": "stream",
     "text": [
      "d:\\anaconda3\\envs\\tensorflow\\lib\\site-packages\\spacepy\\time.py:2341: UserWarning: Leapseconds may be out of date. Use spacepy.toolbox.update(leapsecs=True)\n",
      "  warnings.warn('Leapseconds may be out of date.'\n"
     ]
    }
   ],
   "source": [
    "\n",
    "import pandas as pd\n",
    "import matplotlib.pylab as plt\n",
    "import warnings\n",
    "from spacepy import pycdf\n",
    "from spacepy.time import Ticktock\n",
    "import os\n",
    "import numpy as np\n",
    "import pandas as pd\n",
    "from spacepy import pycdf\n",
    "from spacepy.time import Ticktock\n",
    "# 完全忽略PerformanceWarning\n",
    "warnings.filterwarnings('ignore', category=pd.errors.PerformanceWarning)"
   ]
  },
  {
   "cell_type": "code",
   "execution_count": 2,
   "metadata": {},
   "outputs": [],
   "source": [
    "\n",
    "\n",
    "# def process_cdf_file(file_path):\n",
    "#     with pycdf.CDF(file_path) as cdf:\n",
    "#         # 读取时间变量，并将其转换为 datetime 对象\n",
    "#         epoch = cdf['Epoch'][...]\n",
    "#         tt = Ticktock(epoch, 'CDFepoch')\n",
    "#         datetime_array = np.array(tt.UTC)\n",
    "\n",
    "#         # 读取能量标签\n",
    "#         FEDU_ENERGY_LABL = cdf['FEDU_ENERGY_LABL'][...]  # 形状：[能量]\n",
    "#         FEDU_ENERGY_LABL = np.array(FEDU_ENERGY_LABL).astype(str)  # 转换为字符串数组\n",
    "#         FEDU_ENERGY_LABL = FEDU_ENERGY_LABL.squeeze()\n",
    "#         # 去除前后空格并转换为大写\n",
    "#         FEDU_ENERGY_LABL_clean = np.char.strip(FEDU_ENERGY_LABL)\n",
    "#         FEDU_ENERGY_LABL_upper = np.char.upper(FEDU_ENERGY_LABL_clean)\n",
    "\n",
    "#         # 查找包含 'LOW/2' 的能量标签（不区分大小写）\n",
    "#         target_label = 'HIGH/1'############################################################################################################################################################################\n",
    "#         contains_target = np.char.find(FEDU_ENERGY_LABL_upper, target_label.upper()) >= 0\n",
    "#         energy_indices = np.where(contains_target)[0]\n",
    "#         print(energy_indices)\n",
    "\n",
    "#         if len(energy_indices) == 0:\n",
    "#             print(f\"在文件 {file_path} 中未找到包含 '{target_label}' 的能量标签\")\n",
    "#             return pd.DataFrame()  # 返回空的 DataFrame\n",
    "#         else:\n",
    "#             energy_index = energy_indices[0]  # 获取第一个匹配的索引\n",
    "\n",
    "#         # 读取通量数据和相关变量\n",
    "#         fedu_corr = cdf['FEDU_CORR'][...]  # 形状：[时间，俯仰角，能量]\n",
    "#         fedu_corr_error = cdf['FEDU_CORR_ERROR'][...]\n",
    "#         fedu_alpha = cdf['FEDU_Alpha'][...]  # 俯仰角数组\n",
    "\n",
    "#         # 读取其他所需的变量\n",
    "#         B_Calc = cdf['B_Calc'][...]\n",
    "#         B_Eq = cdf['B_Eq'][...]\n",
    "#         I = cdf['I'][...]\n",
    "#         L = cdf['L'][...]\n",
    "#         L_star = cdf['L_star'][...]\n",
    "#         Position = cdf['Position'][...]\n",
    "#         MLT = cdf['MLT'][...]\n",
    "#         MLAT = cdf['MLAT'][...]\n",
    "#         # 读取 LstarVsAlpha 和 LstarVsAlpha_Alpha\n",
    "#         LstarVsAlpha = cdf['LstarVsAlpha'][...]          # 形状：[时间，18]\n",
    "#         # LstarVsAlpha_Alpha = cdf['LstarVsAlpha_Alpha'][...]  # 形状：[18]\n",
    "\n",
    "#     # 获取数据的维度\n",
    "#     num_times = len(datetime_array)\n",
    "#     num_pitches = len(fedu_alpha)\n",
    "#     # 计算总记录数\n",
    "#     total_records = num_times * num_pitches\n",
    "#     # 创建索引网格，用于展开数据\n",
    "#     time_indices = np.arange(num_times)\n",
    "#     pitch_indices = np.arange(num_pitches)\n",
    "#     time_grid, pitch_grid = np.meshgrid(\n",
    "#         time_indices, pitch_indices, indexing='ij')\n",
    "\n",
    "#     # 将网格展开为一维数组\n",
    "#     time_flat = time_grid.flatten()\n",
    "#     pitch_flat = pitch_grid.flatten()\n",
    "\n",
    "#     # 提取并展开数据，以匹配总记录数\n",
    "#     time_array = datetime_array[time_flat]\n",
    "#     flux_array = fedu_corr[time_flat, pitch_flat, energy_index]\n",
    "#     flux_error_array = fedu_corr_error[time_flat, pitch_flat, energy_index]\n",
    "#     pitch_angle_array = fedu_alpha[pitch_flat]\n",
    "#     B_Calc_array = B_Calc[time_flat]\n",
    "#     B_Eq_array = B_Eq[time_flat]\n",
    "#     I_array = I[time_flat]\n",
    "#     L_array = L[time_flat]\n",
    "#     L_star_array = L_star[time_flat]\n",
    "#     MLT_array = MLT[time_flat]\n",
    "#     MLAT_array = MLAT[time_flat]\n",
    "#     Position_array = Position[time_flat, :]\n",
    "#     X_array = Position_array[:, 0]\n",
    "#     Y_array = Position_array[:, 1]\n",
    "#     Z_array = Position_array[:, 2]\n",
    "#     LstarVsAlpha90 = LstarVsAlpha[:,0]\n",
    "#     LstarVsAlpha90=np.repeat(LstarVsAlpha90,11)\n",
    "#     LstarVsAlpha85 = LstarVsAlpha[:,1]\n",
    "#     LstarVsAlpha85=np.repeat(LstarVsAlpha85,11)\n",
    "#     LstarVsAlpha80 = LstarVsAlpha[:,2]\n",
    "#     LstarVsAlpha80=np.repeat(LstarVsAlpha80,11)\n",
    "#     LstarVsAlpha75 = LstarVsAlpha[:,3]\n",
    "#     LstarVsAlpha75=np.repeat(LstarVsAlpha75,11)\n",
    "#     LstarVsAlpha70 = LstarVsAlpha[:,4]\n",
    "#     LstarVsAlpha70=np.repeat(LstarVsAlpha70,11)\n",
    "#     LstarVsAlpha65 = LstarVsAlpha[:,5]\n",
    "#     LstarVsAlpha65=np.repeat(LstarVsAlpha65,11)\n",
    "#     LstarVsAlpha60 = LstarVsAlpha[:,6]\n",
    "#     LstarVsAlpha60=np.repeat(LstarVsAlpha60,11)\n",
    "#     LstarVsAlpha55 = LstarVsAlpha[:,7]\n",
    "#     LstarVsAlpha55=np.repeat(LstarVsAlpha55,11)\n",
    "#     LstarVsAlpha50 = LstarVsAlpha[:,8]\n",
    "#     LstarVsAlpha50=np.repeat(LstarVsAlpha50,11)\n",
    "#     LstarVsAlpha45 = LstarVsAlpha[:,9]\n",
    "#     LstarVsAlpha45=np.repeat(LstarVsAlpha45,11)\n",
    "#     LstarVsAlpha40 = LstarVsAlpha[:,10]\n",
    "#     LstarVsAlpha40=np.repeat(LstarVsAlpha40,11)\n",
    "#     LstarVsAlpha35 = LstarVsAlpha[:,11]\n",
    "#     LstarVsAlpha35=np.repeat(LstarVsAlpha35,11)\n",
    "#     LstarVsAlpha30 = LstarVsAlpha[:,12]\n",
    "#     LstarVsAlpha30=np.repeat(LstarVsAlpha30,11)\n",
    "#     LstarVsAlpha25 = LstarVsAlpha[:,13]\n",
    "#     LstarVsAlpha25=np.repeat(LstarVsAlpha25,11)\n",
    "#     LstarVsAlpha20 = LstarVsAlpha[:,14]\n",
    "#     LstarVsAlpha20=np.repeat(LstarVsAlpha20,11)\n",
    "#     LstarVsAlpha15 = LstarVsAlpha[:,15]\n",
    "#     LstarVsAlpha15=np.repeat(LstarVsAlpha15,11)\n",
    "#     LstarVsAlpha10 = LstarVsAlpha[:,16]\n",
    "#     LstarVsAlpha10=np.repeat(LstarVsAlpha10,11)\n",
    "#     LstarVsAlpha5 = LstarVsAlpha[:,17]\n",
    "#     LstarVsAlpha5=np.repeat(LstarVsAlpha5,11)\n",
    "\n",
    "#     data = {\n",
    "#         'Time': time_array,\n",
    "#         'Flux': flux_array,\n",
    "#         'Flux_Error': flux_error_array,\n",
    "#         'PitchAngle': pitch_angle_array,\n",
    "#         'B_Calc': B_Calc_array,\n",
    "#         'B_Eq': B_Eq_array,\n",
    "#         'I': I_array,\n",
    "#         'L': L_array,\n",
    "#         'L_star': L_star_array,\n",
    "#         # 'L_star_PitchAngle': L_star_PitchAngle_array,\n",
    "#         'MLT': MLT_array,\n",
    "#         'MLAT': MLAT_array,\n",
    "#         'X': X_array,\n",
    "#         'Y': Y_array,\n",
    "#         'Z': Z_array,\n",
    "#         'LstarVsAlpha90': LstarVsAlpha90,\n",
    "#         'LstarVsAlpha85': LstarVsAlpha85,\n",
    "#         'LstarVsAlpha80': LstarVsAlpha80,\n",
    "#         'LstarVsAlpha75': LstarVsAlpha75,\n",
    "#         'LstarVsAlpha70': LstarVsAlpha70,\n",
    "#         'LstarVsAlpha65': LstarVsAlpha65,\n",
    "#         'LstarVsAlpha60': LstarVsAlpha60,\n",
    "#         'LstarVsAlpha55': LstarVsAlpha55,\n",
    "#         'LstarVsAlpha50': LstarVsAlpha50,\n",
    "#         'LstarVsAlpha45': LstarVsAlpha45,\n",
    "#         'LstarVsAlpha40': LstarVsAlpha40,\n",
    "#         'LstarVsAlpha35': LstarVsAlpha35,\n",
    "#         'LstarVsAlpha30': LstarVsAlpha30,\n",
    "#         'LstarVsAlpha25': LstarVsAlpha25,\n",
    "#         'LstarVsAlpha20': LstarVsAlpha20,\n",
    "#         'LstarVsAlpha15': LstarVsAlpha15,\n",
    "#         'LstarVsAlpha10': LstarVsAlpha10,\n",
    "#         'LstarVsAlpha5': LstarVsAlpha5,\n",
    "#     }\n",
    "\n",
    "#     # 创建 DataFrame\n",
    "#     df = pd.DataFrame(data)\n",
    "\n",
    "#     # 过滤无效数据\n",
    "#     df = df[df['Flux_Error'] >= 0]\n",
    "#     # df = df[df['Flux_Error'] < 20]\n",
    "#     df = df[df['B_Calc'] >= 0]\n",
    "#     df = df[df['L_star'] >= 0]\n",
    "#     df = df[df['Flux'] >=0]\n",
    "#     df = df.sample(frac=0.005, replace=False, random_state=1565)\n",
    "#     return df\n",
    "\n"
   ]
  },
  {
   "cell_type": "code",
   "execution_count": 3,
   "metadata": {},
   "outputs": [
    {
     "name": "stdout",
     "output_type": "stream",
     "text": [
      "[['33 keV (LOW/2)                ' '54 keV (LOW/3)                '\n",
      "  '80 keV (LOW/4)                ' '108 keV (LOW/5)               '\n",
      "  '143 keV (LOW/6)               ' '184 keV (LOW/7)               '\n",
      "  '226 keV (LOW/8)               ' '235 keV (M75/2)               '\n",
      "  '346 keV (M75/3)               ' '470 keV (M75/4)               '\n",
      "  '597 keV (M75/5)               ' '749 keV (M75/6)               '\n",
      "  '909 keV (M75/7)               ' '1064 keV (HIGH/0)             '\n",
      "  '1079 keV (M75/8)              ' '1650 keV (HIGH/1)             '\n",
      "  '1768 keV (HIGH/2)             ' '2333 keV (HIGH/3)             '\n",
      "  '2680 keV (HIGH/4)             ' '3618 keV (HIGH/5)             '\n",
      "  '4062 keV (HIGH/6)             ' 'fill keV                      '\n",
      "  'fill keV                      ' 'fill keV                      '\n",
      "  'fill keV                      ']]\n"
     ]
    }
   ],
   "source": [
    "file_path='../RBSP/A_L4/rbspa_rel04_ect-mageis-l3_20130529_v8.1.0.cdf'\n",
    "with pycdf.CDF(file_path) as cdf:\n",
    "    # 读取时间变量，并将其转换为 datetime 对象\n",
    "    epoch = cdf['Epoch'][...]\n",
    "    tt = Ticktock(epoch, 'CDFepoch')\n",
    "    datetime_array = np.array(tt.UTC)\n",
    "\n",
    "    # 读取能量标签\n",
    "    FEDU_ENERGY_LABL = cdf['FEDU_ENERGY_LABL'][...]  # 形状：[能量]\n",
    "print(FEDU_ENERGY_LABL)"
   ]
  },
  {
   "cell_type": "code",
   "execution_count": 4,
   "metadata": {},
   "outputs": [],
   "source": [
    "\n",
    "\n",
    "# def process_cdf_file(file_path):\n",
    "#     with pycdf.CDF(file_path) as cdf:\n",
    "#         # 读取时间变量，并将其转换为 datetime 对象\n",
    "#         epoch = cdf['Epoch'][...]\n",
    "#         tt = Ticktock(epoch, 'CDFepoch')\n",
    "#         datetime_array = np.array(tt.UTC)\n",
    "\n",
    "#         # 读取能量标签\n",
    "#         FEDU_ENERGY_LABL = cdf['FEDU_ENERGY_LABL'][...]  # 形状：[能量]\n",
    "#         FEDU_ENERGY_LABL = np.array(FEDU_ENERGY_LABL).astype(str)  # 转换为字符串数组\n",
    "#         FEDU_ENERGY_LABL = FEDU_ENERGY_LABL.squeeze()\n",
    "#         # 去除前后空格并转换为大写\n",
    "#         FEDU_ENERGY_LABL_clean = np.char.strip(FEDU_ENERGY_LABL)\n",
    "#         FEDU_ENERGY_LABL_upper = np.char.upper(FEDU_ENERGY_LABL_clean)\n",
    "\n",
    "#         # 查找包含 'LOW/2' 的能量标签（不区分大小写）\n",
    "#         target_label = 'M75/2'############################################################################################################################################################################\n",
    "#         contains_target = np.char.find(FEDU_ENERGY_LABL_upper, target_label.upper()) >= 0\n",
    "#         energy_indices = np.where(contains_target)[0]\n",
    "#         print(energy_indices)\n",
    "\n",
    "#         if len(energy_indices) == 0:\n",
    "#             print(f\"在文件 {file_path} 中未找到包含 '{target_label}' 的能量标签\")\n",
    "#             return pd.DataFrame()  # 返回空的 DataFrame\n",
    "#         else:\n",
    "#             energy_index = energy_indices[0]  # 获取第一个匹配的索引\n",
    "\n",
    "#         # 读取通量数据和相关变量\n",
    "#         fedu_corr = cdf['FEDU_CORR'][...]  # 形状：[时间，俯仰角，能量]\n",
    "#         fedu_corr_error = cdf['FEDU_CORR_ERROR'][...]\n",
    "#         fedu_alpha = cdf['FEDU_Alpha'][...]  # 俯仰角数组\n",
    "\n",
    "#         # 读取其他所需的变量\n",
    "#         B_Calc = cdf['B_Calc'][...]\n",
    "#         B_Eq = cdf['B_Eq'][...]\n",
    "#         I = cdf['I'][...]\n",
    "#         L = cdf['L'][...]\n",
    "#         L_star = cdf['L_star'][...]\n",
    "#         Position = cdf['Position'][...]\n",
    "#         MLT = cdf['MLT'][...]\n",
    "#         MLAT = cdf['MLAT'][...]\n",
    "#         # 读取 LstarVsAlpha 和 LstarVsAlpha_Alpha\n",
    "#         LstarVsAlpha = cdf['LstarVsAlpha'][...]          # 形状：[时间，18]\n",
    "#         # LstarVsAlpha_Alpha = cdf['LstarVsAlpha_Alpha'][...]  # 形状：[18]\n",
    "\n",
    "#     # 获取数据的维度\n",
    "#     num_times = len(datetime_array)\n",
    "#     num_pitches = len(fedu_alpha)\n",
    "#     # 计算总记录数\n",
    "#     total_records = num_times * num_pitches\n",
    "#     # 创建索引网格，用于展开数据\n",
    "#     time_indices = np.arange(num_times)\n",
    "#     pitch_indices = np.arange(num_pitches)\n",
    "#     time_grid, pitch_grid = np.meshgrid(\n",
    "#         time_indices, pitch_indices, indexing='ij')\n",
    "\n",
    "#     # 将网格展开为一维数组\n",
    "#     time_flat = time_grid.flatten()\n",
    "#     pitch_flat = pitch_grid.flatten()\n",
    "\n",
    "#     # 提取并展开数据，以匹配总记录数\n",
    "#     time_array = datetime_array[time_flat]\n",
    "#     flux_array = fedu_corr[time_flat, pitch_flat, energy_index]\n",
    "#     flux_error_array = fedu_corr_error[time_flat, pitch_flat, energy_index]\n",
    "#     pitch_angle_array = fedu_alpha[pitch_flat]\n",
    "#     B_Calc_array = B_Calc[time_flat]\n",
    "#     B_Eq_array = B_Eq[time_flat]\n",
    "#     I_array = I[time_flat]\n",
    "#     L_array = L[time_flat]\n",
    "#     L_star_array = L_star[time_flat]\n",
    "#     MLT_array = MLT[time_flat]\n",
    "#     MLAT_array = MLAT[time_flat]\n",
    "#     Position_array = Position[time_flat, :]\n",
    "#     X_array = Position_array[:, 0]\n",
    "#     Y_array = Position_array[:, 1]\n",
    "#     Z_array = Position_array[:, 2]\n",
    "#     LstarVsAlpha90 = LstarVsAlpha[:,0]\n",
    "#     LstarVsAlpha90=np.repeat(LstarVsAlpha90,11)\n",
    "#     LstarVsAlpha85 = LstarVsAlpha[:,1]\n",
    "#     LstarVsAlpha85=np.repeat(LstarVsAlpha85,11)\n",
    "#     LstarVsAlpha80 = LstarVsAlpha[:,2]\n",
    "#     LstarVsAlpha80=np.repeat(LstarVsAlpha80,11)\n",
    "#     LstarVsAlpha75 = LstarVsAlpha[:,3]\n",
    "#     LstarVsAlpha75=np.repeat(LstarVsAlpha75,11)\n",
    "#     LstarVsAlpha70 = LstarVsAlpha[:,4]\n",
    "#     LstarVsAlpha70=np.repeat(LstarVsAlpha70,11)\n",
    "#     LstarVsAlpha65 = LstarVsAlpha[:,5]\n",
    "#     LstarVsAlpha65=np.repeat(LstarVsAlpha65,11)\n",
    "#     LstarVsAlpha60 = LstarVsAlpha[:,6]\n",
    "#     LstarVsAlpha60=np.repeat(LstarVsAlpha60,11)\n",
    "#     LstarVsAlpha55 = LstarVsAlpha[:,7]\n",
    "#     LstarVsAlpha55=np.repeat(LstarVsAlpha55,11)\n",
    "#     LstarVsAlpha50 = LstarVsAlpha[:,8]\n",
    "#     LstarVsAlpha50=np.repeat(LstarVsAlpha50,11)\n",
    "#     LstarVsAlpha45 = LstarVsAlpha[:,9]\n",
    "#     LstarVsAlpha45=np.repeat(LstarVsAlpha45,11)\n",
    "#     LstarVsAlpha40 = LstarVsAlpha[:,10]\n",
    "#     LstarVsAlpha40=np.repeat(LstarVsAlpha40,11)\n",
    "#     LstarVsAlpha35 = LstarVsAlpha[:,11]\n",
    "#     LstarVsAlpha35=np.repeat(LstarVsAlpha35,11)\n",
    "#     LstarVsAlpha30 = LstarVsAlpha[:,12]\n",
    "#     LstarVsAlpha30=np.repeat(LstarVsAlpha30,11)\n",
    "#     LstarVsAlpha25 = LstarVsAlpha[:,13]\n",
    "#     LstarVsAlpha25=np.repeat(LstarVsAlpha25,11)\n",
    "#     LstarVsAlpha20 = LstarVsAlpha[:,14]\n",
    "#     LstarVsAlpha20=np.repeat(LstarVsAlpha20,11)\n",
    "#     LstarVsAlpha15 = LstarVsAlpha[:,15]\n",
    "#     LstarVsAlpha15=np.repeat(LstarVsAlpha15,11)\n",
    "#     LstarVsAlpha10 = LstarVsAlpha[:,16]\n",
    "#     LstarVsAlpha10=np.repeat(LstarVsAlpha10,11)\n",
    "#     LstarVsAlpha5 = LstarVsAlpha[:,17]\n",
    "#     LstarVsAlpha5=np.repeat(LstarVsAlpha5,11)\n",
    "\n",
    "#     data = {\n",
    "#         'Time': time_array,\n",
    "#         'Flux': flux_array,\n",
    "#         'Flux_Error': flux_error_array,\n",
    "#         'PitchAngle': pitch_angle_array,\n",
    "#         'B_Calc': B_Calc_array,\n",
    "#         'B_Eq': B_Eq_array,\n",
    "#         'I': I_array,\n",
    "#         'L': L_array,\n",
    "#         'L_star': L_star_array,\n",
    "#         # 'L_star_PitchAngle': L_star_PitchAngle_array,\n",
    "#         'MLT': MLT_array,\n",
    "#         'MLAT': MLAT_array,\n",
    "#         'X': X_array,\n",
    "#         'Y': Y_array,\n",
    "#         'Z': Z_array,\n",
    "#         'LstarVsAlpha90': LstarVsAlpha90,\n",
    "#         'LstarVsAlpha85': LstarVsAlpha85,\n",
    "#         'LstarVsAlpha80': LstarVsAlpha80,\n",
    "#         'LstarVsAlpha75': LstarVsAlpha75,\n",
    "#         'LstarVsAlpha70': LstarVsAlpha70,\n",
    "#         'LstarVsAlpha65': LstarVsAlpha65,\n",
    "#         'LstarVsAlpha60': LstarVsAlpha60,\n",
    "#         'LstarVsAlpha55': LstarVsAlpha55,\n",
    "#         'LstarVsAlpha50': LstarVsAlpha50,\n",
    "#         'LstarVsAlpha45': LstarVsAlpha45,\n",
    "#         'LstarVsAlpha40': LstarVsAlpha40,\n",
    "#         'LstarVsAlpha35': LstarVsAlpha35,\n",
    "#         'LstarVsAlpha30': LstarVsAlpha30,\n",
    "#         'LstarVsAlpha25': LstarVsAlpha25,\n",
    "#         'LstarVsAlpha20': LstarVsAlpha20,\n",
    "#         'LstarVsAlpha15': LstarVsAlpha15,\n",
    "#         'LstarVsAlpha10': LstarVsAlpha10,\n",
    "#         'LstarVsAlpha5': LstarVsAlpha5,\n",
    "#     }\n",
    "\n",
    "#     # 创建 DataFrame\n",
    "#     df = pd.DataFrame(data)\n",
    "#     df['Time'] = pd.to_datetime(df['Time'])  # 确保是 datetime 类型\n",
    "#     df.set_index('Time', inplace=True)\n",
    "\n",
    "#     df = df[df['Flux_Error'] >= 0]\n",
    "#     # df = df[df['Flux_Error'] < 20]\n",
    "#     df = df[df['B_Calc'] >= 0]\n",
    "#     df = df[df['L_star'] >= 0]\n",
    "#     df = df[df['Flux'] >=0]\n",
    "#     #if df为空，则返回空的DataFrame\n",
    "#     if df.empty:\n",
    "#         print(f\"在文件 {file_path} 中没有有效数据\")\n",
    "#         return pd.DataFrame()  # 返回空的 DataFrame\n",
    "#     else:\n",
    "#         df_avg  = df.groupby('PitchAngle', as_index=False).resample('1min').mean()\n",
    "                     \n",
    "#         df_avg = df_avg.sample(frac=0.03, replace=False, random_state=1565)\n",
    "#         #将['Time']恢复为列\n",
    "#         df_avg.reset_index(drop=False, inplace=True)\n",
    "        \n",
    "#         return df_avg\n",
    "\n"
   ]
  },
  {
   "cell_type": "code",
   "execution_count": 5,
   "metadata": {},
   "outputs": [
    {
     "name": "stdout",
     "output_type": "stream",
     "text": [
      "4566\n",
      "Processing file: ../RBSP/A_L4\\rbspa_rel04_ect-mageis-l3_20120907_v8.1.0.cdf\n"
     ]
    },
    {
     "ename": "NameError",
     "evalue": "name 'process_cdf_file' is not defined",
     "output_type": "error",
     "traceback": [
      "\u001b[1;31m---------------------------------------------------------------------------\u001b[0m",
      "\u001b[1;31mNameError\u001b[0m                                 Traceback (most recent call last)",
      "Cell \u001b[1;32mIn[5], line 18\u001b[0m\n\u001b[0;32m     16\u001b[0m \u001b[38;5;28;01mfor\u001b[39;00m file_path \u001b[38;5;129;01min\u001b[39;00m cdf_files:\n\u001b[0;32m     17\u001b[0m     \u001b[38;5;28mprint\u001b[39m(\u001b[38;5;124mf\u001b[39m\u001b[38;5;124m\"\u001b[39m\u001b[38;5;124mProcessing file: \u001b[39m\u001b[38;5;132;01m{\u001b[39;00mfile_path\u001b[38;5;132;01m}\u001b[39;00m\u001b[38;5;124m\"\u001b[39m)\n\u001b[1;32m---> 18\u001b[0m     df \u001b[38;5;241m=\u001b[39m \u001b[43mprocess_cdf_file\u001b[49m(file_path)\n\u001b[0;32m     19\u001b[0m     \u001b[38;5;28;01mif\u001b[39;00m \u001b[38;5;129;01mnot\u001b[39;00m df\u001b[38;5;241m.\u001b[39mempty:\n\u001b[0;32m     20\u001b[0m         df_list\u001b[38;5;241m.\u001b[39mappend(df)\n",
      "\u001b[1;31mNameError\u001b[0m: name 'process_cdf_file' is not defined"
     ]
    }
   ],
   "source": [
    "folder_paths = ['../RBSP/A_L4', '../RBSP/B_L4']  # 请替换为您的文件夹路径\n",
    "\n",
    "# 存储所有 CDF 文件的路径\n",
    "cdf_files = []\n",
    "\n",
    "# 遍历所有文件夹，获取其中的 CDF 文件\n",
    "for folder_path in folder_paths:\n",
    "    cdf_files.extend([os.path.join(folder_path, f) for f in os.listdir(folder_path) if f.endswith('.cdf')])\n",
    "\n",
    "print(len(cdf_files))\n",
    "\n",
    "# cdf_files=cdf_files[999:1000]\n",
    "# 存储每个文件的 DataFrame\n",
    "df_list = []\n",
    "\n",
    "for file_path in cdf_files:\n",
    "    print(f\"Processing file: {file_path}\")\n",
    "    df = process_cdf_file(file_path)\n",
    "    if not df.empty:\n",
    "        df_list.append(df)\n",
    "    else:\n",
    "        print(f\"跳过文件 {file_path}，因为不包含目标能量标签。\")\n",
    "\n",
    "if df_list:\n",
    "    combined_df = pd.concat(df_list, ignore_index=True)\n",
    "    # 可选：查看拼接后的 DataFrame 的前几行\n",
    "    print(combined_df.head())\n",
    "else:\n",
    "    print(\"未找到包含目标能量标签的数据。\")"
   ]
  },
  {
   "cell_type": "code",
   "execution_count": null,
   "metadata": {},
   "outputs": [
    {
     "name": "stdout",
     "output_type": "stream",
     "text": [
      "                           Time       Flux  Flux_Error  PitchAngle  \\\n",
      "0       2012-10-05 13:39:34.616  81.327838   23.000000  122.727273   \n",
      "1       2012-10-05 10:36:37.026  18.312992   39.809662   24.545455   \n",
      "2       2012-10-05 13:42:18.786  91.865089   22.000000  106.363636   \n",
      "3       2012-10-05 22:22:50.217  29.748665   28.646668  106.363636   \n",
      "4       2012-10-05 07:56:55.063   0.000000  112.613388   57.272727   \n",
      "...                         ...        ...         ...         ...   \n",
      "1467336 2018-12-31 17:22:05.634   0.000000   94.330383   57.272727   \n",
      "1467337 2018-12-31 04:43:18.802  34.506115   10.595633  139.090909   \n",
      "1467338 2018-12-31 08:57:29.687  23.134647   17.098991   57.272727   \n",
      "1467339 2018-12-31 14:17:04.570   0.000000   99.691177   90.000000   \n",
      "1467340 2018-12-31 19:03:00.336   7.359201   44.001568    8.181818   \n",
      "\n",
      "              B_Calc         B_Eq         I         L    L_star        MLT  \\\n",
      "0         205.767862   203.646131  0.036321  5.276615  4.745125   8.491751   \n",
      "1         165.228320   149.480082  0.319309  5.802351  5.150080   6.486058   \n",
      "2         210.082727   208.025615  0.034327  5.239452  4.718235   8.528761   \n",
      "3         229.876295   154.386244  1.507143  5.730108  5.197860   7.845123   \n",
      "4        3808.982576  2468.604577  0.675011  2.283528  2.266346   2.129519   \n",
      "...              ...          ...       ...       ...       ...        ...   \n",
      "1467336   524.152609   461.722747  0.344766  4.005516  3.856943  15.723005   \n",
      "1467337   319.559959   202.859804  1.371561  5.143321  4.855831  20.825234   \n",
      "1467338   309.272610   306.573615  0.026793  4.604277  4.348280  17.383080   \n",
      "1467339   471.974065   471.943598  0.000161  3.988752  3.828620  21.463523   \n",
      "1467340   182.021341   139.609503  1.000006  5.922182  5.445062  17.377313   \n",
      "\n",
      "         ...  LstarVsAlpha50  LstarVsAlpha45  LstarVsAlpha40  LstarVsAlpha35  \\\n",
      "0        ...        4.820114        4.831637        4.841535        4.849424   \n",
      "1        ...        5.148871        5.148479        5.148164        5.147894   \n",
      "2        ...        4.792412        4.803840        4.813676        4.821497   \n",
      "3        ...        5.246186        5.253673        5.260254        5.265759   \n",
      "4        ...        2.261817        2.260542        2.258780        2.256813   \n",
      "...      ...             ...             ...             ...             ...   \n",
      "1467336  ...        3.867440        3.869295        3.870926        3.872499   \n",
      "1467337  ...        4.825515        4.820374        4.815599        4.811535   \n",
      "1467338  ...        4.359226        4.361252        4.363217        4.364708   \n",
      "1467339  ...        3.806336        3.802693        3.799407        3.796522   \n",
      "1467340  ...        5.443604        5.443562        5.444017        5.444414   \n",
      "\n",
      "         LstarVsAlpha30  LstarVsAlpha25  LstarVsAlpha20  LstarVsAlpha15  \\\n",
      "0              4.855548        4.859963    4.862542e+00    4.863575e+00   \n",
      "1              5.147359        5.147104    5.146709e+00    5.146063e+00   \n",
      "2              4.827528        4.831905    4.834402e+00    4.835469e+00   \n",
      "3              5.270321        5.273727    5.276983e+00    5.278749e+00   \n",
      "4              2.254218        2.250233   -1.000000e+31   -1.000000e+31   \n",
      "...                 ...             ...             ...             ...   \n",
      "1467336        3.874023        3.875229    3.877465e+00    3.879755e+00   \n",
      "1467337        4.808252        4.805547    4.802658e+00    4.800246e+00   \n",
      "1467338        4.366120        4.366837    4.367059e+00    4.366939e+00   \n",
      "1467339        3.794317        3.792347    3.790826e+00    3.788698e+00   \n",
      "1467340        5.444578        5.444642    5.445503e+00    5.446887e+00   \n",
      "\n",
      "         LstarVsAlpha10  LstarVsAlpha5  \n",
      "0          4.861890e+00   4.856981e+00  \n",
      "1          5.144492e+00   5.140997e+00  \n",
      "2          4.833720e+00   4.828720e+00  \n",
      "3          5.278781e+00   5.281532e+00  \n",
      "4         -1.000000e+31  -1.000000e+31  \n",
      "...                 ...            ...  \n",
      "1467336    3.887003e+00  -1.000000e+31  \n",
      "1467337    4.795639e+00  -1.000000e+31  \n",
      "1467338    4.365438e+00  -1.000000e+31  \n",
      "1467339    3.786543e+00  -1.000000e+31  \n",
      "1467340    5.448678e+00   5.456720e+00  \n",
      "\n",
      "[1467341 rows x 32 columns]\n"
     ]
    }
   ],
   "source": [
    "print(combined_df)"
   ]
  },
  {
   "cell_type": "code",
   "execution_count": null,
   "metadata": {},
   "outputs": [
    {
     "name": "stderr",
     "output_type": "stream",
     "text": [
      "C:\\Users\\root\\AppData\\Local\\Temp\\ipykernel_29424\\1871395007.py:17: FutureWarning: DataFrame.applymap has been deprecated. Use DataFrame.map instead.\n",
      "  combined_df[sorted_columns] = combined_df[sorted_columns].applymap(lambda x: np.nan if x < 0 else x)\n"
     ]
    },
    {
     "name": "stdout",
     "output_type": "stream",
     "text": [
      "                     Time       Flux  Flux_Error  PitchAngle       B_Calc  \\\n",
      "0 2012-10-05 13:39:34.616  81.327838   23.000000  122.727273   205.767862   \n",
      "1 2012-10-05 10:36:37.026  18.312992   39.809662   24.545455   165.228320   \n",
      "2 2012-10-05 13:42:18.786  91.865089   22.000000  106.363636   210.082727   \n",
      "3 2012-10-05 22:22:50.217  29.748665   28.646668  106.363636   229.876295   \n",
      "4 2012-10-05 07:56:55.063   0.000000  112.613388   57.272727  3808.982576   \n",
      "\n",
      "          B_Eq         I         L    L_star       MLT  ...  LstarVsAlpha45  \\\n",
      "0   203.646131  0.036321  5.276615  4.745125  8.491751  ...        4.831637   \n",
      "1   149.480082  0.319309  5.802351  5.150080  6.486058  ...        5.148479   \n",
      "2   208.025615  0.034327  5.239452  4.718235  8.528761  ...        4.803840   \n",
      "3   154.386244  1.507143  5.730108  5.197860  7.845123  ...        5.253673   \n",
      "4  2468.604577  0.675011  2.283528  2.266346  2.129519  ...        2.260542   \n",
      "\n",
      "   LstarVsAlpha40  LstarVsAlpha35  LstarVsAlpha30  LstarVsAlpha25  \\\n",
      "0        4.841535        4.849424        4.855548        4.859963   \n",
      "1        5.148164        5.147894        5.147359        5.147104   \n",
      "2        4.813676        4.821497        4.827528        4.831905   \n",
      "3        5.260254        5.265759        5.270321        5.273727   \n",
      "4        2.258780        2.256813        2.254218        2.250233   \n",
      "\n",
      "   LstarVsAlpha20  LstarVsAlpha15  LstarVsAlpha10  LstarVsAlpha5  \\\n",
      "0        4.862542        4.863575        4.861890       4.856981   \n",
      "1        5.146709        5.146063        5.144492       5.140997   \n",
      "2        4.834402        4.835469        4.833720       4.828720   \n",
      "3        5.276983        5.278749        5.278781       5.281532   \n",
      "4             NaN             NaN             NaN            NaN   \n",
      "\n",
      "   Interpolated_Lstar  \n",
      "0            4.801382  \n",
      "1            5.147068  \n",
      "2            4.734927  \n",
      "3            5.208895  \n",
      "4            2.263296  \n",
      "\n",
      "[5 rows x 33 columns]\n"
     ]
    }
   ],
   "source": [
    "# 提取列名中的角度信息\n",
    "angles = [int(col.split('LstarVsAlpha')[-1]) for col in combined_df.columns if 'LstarVsAlpha' in col]\n",
    "columns = [col for col in combined_df.columns if 'LstarVsAlpha' in col]\n",
    "\n",
    "# 将角度和列名对应关系构建成字典\n",
    "angle_column_map = dict(zip(angles, columns))\n",
    "\n",
    "# 对角度和列名按角度递增顺序排序\n",
    "sorted_pairs = sorted(zip(angles, columns))\n",
    "sorted_angles, sorted_columns = zip(*sorted_pairs)\n",
    "\n",
    "# 将 sorted_angles 和 sorted_columns 转换为列表\n",
    "sorted_angles = list(sorted_angles)\n",
    "sorted_columns = list(sorted_columns)\n",
    "\n",
    "# 将Lstar值中小于0的替换为NaN\n",
    "combined_df[sorted_columns] = combined_df[sorted_columns].applymap(lambda x: np.nan if x < 0 else x)\n",
    "\n",
    "# 定义插值函数\n",
    "def interpolate_row(row):\n",
    "    # 根据PitchAngle进行插值\n",
    "    target_angle = row['PitchAngle']\n",
    "    if target_angle > 90:\n",
    "        target_angle = 180 - target_angle\n",
    "\n",
    "    if target_angle < 5:\n",
    "        target_angle = 5\n",
    "\n",
    "    x = np.array(sorted_angles)\n",
    "    y = np.array([row[col] for col in sorted_columns])\n",
    "\n",
    "    # 筛选有效的（非NaN）数据点\n",
    "    valid_indices = ~np.isnan(y)\n",
    "    if np.sum(valid_indices) < 2:\n",
    "        # 若有效数据点少于2个，无法进行插值，返回NaN\n",
    "        return np.nan\n",
    "    else:\n",
    "        # 进行线性插值\n",
    "        return np.interp(target_angle, x[valid_indices], y[valid_indices])\n",
    "\n",
    "# 生成新列，存储插值后的结果\n",
    "combined_df['Interpolated_Lstar'] = combined_df.apply(interpolate_row, axis=1)\n",
    "\n",
    "# 显示结果\n",
    "print(combined_df.head())\n"
   ]
  },
  {
   "cell_type": "code",
   "execution_count": null,
   "metadata": {},
   "outputs": [],
   "source": [
    "combined_df = combined_df.drop(columns=columns)"
   ]
  },
  {
   "cell_type": "code",
   "execution_count": null,
   "metadata": {},
   "outputs": [
    {
     "name": "stdout",
     "output_type": "stream",
     "text": [
      "1149\n"
     ]
    }
   ],
   "source": [
    "#查看Interpolated_Lstar中有多少nan\n",
    "print(combined_df['Interpolated_Lstar'].isna().sum())"
   ]
  },
  {
   "cell_type": "code",
   "execution_count": null,
   "metadata": {},
   "outputs": [],
   "source": [
    "#如果Interpolated_Lstar中有nan，用L_star列的值代替\n",
    "combined_df['Interpolated_Lstar'] = combined_df['Interpolated_Lstar'].fillna(combined_df['L_star'])"
   ]
  },
  {
   "cell_type": "code",
   "execution_count": null,
   "metadata": {},
   "outputs": [],
   "source": [
    "# print(combined_df['B_Calc'].min())"
   ]
  },
  {
   "cell_type": "code",
   "execution_count": null,
   "metadata": {},
   "outputs": [
    {
     "name": "stdout",
     "output_type": "stream",
     "text": [
      "-1.0\n"
     ]
    }
   ],
   "source": [
    "import numpy as np  \n",
    "print(np.cos(np.pi))"
   ]
  },
  {
   "cell_type": "code",
   "execution_count": null,
   "metadata": {},
   "outputs": [],
   "source": [
    "# E=1.612+0.511\n",
    "# c=3*10**8\n",
    "# m_0=0.51099895/(c**2)\n",
    "# p=np.sqrt(E**2-0.511**2)/c\n",
    "# # u=p**2/(2*m_0*207*10**-5)\n",
    "# combined_df['u']=(p*np.sin(combined_df['PitchAngle']/180*np.pi))**2/(2*m_0*combined_df['B_Calc']*10**-5)\n",
    "# print(combined_df['u'])"
   ]
  },
  {
   "cell_type": "code",
   "execution_count": null,
   "metadata": {},
   "outputs": [],
   "source": [
    "# print(combined_df['I'].min())"
   ]
  },
  {
   "cell_type": "code",
   "execution_count": null,
   "metadata": {},
   "outputs": [],
   "source": [
    "# combined_df['PSD'] = combined_df['Flux']*1e3 / (2.9979e10*(p**2)*(c**2))\n",
    "# print(combined_df['PSD'])"
   ]
  },
  {
   "cell_type": "code",
   "execution_count": null,
   "metadata": {},
   "outputs": [],
   "source": [
    "# #画combined_df['u']的分布\n",
    "# plt.hist(combined_df['u'], bins=100, alpha=0.75)\n",
    "# plt.xlabel('u')\n",
    "# plt.ylabel('Frequency')\n",
    "# plt.title('Distribution of u')\n",
    "# plt.show()\n"
   ]
  },
  {
   "cell_type": "code",
   "execution_count": null,
   "metadata": {},
   "outputs": [],
   "source": [
    "# #画combined_df['u']的分布\n",
    "# plt.hist(combined_df['I'], bins=100, alpha=0.75)\n",
    "# plt.xlabel('u')\n",
    "# plt.ylabel('Frequency')\n",
    "# plt.title('Distribution of u')\n",
    "# plt.show()\n"
   ]
  },
  {
   "cell_type": "code",
   "execution_count": null,
   "metadata": {},
   "outputs": [],
   "source": [
    "# #画combined_df['u']的分布\n",
    "# plt.hist(combined_df['Interpolated_Lstar'], bins=100, alpha=0.75)\n",
    "# plt.xlabel('u')\n",
    "# plt.ylabel('Frequency')\n",
    "# plt.title('Distribution of u')\n",
    "# plt.show()\n"
   ]
  },
  {
   "cell_type": "code",
   "execution_count": null,
   "metadata": {},
   "outputs": [],
   "source": [
    "combined_df = combined_df.sort_values('Time')"
   ]
  },
  {
   "cell_type": "code",
   "execution_count": null,
   "metadata": {},
   "outputs": [],
   "source": [
    "combined_df = combined_df.reset_index(drop=True)"
   ]
  },
  {
   "cell_type": "code",
   "execution_count": null,
   "metadata": {},
   "outputs": [],
   "source": [
    "# #查看combined_df['Flux']有多少个值为0\n",
    "# print(combined_df[combined_df['Flux']==0].shape[0])"
   ]
  },
  {
   "cell_type": "code",
   "execution_count": null,
   "metadata": {},
   "outputs": [
    {
     "data": {
      "text/plain": [
       "(array([4.61127e+05, 0.00000e+00, 6.00000e+00, 6.00000e+00, 2.80000e+01,\n",
       "        1.05000e+02, 3.90000e+02, 5.29000e+02, 2.40200e+03, 1.84900e+03,\n",
       "        5.28000e+03, 5.96400e+03, 8.52800e+03, 8.44200e+03, 9.51500e+03,\n",
       "        9.16000e+03, 1.30490e+04, 8.87200e+03, 8.47400e+03, 1.36910e+04,\n",
       "        1.07110e+04, 1.16820e+04, 1.09650e+04, 1.30450e+04, 1.20100e+04,\n",
       "        1.46560e+04, 1.26970e+04, 1.43200e+04, 1.43640e+04, 1.60290e+04,\n",
       "        1.55060e+04, 1.64040e+04, 1.68480e+04, 1.77370e+04, 1.79470e+04,\n",
       "        1.84400e+04, 1.85630e+04, 1.94900e+04, 1.97750e+04, 1.98630e+04,\n",
       "        2.02440e+04, 2.08650e+04, 2.12860e+04, 2.18360e+04, 2.22940e+04,\n",
       "        2.24260e+04, 2.25590e+04, 2.28090e+04, 2.27180e+04, 2.26940e+04,\n",
       "        2.25710e+04, 2.17250e+04, 2.17240e+04, 2.18410e+04, 2.12570e+04,\n",
       "        2.06770e+04, 2.00590e+04, 1.95870e+04, 1.88300e+04, 1.81940e+04,\n",
       "        1.71310e+04, 1.58050e+04, 1.52180e+04, 1.41500e+04, 1.30690e+04,\n",
       "        1.21170e+04, 1.08560e+04, 1.00130e+04, 8.94600e+03, 8.09100e+03,\n",
       "        7.18300e+03, 6.47700e+03, 5.63100e+03, 4.99600e+03, 4.24300e+03,\n",
       "        3.75500e+03, 3.36300e+03, 2.67400e+03, 2.22100e+03, 1.73100e+03,\n",
       "        1.43100e+03, 1.00600e+03, 7.23000e+02, 5.16000e+02, 3.31000e+02,\n",
       "        2.68000e+02, 1.48000e+02, 1.06000e+02, 9.80000e+01, 9.00000e+01,\n",
       "        6.30000e+01, 6.20000e+01, 4.40000e+01, 4.40000e+01, 2.90000e+01,\n",
       "        1.90000e+01, 1.10000e+01, 7.00000e+00, 2.00000e+00, 8.00000e+00]),\n",
       " array([-0.30103   , -0.25412338, -0.20721676, -0.16031015, -0.11340353,\n",
       "        -0.06649692, -0.0195903 ,  0.02731631,  0.07422293,  0.12112954,\n",
       "         0.16803616,  0.21494278,  0.26184939,  0.30875601,  0.35566262,\n",
       "         0.40256924,  0.44947585,  0.49638247,  0.54328909,  0.5901957 ,\n",
       "         0.63710232,  0.68400893,  0.73091555,  0.77782216,  0.82472878,\n",
       "         0.87163539,  0.91854201,  0.96544863,  1.01235524,  1.05926186,\n",
       "         1.10616847,  1.15307509,  1.1999817 ,  1.24688832,  1.29379494,\n",
       "         1.34070155,  1.38760817,  1.43451478,  1.4814214 ,  1.52832801,\n",
       "         1.57523463,  1.62214124,  1.66904786,  1.71595448,  1.76286109,\n",
       "         1.80976771,  1.85667432,  1.90358094,  1.95048755,  1.99739417,\n",
       "         2.04430079,  2.0912074 ,  2.13811402,  2.18502063,  2.23192725,\n",
       "         2.27883386,  2.32574048,  2.37264709,  2.41955371,  2.46646033,\n",
       "         2.51336694,  2.56027356,  2.60718017,  2.65408679,  2.7009934 ,\n",
       "         2.74790002,  2.79480663,  2.84171325,  2.88861987,  2.93552648,\n",
       "         2.9824331 ,  3.02933971,  3.07624633,  3.12315294,  3.17005956,\n",
       "         3.21696618,  3.26387279,  3.31077941,  3.35768602,  3.40459264,\n",
       "         3.45149925,  3.49840587,  3.54531248,  3.5922191 ,  3.63912572,\n",
       "         3.68603233,  3.73293895,  3.77984556,  3.82675218,  3.87365879,\n",
       "         3.92056541,  3.96747203,  4.01437864,  4.06128526,  4.10819187,\n",
       "         4.15509849,  4.2020051 ,  4.24891172,  4.29581833,  4.34272495,\n",
       "         4.38963157]),\n",
       " <BarContainer object of 100 artists>)"
      ]
     },
     "execution_count": 21,
     "metadata": {},
     "output_type": "execute_result"
    },
    {
     "data": {
      "image/png": "[encoded data removed]",
      "text/plain": [
       "<Figure size 640x480 with 1 Axes>"
      ]
     },
     "metadata": {},
     "output_type": "display_data"
    }
   ],
   "source": [
    "#查看df['Flux']的分布   \n",
    "plt.hist(np.log10(combined_df['Flux']+0.5), bins=100)"
   ]
  },
  {
   "cell_type": "code",
   "execution_count": null,
   "metadata": {},
   "outputs": [],
   "source": [
    "# #画出df['I']的数据分布\n",
    "# plt.figure()\n",
    "# plt.hist(combined_df['L_star'], bins=100)\n",
    "# plt.xlabel('I')\n",
    "# plt.ylabel('Frequency')\n",
    "# plt.title('Distribution of I')\n",
    "# plt.show()\n"
   ]
  },
  {
   "cell_type": "code",
   "execution_count": null,
   "metadata": {},
   "outputs": [],
   "source": [
    "from scipy import stats\n",
    "import pandas as pd \n",
    "import matplotlib.pyplot as plt\n",
    "import numpy as np\n"
   ]
  },
  {
   "cell_type": "code",
   "execution_count": null,
   "metadata": {},
   "outputs": [],
   "source": [
    "TQ=pd.read_csv('../空间天气参数/TQ.txt',sep='\\s+',header=None)\n",
    "TQ.columns=['year','day','hour','BXGSM','BYGSM','BZGSM','TEMP','DEN','PDYN','Kp','Dst','F107','AE','AL','AU']\n",
    "TQ['datetime'] = pd.to_datetime(TQ['year'].astype(str) + TQ['day'].astype(str).str.zfill(3) + TQ['hour'].astype(str).str.zfill(2), format='%Y%j%H')\n",
    "TQ=TQ.drop(['year','day','hour'],axis=1)\n",
    "TQ = TQ.sort_values(by='datetime')\n",
    "TQ.set_index('datetime', inplace=True)"
   ]
  },
  {
   "cell_type": "code",
   "execution_count": null,
   "metadata": {},
   "outputs": [
    {
     "name": "stdout",
     "output_type": "stream",
     "text": [
      "                     BZGSM     TEMP  PDYN  Kp  Dst  F107    AE     AL     AU\n",
      "datetime                                                                    \n",
      "2010-01-01 00:00:00    1.6  36035.0  0.51   0    5  72.7     4     -2      2\n",
      "2010-01-01 01:00:00    1.6  30846.0  0.52   0    4  72.7     4     -2      1\n",
      "2010-01-01 02:00:00    1.2  27445.0  0.52   0    4  72.7     4     -2      2\n",
      "2010-01-01 03:00:00    1.0  25799.0  0.60   0    2  72.7     3     -2      2\n",
      "2010-01-01 04:00:00    0.3  25220.0  0.52   0    0  72.7     3     -1      2\n",
      "...                    ...      ...   ...  ..  ...   ...   ...    ...    ...\n",
      "2020-01-01 19:00:00   -0.3  18136.0  2.30  10    2  69.4  9999  99999  99999\n",
      "2020-01-01 20:00:00   -0.2  16553.0  2.31  10    5  69.4  9999  99999  99999\n",
      "2020-01-01 21:00:00    0.4  17917.0  2.37   7    7  69.4  9999  99999  99999\n",
      "2020-01-01 22:00:00    1.2  18613.0  2.14   7    6  69.4  9999  99999  99999\n",
      "2020-01-01 23:00:00    1.1  19557.0  1.89   7    5  69.4  9999  99999  99999\n",
      "\n",
      "[87672 rows x 9 columns]\n"
     ]
    }
   ],
   "source": [
    "#删除TQ中的BXGSM列\n",
    "TQ=TQ.drop(['BXGSM'],axis=1)\n",
    "TQ=TQ.drop(['BYGSM'],axis=1)\n",
    "TQ=TQ.drop(['DEN'],axis=1)\n",
    "\n",
    "print(TQ)"
   ]
  },
  {
   "cell_type": "code",
   "execution_count": null,
   "metadata": {},
   "outputs": [
    {
     "data": {
      "text/plain": [
       "[<matplotlib.lines.Line2D at 0x203a804dbb0>]"
      ]
     },
     "execution_count": 26,
     "metadata": {},
     "output_type": "execute_result"
    },
    {
     "data": {
      "image/png": "[encoded data removed]",
      "text/plain": [
       "<Figure size 640x480 with 1 Axes>"
      ]
     },
     "metadata": {},
     "output_type": "display_data"
    }
   ],
   "source": [
    "z_scores = np.abs(stats.zscore(TQ['BZGSM']))\n",
    "threshold = 3  # 设置Z-score阈值\n",
    "TQ['BZGSM_IS1'] = np.where(z_scores >= threshold, 0, 1)\n",
    "TQ['BZGSM_no_outliers'] = TQ['BZGSM'].where(z_scores < threshold, np.nan)  # 将异常值替换为NaN\n",
    "\n",
    "# 在原位置插值\n",
    "TQ['BZGSM'] = TQ['BZGSM_no_outliers'].interpolate(method='time')\n",
    "# 删除临时列\n",
    "TQ = TQ.drop(columns=['BZGSM_no_outliers'])\n",
    "plt.plot(TQ.index, TQ['BZGSM'])"
   ]
  },
  {
   "cell_type": "code",
   "execution_count": null,
   "metadata": {},
   "outputs": [
    {
     "data": {
      "text/plain": [
       "[<matplotlib.lines.Line2D at 0x203ca1066a0>]"
      ]
     },
     "execution_count": 27,
     "metadata": {},
     "output_type": "execute_result"
    },
    {
     "data": {
      "image/png": "[encoded data removed]",
      "text/plain": [
       "<Figure size 640x480 with 1 Axes>"
      ]
     },
     "metadata": {},
     "output_type": "display_data"
    }
   ],
   "source": [
    "z_scores = np.abs(stats.zscore(TQ['TEMP']))\n",
    "threshold = 3  # 设置Z-score阈值\n",
    "TQ['TEMP_IS1'] = np.where(z_scores >= threshold, 0, 1)\n",
    "TQ['TEMP_no_outliers'] = TQ['TEMP'].where(z_scores < threshold, np.nan)  # 将异常值替换为NaN\n",
    "\n",
    "# 在原位置插值\n",
    "TQ['TEMP'] = TQ['TEMP_no_outliers'].interpolate(method='time')\n",
    "# 删除临时列\n",
    "TQ = TQ.drop(columns=['TEMP_no_outliers'])\n",
    "plt.plot(TQ.index, TQ['TEMP'])"
   ]
  },
  {
   "cell_type": "code",
   "execution_count": null,
   "metadata": {},
   "outputs": [
    {
     "data": {
      "text/plain": [
       "[<matplotlib.lines.Line2D at 0x203bf281f70>]"
      ]
     },
     "execution_count": 28,
     "metadata": {},
     "output_type": "execute_result"
    },
    {
     "data": {
      "image/png": "[encoded data removed]",
      "text/plain": [
       "<Figure size 640x480 with 1 Axes>"
      ]
     },
     "metadata": {},
     "output_type": "display_data"
    }
   ],
   "source": [
    "z_scores = np.abs(stats.zscore(TQ['PDYN']))\n",
    "threshold = 3  # 设置Z-score阈值\n",
    "TQ['PDYN_IS1'] = np.where(z_scores >= threshold, 0, 1)\n",
    "TQ['PDYN_no_outliers'] = TQ['PDYN'].where(z_scores < threshold, np.nan)  # 将异常值替换为NaN\n",
    "\n",
    "# 在原位置插值\n",
    "TQ['PDYN'] = TQ['PDYN_no_outliers'].interpolate(method='time')\n",
    "# 删除临时列\n",
    "TQ = TQ.drop(columns=['PDYN_no_outliers'])\n",
    "plt.plot(TQ.index, TQ['PDYN'])"
   ]
  },
  {
   "cell_type": "code",
   "execution_count": null,
   "metadata": {},
   "outputs": [],
   "source": [
    "# plt.plot(TQ.index, TQ['Kp'])"
   ]
  },
  {
   "cell_type": "code",
   "execution_count": null,
   "metadata": {},
   "outputs": [
    {
     "data": {
      "text/plain": [
       "[<matplotlib.lines.Line2D at 0x203cb8adf10>]"
      ]
     },
     "execution_count": 30,
     "metadata": {},
     "output_type": "execute_result"
    },
    {
     "data": {
      "image/png": "[encoded data removed]",
      "text/plain": [
       "<Figure size 640x480 with 1 Axes>"
      ]
     },
     "metadata": {},
     "output_type": "display_data"
    }
   ],
   "source": [
    "z_scores = np.abs(stats.zscore(TQ['F107']))\n",
    "threshold = 3  # 设置Z-score阈值\n",
    "TQ['F107_IS1'] = np.where(z_scores >= threshold, 0, 1)\n",
    "TQ['F107_no_outliers'] = TQ['F107'].where(z_scores < threshold, np.nan)  # 将异常值替换为NaN\n",
    "\n",
    "# 在原位置插值\n",
    "TQ['F107'] = TQ['F107_no_outliers'].interpolate(method='time')\n",
    "# 删除临时列\n",
    "TQ = TQ.drop(columns=['F107_no_outliers'])\n",
    "plt.plot(TQ.index, TQ['F107'])"
   ]
  },
  {
   "cell_type": "code",
   "execution_count": null,
   "metadata": {},
   "outputs": [],
   "source": [
    "V_H_5=pd.read_csv('../空间天气参数/V_H_5.txt',sep='\\s+',header=None)\n",
    "V_H_5.columns=['year','day','hour','min','VX', 'VY', 'VZ', 'SYMH']\n",
    "year_str = V_H_5['year'].astype(str)\n",
    "day_str = V_H_5['day'].astype(str).str.zfill(3)\n",
    "hour_str = V_H_5['hour'].astype(str).str.zfill(2)\n",
    "min_str = V_H_5['min'].astype(str).str.zfill(2)\n",
    "\n",
    "# 合并字符串\n",
    "datetime_str = year_str + day_str + hour_str + min_str\n",
    "\n",
    "# 转换为 datetime 对象\n",
    "V_H_5['datetime'] = pd.to_datetime(datetime_str, format='%Y%j%H%M')\n",
    "V_H_5=V_H_5.drop(['year','day','hour','min'],axis=1)\n",
    "V_H_5 = V_H_5.sort_values(by='datetime')\n",
    "V_H_5.set_index('datetime', inplace=True)"
   ]
  },
  {
   "cell_type": "code",
   "execution_count": null,
   "metadata": {},
   "outputs": [
    {
     "name": "stdout",
     "output_type": "stream",
     "text": [
      "                        VX  SYMH\n",
      "datetime                        \n",
      "2012-01-01 00:00:00 -367.4   -11\n",
      "2012-01-01 00:05:00 -367.4   -10\n",
      "2012-01-01 00:10:00 -368.7    -9\n",
      "2012-01-01 00:15:00 -368.8    -8\n",
      "2012-01-01 00:20:00 -370.4    -7\n",
      "...                    ...   ...\n",
      "2020-01-01 23:35:00 -305.7     4\n",
      "2020-01-01 23:40:00 -306.6     4\n",
      "2020-01-01 23:45:00 -306.9     4\n",
      "2020-01-01 23:50:00 -307.4     5\n",
      "2020-01-01 23:55:00 -309.0     3\n",
      "\n",
      "[841824 rows x 2 columns]\n"
     ]
    }
   ],
   "source": [
    "V_H_5=V_H_5.drop(['VY'],axis=1)\n",
    "V_H_5=V_H_5.drop(['VZ'],axis=1)\n",
    "print(V_H_5)"
   ]
  },
  {
   "cell_type": "code",
   "execution_count": null,
   "metadata": {},
   "outputs": [
    {
     "data": {
      "text/plain": [
       "[<matplotlib.lines.Line2D at 0x203ca2d88b0>]"
      ]
     },
     "execution_count": 33,
     "metadata": {},
     "output_type": "execute_result"
    },
    {
     "data": {
      "image/png": "[encoded data removed]",
      "text/plain": [
       "<Figure size 640x480 with 1 Axes>"
      ]
     },
     "metadata": {},
     "output_type": "display_data"
    }
   ],
   "source": [
    "\n",
    "\n",
    "z_scores = np.abs(stats.zscore(V_H_5['VX']))\n",
    "threshold = 3  # 设置Z-score阈值\n",
    "V_H_5['VX_IS1'] = np.where(z_scores >= threshold, 0, 1)\n",
    "V_H_5['VX_no_outliers'] = V_H_5['VX'].where(z_scores < threshold, np.nan)  # 将异常值替换为NaN\n",
    "# 在原位置插值\n",
    "V_H_5['VX'] = V_H_5['VX_no_outliers'].interpolate(method='time')\n",
    "# 删除临时列\n",
    "V_H_5 = V_H_5.drop(columns=['VX_no_outliers'])\n",
    "\n",
    "# z_scores = np.abs(stats.zscore(V_H_5['VY']))\n",
    "# threshold = 3  # 设置Z-score阈值\n",
    "# V_H_5['VY_IS1'] = np.where(z_scores >= threshold, 0, 1)\n",
    "# V_H_5['VY_no_outliers'] = V_H_5['VY'].where(z_scores < threshold, np.nan)  # 将异常值替换为NaN\n",
    "# # 在原位置插值\n",
    "# V_H_5['VY'] = V_H_5['VY_no_outliers'].interpolate(method='time')\n",
    "# # 删除临时列\n",
    "# V_H_5 = V_H_5.drop(columns=['VY_no_outliers'])\n",
    "\n",
    "# z_scores = np.abs(stats.zscore(V_H_5['VZ']))\n",
    "# threshold = 3  # 设置Z-score阈值\n",
    "# V_H_5['VZ_IS1'] = np.where(z_scores >= threshold, 0, 1)\n",
    "# V_H_5['VZ_no_outliers'] = V_H_5['VZ'].where(z_scores < threshold, np.nan)  # 将异常值替换为NaN\n",
    "# # 在原位置插值\n",
    "# V_H_5['VZ'] = V_H_5['VZ_no_outliers'].interpolate(method='time')\n",
    "# # 删除临时列\n",
    "# V_H_5 = V_H_5.drop(columns=['VZ_no_outliers'])\n",
    "\n",
    "\n",
    "plt.plot(V_H_5.index, V_H_5['SYMH'])"
   ]
  },
  {
   "cell_type": "code",
   "execution_count": null,
   "metadata": {},
   "outputs": [
    {
     "name": "stdout",
     "output_type": "stream",
     "text": [
      "                             VX       SYMH    VX_IS1\n",
      "datetime                                            \n",
      "2012-01-01 00:00:00 -374.658333  -7.083333  1.000000\n",
      "2012-01-01 01:00:00 -381.091667  -2.666667  1.000000\n",
      "2012-01-01 02:00:00 -380.633333  -6.416667  1.000000\n",
      "2012-01-01 03:00:00 -371.725000  -8.500000  1.000000\n",
      "2012-01-01 04:00:00 -370.633333 -11.833333  1.000000\n",
      "...                         ...        ...       ...\n",
      "2020-01-01 19:00:00 -327.700000  -1.333333  1.000000\n",
      "2020-01-01 20:00:00 -326.316667   4.000000  1.000000\n",
      "2020-01-01 21:00:00 -321.150000   6.500000  0.666667\n",
      "2020-01-01 22:00:00 -310.816667   5.583333  0.583333\n",
      "2020-01-01 23:00:00 -307.491667   4.750000  0.833333\n",
      "\n",
      "[70152 rows x 3 columns]\n"
     ]
    }
   ],
   "source": [
    "#将V_H_5修改为1h的频率\n",
    "V_H_5=V_H_5.resample('1H').mean()\n",
    "print(V_H_5)"
   ]
  },
  {
   "cell_type": "code",
   "execution_count": null,
   "metadata": {},
   "outputs": [],
   "source": [
    "combined_df['Time'] = pd.to_datetime(combined_df['Time'])\n",
    "combined_df = combined_df.sort_values('Time')"
   ]
  },
  {
   "cell_type": "code",
   "execution_count": null,
   "metadata": {},
   "outputs": [],
   "source": [
    "combined_df = combined_df.reset_index(drop=True)"
   ]
  },
  {
   "cell_type": "code",
   "execution_count": null,
   "metadata": {},
   "outputs": [
    {
     "name": "stdout",
     "output_type": "stream",
     "text": [
      "0\n",
      "1\n",
      "2\n",
      "3\n",
      "4\n",
      "5\n",
      "6\n",
      "7\n",
      "8\n",
      "9\n",
      "10\n",
      "11\n",
      "12\n",
      "13\n",
      "14\n",
      "15\n",
      "16\n",
      "17\n",
      "18\n",
      "19\n",
      "20\n",
      "21\n",
      "22\n",
      "23\n",
      "24\n",
      "25\n",
      "26\n",
      "27\n",
      "28\n",
      "29\n",
      "30\n",
      "31\n",
      "32\n",
      "33\n",
      "34\n",
      "35\n",
      "36\n",
      "37\n",
      "38\n",
      "39\n",
      "40\n",
      "41\n",
      "42\n",
      "43\n",
      "44\n",
      "45\n",
      "46\n",
      "47\n",
      "48\n",
      "49\n",
      "50\n",
      "51\n",
      "52\n",
      "53\n",
      "54\n",
      "55\n",
      "56\n",
      "57\n",
      "58\n",
      "59\n",
      "60\n",
      "61\n",
      "62\n",
      "63\n",
      "64\n",
      "65\n",
      "66\n",
      "67\n",
      "68\n",
      "69\n",
      "70\n",
      "71\n",
      "72\n",
      "73\n",
      "74\n",
      "75\n",
      "76\n",
      "77\n",
      "78\n",
      "79\n",
      "80\n",
      "81\n",
      "82\n",
      "83\n",
      "84\n",
      "85\n",
      "86\n",
      "87\n",
      "88\n",
      "89\n",
      "90\n",
      "91\n",
      "92\n",
      "93\n",
      "94\n",
      "95\n",
      "96\n",
      "97\n",
      "98\n",
      "99\n",
      "100\n",
      "101\n",
      "102\n",
      "103\n",
      "104\n",
      "105\n",
      "106\n",
      "107\n",
      "108\n",
      "109\n",
      "110\n",
      "111\n",
      "112\n",
      "113\n",
      "114\n",
      "115\n",
      "116\n",
      "117\n",
      "118\n",
      "119\n",
      "120\n",
      "121\n",
      "122\n",
      "123\n",
      "124\n",
      "125\n",
      "126\n",
      "127\n",
      "128\n",
      "129\n",
      "130\n",
      "131\n",
      "132\n",
      "133\n",
      "134\n",
      "135\n",
      "136\n",
      "137\n",
      "138\n",
      "139\n",
      "140\n",
      "141\n",
      "142\n",
      "143\n",
      "144\n",
      "145\n",
      "146\n",
      "147\n",
      "148\n",
      "149\n",
      "150\n"
     ]
    }
   ],
   "source": [
    "\n",
    "combined_df_2 = combined_df['Time'].copy()\n",
    "\n",
    "for i in range(0, 301):\n",
    "    # 创建新的时间列，向后偏移 i 小时\n",
    "    combined_df[f'datetime_minus'] = combined_df_2 - pd.Timedelta(hours=i)\n",
    "    \n",
    "    # 重命名列\n",
    "    \n",
    "    rename_TQ = {col: f\"{col}_{i}h\" for col in TQ.columns if col != 'datetime'}\n",
    "    rename_V_H_5 = {col: f\"{col}_{i}h\" for col in V_H_5.columns if col != 'datetime'}\n",
    "\n",
    "    # 合并数据\n",
    "    combined_df = pd.merge_asof(\n",
    "        combined_df.sort_values(f'datetime_minus'),\n",
    "        V_H_5.rename(columns=rename_V_H_5).sort_values('datetime'),\n",
    "        left_on=f'datetime_minus', right_on='datetime',\n",
    "        direction='nearest', tolerance=pd.Timedelta('1H')\n",
    "    )\n",
    "    combined_df = pd.merge_asof(\n",
    "        combined_df.sort_values(f'datetime_minus'),\n",
    "        TQ.rename(columns=rename_TQ).sort_values('datetime'),\n",
    "        left_on=f'datetime_minus', right_on='datetime',\n",
    "        direction='nearest', tolerance=pd.Timedelta('1H')\n",
    "    )\n",
    "    \n",
    "    \n",
    "    # 删除多余的 'datetime' 列\n",
    "    combined_df.drop(columns=['datetime_minus'], inplace=True)\n",
    "    combined_df.rename(columns={'datetime_x': 'datetime'}, inplace=True)\n",
    "    print(i)\n"
   ]
  },
  {
   "cell_type": "code",
   "execution_count": null,
   "metadata": {},
   "outputs": [],
   "source": [
    "combined_df.to_hdf('combined_df_train.h5', key='df', mode='w')"
   ]
  },
  {
   "cell_type": "code",
   "execution_count": 2,
   "metadata": {},
   "outputs": [],
   "source": [
    "\n",
    "combined_df=pd.read_hdf('combined_df_train.h5', key='df')\n",
    "# #随机抽取10%的数据\n",
    "#combined_df = combined_df.sample(frac=0.8, replace=False, random_state=1565)\n"
   ]
  },
  {
   "cell_type": "code",
   "execution_count": 3,
   "metadata": {},
   "outputs": [],
   "source": [
    "combined_df=combined_df[combined_df['MLAT']>-90]"
   ]
  },
  {
   "cell_type": "code",
   "execution_count": null,
   "metadata": {},
   "outputs": [
    {
     "name": "stdout",
     "output_type": "stream",
     "text": [
      "                           Time        Flux  Flux_Error  PitchAngle  \\\n",
      "0       2012-10-05 00:02:15.891  490.435730    6.367156  155.454545   \n",
      "1       2012-10-05 00:03:22.160    5.807396   31.224318  106.363636   \n",
      "2       2012-10-05 00:03:43.449  187.287582   15.000000    8.181818   \n",
      "3       2012-10-05 00:04:38.170  604.792603    5.983421   40.909091   \n",
      "4       2012-10-05 00:05:00.649    3.760924   41.960934   90.000000   \n",
      "...                         ...         ...         ...         ...   \n",
      "1467336 2018-12-31 23:41:58.585    0.000000   72.370155  139.090909   \n",
      "1467337 2018-12-31 23:45:42.045    0.000000  102.889496    8.181818   \n",
      "1467338 2018-12-31 23:52:58.329    0.000000   82.561089  106.363636   \n",
      "1467339 2018-12-31 23:53:49.009    0.000000  110.160118  139.090909   \n",
      "1467340 2018-12-31 23:55:37.148    0.000000  116.690475  171.818182   \n",
      "\n",
      "              B_Calc         B_Eq         I         L    L_star        MLT  \\\n",
      "0         462.260007   431.858483  0.167121  4.091372  3.862556   4.133299   \n",
      "1         250.009141   158.303692  1.720462  5.680722  5.177750   8.026382   \n",
      "2         450.607525   419.669659  0.175716  4.129541  3.893961   4.169734   \n",
      "3         443.601680   412.340385  0.181155  4.153194  3.913382   4.192211   \n",
      "4         253.047595   160.044790  1.719875  5.660575  5.162890   8.051432   \n",
      "...              ...          ...       ...       ...       ...        ...   \n",
      "1467336   727.010553   565.715372  0.599446  3.719156  3.625244  21.398300   \n",
      "1467337  1237.551078  1223.614472  0.022730  2.902920  2.873862  22.979411   \n",
      "1467338   967.785467   802.266487  0.414645  3.323892  3.268814  21.802097   \n",
      "1467339  1685.028427  1683.867075  0.001274  2.610461  2.598963  23.391529   \n",
      "1467340  1821.742176  1821.643151  0.000101  2.543067  2.535534  23.494822   \n",
      "\n",
      "         ...  Kp_150h  Dst_150h  F107_150h  AE_150h  AL_150h  AU_150h  \\\n",
      "0        ...        0        12      138.3       34      -23       11   \n",
      "1        ...        0        12      138.3       34      -23       11   \n",
      "2        ...        0        12      138.3       34      -23       11   \n",
      "3        ...        0        12      138.3       34      -23       11   \n",
      "4        ...        0        12      138.3       34      -23       11   \n",
      "...      ...      ...       ...        ...      ...      ...      ...   \n",
      "1467336  ...       13        -7       67.3      156      -97       59   \n",
      "1467337  ...       13        -7       67.3      156      -97       59   \n",
      "1467338  ...       13        -7       67.3      156      -97       59   \n",
      "1467339  ...       13        -7       67.3      156      -97       59   \n",
      "1467340  ...       13        -7       67.3      156      -97       59   \n",
      "\n",
      "         BZGSM_IS1_150h  TEMP_IS1_150h  PDYN_IS1_150h  F107_IS1_150h  \n",
      "0                     1              1              1              1  \n",
      "1                     1              1              1              1  \n",
      "2                     1              1              1              1  \n",
      "3                     1              1              1              1  \n",
      "4                     1              1              1              1  \n",
      "...                 ...            ...            ...            ...  \n",
      "1467336               1              1              1              1  \n",
      "1467337               1              1              1              1  \n",
      "1467338               1              1              1              1  \n",
      "1467339               1              1              1              1  \n",
      "1467340               1              1              1              1  \n",
      "\n",
      "[1467341 rows x 2431 columns]\n"
     ]
    }
   ],
   "source": [
    "print(combined_df)"
   ]
  },
  {
   "cell_type": "code",
   "execution_count": 3,
   "metadata": {},
   "outputs": [],
   "source": [
    "#按照时间排序\n",
    "combined_df = combined_df.sort_values('Time')"
   ]
  },
  {
   "cell_type": "code",
   "execution_count": null,
   "metadata": {},
   "outputs": [
    {
     "name": "stdout",
     "output_type": "stream",
     "text": [
      "(1467341, 2431)\n"
     ]
    }
   ],
   "source": [
    "print(combined_df.shape)"
   ]
  },
  {
   "cell_type": "code",
   "execution_count": 4,
   "metadata": {},
   "outputs": [],
   "source": [
    "combined_df=combined_df[100000:]"
   ]
  },
  {
   "cell_type": "code",
   "execution_count": null,
   "metadata": {},
   "outputs": [
    {
     "name": "stdout",
     "output_type": "stream",
     "text": [
      "0           0\n",
      "1           0\n",
      "2           0\n",
      "3           0\n",
      "4           0\n",
      "           ..\n",
      "1467336    10\n",
      "1467337    10\n",
      "1467338    10\n",
      "1467339    10\n",
      "1467340    10\n",
      "Name: Kp_1h, Length: 1467341, dtype: int64\n"
     ]
    }
   ],
   "source": [
    "print(combined_df['Kp_1h'])"
   ]
  },
  {
   "cell_type": "code",
   "execution_count": null,
   "metadata": {},
   "outputs": [
    {
     "data": {
      "image/png": "[encoded data removed]",
      "text/plain": [
       "<Figure size 1200x600 with 1 Axes>"
      ]
     },
     "metadata": {},
     "output_type": "display_data"
    }
   ],
   "source": [
    "plt.figure(figsize=(12, 6))\n",
    "plt.hist(np.log10(combined_df['Flux']+10), bins=100)\n",
    "\n",
    "plt.show()"
   ]
  },
  {
   "cell_type": "code",
   "execution_count": null,
   "metadata": {},
   "outputs": [
    {
     "data": {
      "image/png": "[encoded data removed]",
      "text/plain": [
       "<Figure size 1200x600 with 1 Axes>"
      ]
     },
     "metadata": {},
     "output_type": "display_data"
    }
   ],
   "source": [
    "#画出df_with_kp['kp']分布\n",
    "plt.figure(figsize=(12, 6))\n",
    "plt.hist(combined_df['Kp_2h'])\n",
    "plt.xlabel('kp')\n",
    "plt.ylabel('Count')\n",
    "plt.title('Distribution of Kp')\n",
    "plt.show()"
   ]
  },
  {
   "cell_type": "code",
   "execution_count": 5,
   "metadata": {},
   "outputs": [
    {
     "name": "stdout",
     "output_type": "stream",
     "text": [
      "[0, 0, 0, 0, 0, 0, 0, 0, 0, 0, 0, 0, 0, 0, 0, 0, 0, 0, 0, 0, 0, 0, 0, 0, 0, 0, 0, 0, 0, 0, 0, 0, 0, 0, 0, 0, 0, 0, 0, 0, 0, 0, 0, 0, 0, 0, 0, 0, 0, 0, 0, 0, 0, 0, 0, 0, 0, 0, 0, 0, 0, 0, 0, 0, 0, 0, 0, 0, 0, 0, 0, 0, 0, 0, 0, 0, 0, 0, 0, 0, 0, 0, 0, 0, 0, 0, 0, 0, 0, 0, 0, 0, 0, 0, 0, 0, 0, 0, 0, 0, 0, 0, 0, 0, 0, 0, 0, 0, 0, 0, 0, 0, 0, 0, 0, 0, 0, 0, 0, 0, 0, 0, 0, 0, 0, 0, 0, 0, 0, 0, 0, 0, 0, 0, 0, 0, 0, 0, 0, 0, 0, 0, 0, 0, 0, 0, 0, 0, 0, 0, 0, 0, 0, 0, 0, 0, 0, 0, 0, 0, 0, 0, 0, 0, 0, 0, 0, 0, 0, 0, 0, 0, 0, 0, 0, 0, 0, 0, 0, 0, 0, 0, 0, 0, 0, 0, 0, 0, 0, 0, 0, 0, 0, 0, 0, 0, 0, 0, 0, 0, 0, 0, 0, 0, 0, 0, 0, 0, 0, 0, 0, 0, 0, 0, 0, 0, 0, 0, 0, 0, 0, 0, 0, 0, 0, 0, 0, 0, 0, 0, 0, 0, 0, 0, 0, 0, 0, 0, 0, 0, 0, 0, 0, 0, 0, 0, 0, 0, 0, 0, 0, 0, 0, 0, 0, 0, 0, 0, 0, 0, 0, 0, 0, 0, 0, 0, 0, 0, 0, 0, 0, 0, 0, 0, 0, 0, 0, 0, 0, 0, 0, 0, 0, 0, 0, 0, 0, 0, 0, 0, 0, 0, 0, 0, 0, 0, 0, 0, 0, 0, 0, 0, 0, 0, 0, 0, 0, 0, 0, 0, 0, 0, 0, 0, 0, 0, 0, 0, 0, 0, 0, 0, 0, 0, 0, 0, 0, 0, 0, 0, 0, 0, 0, 0, 0, 0, 0, 0, 0, 0, 0, 0, 0, 0, 0, 0, 0, 0, 0, 0, 0, 0, 0, 0, 0, 0, 0, 0, 0, 0, 0, 0, 0, 0, 0, 0, 0, 0, 0, 0, 0, 0, 0, 0, 0, 0, 0, 0, 0, 0, 0, 0, 0, 0, 0, 0, 0, 0, 0, 0, 0, 0, 0, 0, 0, 0, 0, 0, 0, 0, 0, 0, 0, 0, 0, 0, 0, 0, 0, 0, 0, 0, 0, 0, 0, 0, 0, 0, 0, 0, 0, 0, 0, 0, 0, 0, 0, 0, 0, 0, 0, 0, 0, 0, 0, 0, 0, 0, 0, 0, 0, 0, 0, 0, 0, 0, 0, 0, 0, 0, 0, 0, 0, 0, 0, 0, 0, 0, 0, 0, 0, 0, 0, 0, 0, 0, 0, 0, 0, 0, 0, 0, 0, 0, 0, 0, 0, 0, 0, 0, 0, 0, 0, 0, 0, 0, 0, 0, 0, 0, 0, 0, 0, 0, 0, 0, 0, 0, 0, 0, 0, 0, 0, 0, 0, 0, 0, 0, 0, 0, 0, 0, 0, 0, 0, 0, 0, 0, 0, 0, 0, 0, 0, 0, 0, 0, 0, 0, 0, 0, 0, 0, 0, 0, 0, 0, 0, 0, 0, 0, 0, 0, 0, 0, 0, 0, 0, 0, 0, 0, 0, 0, 0, 0, 0, 0, 0, 0, 0, 0, 0, 0, 0, 0, 0, 0, 0, 0, 0, 0, 0, 0, 0, 0, 0, 0, 0, 0, 0, 0, 0, 0, 0, 0, 0, 0, 0, 0, 0, 0, 0, 0, 0, 0, 0, 0, 0, 0, 0, 0, 0, 0, 0, 0, 0, 0, 0, 0, 0, 0, 0, 0, 0, 0, 0, 0, 0, 0, 0, 0, 0, 0, 0, 0, 0, 0, 0, 0, 0, 0, 0, 0, 0, 0, 0, 0, 0, 0, 0, 0, 0, 0, 0, 0, 0, 0, 0, 0, 0, 0, 0, 0, 0, 0, 0, 0, 0, 0, 0, 0, 0, 0, 0, 0, 0, 0, 0, 0, 0, 0, 0, 0, 0, 0, 0, 0, 0, 0, 0, 0, 0, 0, 0, 0, 0, 0, 0, 0, 0, 0, 0, 0, 0, 0, 0, 0, 0, 0, 0, 0, 0, 0, 0, 0, 0, 0, 0, 0, 0, 0, 0, 0, 0, 0, 0, 0, 0, 0, 0, 0, 0, 0, 0, 0, 0, 0, 0, 0, 0, 0, 0, 0, 0, 0, 0, 0, 0, 0, 0, 0, 0, 0, 0, 0, 0, 0, 0, 0, 0, 0, 0, 0, 0, 0, 0, 0, 0, 0, 0, 0, 0, 0, 0, 0, 0, 0, 0, 0, 0, 0, 0, 0, 0, 0, 0, 0, 0, 0, 0, 0, 0, 0, 0, 0, 0, 0, 0, 0, 0, 0, 0, 0, 0, 0, 0, 0, 0, 0, 0, 0, 0, 0, 0, 0, 0, 0, 0, 0, 0, 0, 0, 0, 0, 0, 0, 0, 0, 0, 0, 0, 0, 0, 0, 0, 0, 0, 0, 0, 0, 0, 0, 0, 0, 0, 0, 0, 0, 0, 0, 0, 0, 0, 0, 0, 0, 0, 0, 0, 0, 0, 0, 0, 0, 0, 0, 0, 0, 0, 0, 0, 0, 0, 0, 0, 0, 0, 0, 0, 0, 0, 0, 0, 0, 0, 0, 0, 0, 0, 0, 0, 0, 0, 0, 0, 0, 0, 0, 0, 0, 0, 0, 0, 0, 0, 0, 0, 0, 0, 0, 0, 0, 0, 0, 0, 0, 0, 0, 0, 0, 0, 0, 0, 0, 0, 0, 0, 0, 0, 0, 0, 0, 0, 0, 0, 0, 0, 0, 0, 0, 0, 0, 0, 0, 0, 0, 0, 0, 0, 0, 0, 0, 0, 0, 0, 0, 0, 0, 0, 0, 0, 0, 0, 0, 0, 0, 0, 0, 0, 0, 0, 0, 0, 0, 0, 0, 0, 0, 0, 0, 0, 0, 0, 0, 0, 0, 0, 0, 0, 0, 0, 0, 0, 0, 0, 0, 0, 0, 0, 0, 0, 0, 0, 0, 0, 0, 0, 0, 0, 0, 0, 0, 0, 0, 0, 0, 0, 0, 0, 0, 0, 0, 0, 0, 0, 0, 0, 0, 0, 0, 0, 0, 0, 0, 0, 0, 0, 0, 0, 0, 0, 0, 0, 0, 0, 0, 0, 0, 0, 0, 0, 0, 0, 0, 0, 0, 0, 0, 0, 0, 0, 0, 0, 0, 0, 0, 0, 0, 0, 0, 0, 0, 0, 0, 0, 0, 0, 0, 0, 0, 0, 0, 0, 0, 0, 0, 0, 0, 0, 0, 0, 0, 0, 0, 0, 0, 0, 0, 0, 0, 0, 0, 0, 0, 0, 0, 0, 0, 0, 0, 0, 0, 0, 0, 0, 0, 0, 0, 0, 0, 0, 0, 0, 0, 0, 0, 0, 0, 0, 0, 0, 0, 0, 0, 0, 0, 0, 0, 0, 0, 0, 0, 0, 0, 0, 0, 0, 0, 0, 0, 0, 0, 0, 0, 0, 0, 0, 0, 0, 0, 0, 0, 0, 0, 0, 0, 0, 0, 0, 0, 0, 0, 0, 0, 0, 0, 0, 0, 0, 0, 0, 0, 0, 0, 0, 0, 0, 0, 0, 0, 0, 0, 0, 0, 0, 0, 0, 0, 0, 0, 0, 0, 0, 0, 0, 0, 0, 0, 0, 0, 0, 0, 0, 0, 0, 0, 0, 0, 0, 0, 0, 0, 0, 0, 0, 0, 0, 0, 0, 0, 0, 0, 0, 0, 0, 0, 0, 0, 0, 0, 0, 0, 0, 0, 0, 0, 0, 0, 0, 0, 0, 0, 0, 0, 0, 0, 0, 0, 0, 0, 0, 0, 0, 0, 0, 0, 0, 0, 0, 0, 0, 0, 0, 0, 0, 0, 0, 0, 0, 0, 0, 0, 0, 0, 0, 0, 0, 0, 0, 0, 0, 0, 0, 0, 0, 0, 0, 0, 0, 0, 0, 0, 0, 0, 0, 0, 0, 0, 0, 0, 0, 0, 0, 0, 0, 0, 0, 0, 0, 0, 0, 0, 0, 0, 0, 0, 0, 0, 0, 0, 0, 0, 0, 0, 0, 0, 0, 0, 0, 0, 0, 0, 0, 0, 0, 0, 0, 0, 0, 0, 0, 0, 0, 0, 0, 0, 0, 0, 0, 0, 0, 0, 0, 0, 0, 0, 0, 0, 0, 0, 0, 0, 0, 0, 0, 0, 0, 0, 0, 0, 0, 0, 0, 0, 0, 0, 0, 0, 0, 0, 0, 0, 0, 0, 0, 0, 0, 0, 0, 0, 0, 0, 0, 0, 0, 0, 0, 0, 0, 0, 0, 0, 0, 0, 0, 0, 0, 0, 0, 0, 0, 0, 0, 0, 0, 0, 0, 0, 0, 0, 0, 0, 0, 0, 0, 0, 0, 0, 0, 0, 0, 0, 0, 0, 0, 0, 0, 0, 0, 0, 0, 0, 0, 0, 0, 0, 0, 0, 0, 0, 0, 0, 0, 0, 0, 0, 0, 0, 0, 0, 0, 0, 0, 0, 0, 0, 0, 0, 0, 0, 0, 0, 0, 0, 0, 0, 0, 0, 0, 0, 0, 0, 0, 0, 0, 0, 0, 0, 0, 0, 0, 0, 0, 0, 0, 0, 0, 0, 0, 0, 0, 0, 0, 0, 0, 0, 0, 0, 0, 0, 0, 0, 0, 0, 0, 0, 0, 0, 0, 0, 0, 0, 0, 0, 0, 0, 0, 0, 0, 0, 0, 0, 0, 0, 0, 0, 0, 0, 0, 0, 0, 0, 0, 0, 0, 0, 0, 0, 0, 0, 0, 0, 0, 0, 0, 0, 0, 0, 0, 0, 0, 0, 0, 0, 0, 0, 0, 0, 0, 0, 0, 0, 0, 0, 0, 0, 0, 0, 0, 0, 0, 0, 0, 0, 0, 0, 0, 0, 0, 0, 0, 0, 0, 0, 0, 0, 0, 0, 0, 0, 0, 0, 0, 0, 0, 0, 0, 0, 0, 0, 0, 0, 0, 0, 0, 0, 0, 0, 0, 0, 0, 0, 0, 0, 0, 0, 0, 0, 0, 0, 0, 0, 0, 0, 0, 0, 0, 0, 0, 0, 0, 0, 0, 0, 0, 0, 0, 0, 0, 0, 0, 0, 0, 0, 0, 0, 0, 0, 0, 0, 0, 0, 0, 0, 0, 0, 0, 0, 0, 0, 0, 0, 0, 0, 0, 0, 0, 0, 0, 0, 0, 0, 0, 0, 0, 0, 0, 0, 0, 0, 0, 0, 0, 0, 0, 0, 0, 0, 0, 0, 0, 0, 0, 0, 0, 0, 0, 0, 0, 0, 0, 0, 0, 0, 0, 0, 0, 0, 0, 0, 0, 0, 0, 0, 0, 0, 0, 0, 0, 0, 0, 0, 0, 0, 0, 0, 0, 0, 0, 0, 0, 0, 0, 0, 0, 0, 0, 0, 0, 0, 0, 0, 0, 0, 0, 0, 0, 0, 0, 0, 0, 0, 0, 0, 0, 0, 0, 0, 0, 0, 0, 0, 0, 0, 0, 0, 0, 0, 0, 0, 0, 0, 0, 0, 0, 0, 0, 0, 0, 0, 0, 0, 0, 0, 0, 0, 0, 0, 0, 0, 0, 0, 0, 0, 0, 0, 0, 0, 0, 0, 0, 0, 0, 0, 0, 0, 0, 0, 0, 0, 0, 0, 0, 0, 0, 0, 0, 0, 0, 0, 0, 0, 0, 0, 0, 0, 0, 0, 0, 0, 0, 0, 0, 0, 0, 0, 0, 0, 0, 0, 0, 0, 0, 0, 0, 0, 0, 0, 0, 0, 0, 0, 0, 0, 0, 0, 0, 0, 0, 0, 0, 0, 0, 0, 0, 0, 0, 0, 0, 0, 0, 0, 0, 0, 0, 0, 0, 0, 0, 0, 0, 0, 0, 0, 0, 0, 0, 0, 0, 0, 0, 0, 0, 0, 0, 0, 0, 0, 0, 0, 0, 0, 0, 0, 0, 0, 0, 0, 0, 0, 0, 0, 0, 0, 0, 0, 0, 0, 0, 0, 0, 0, 0, 0, 0, 0, 0, 0, 0, 0, 0, 0, 0, 0, 0, 0, 0, 0, 0, 0, 0, 0, 0, 0, 0, 0, 0, 0, 0, 0, 0, 0, 0, 0, 0, 0, 0, 0, 0, 0, 0, 0, 0, 0, 0, 0, 0, 0, 0, 0, 0, 0, 0, 0, 0, 0, 0, 0, 0, 0, 0, 0, 0, 0, 0, 0, 0, 0, 0, 0, 0, 0, 0, 0, 0, 0, 0, 0, 0, 0, 0, 0, 0, 0, 0, 0, 0, 0, 0, 0, 0, 0, 0, 0, 0, 0, 0, 0, 0, 0, 0, 0, 0, 0, 0, 0, 0, 0, 0, 0, 0, 0, 0, 0, 0, 0, 0, 0, 0, 0, 0, 0, 0, 0, 0, 0, 0, 0, 0, 0, 0, 0, 0, 0, 0, 0, 0, 0, 0, 0, 0, 0, 0, 0, 0, 0, 0, 0, 0, 0, 0, 0, 0, 0, 0, 0, 0, 0, 0, 0, 0, 0, 0, 0, 0, 0, 0, 0, 0, 0, 0, 0, 0, 0, 0, 0, 0, 0, 0, 0, 0, 0, 0, 0, 0, 0, 0, 0, 0, 0, 0, 0, 0, 0, 0, 0, 0, 0, 0, 0, 0, 0, 0, 0, 0, 0, 0, 0, 0, 0, 0, 0, 0, 0, 0, 0, 0, 0, 0, 0, 0, 0, 0, 0, 0, 0, 0, 0, 0, 0, 0, 0, 0, 0, 0, 0, 0, 0, 0, 0, 0, 0, 0, 0, 0, 0, 0, 0, 0, 0, 0, 0, 0, 0, 0, 0, 0, 0, 0, 0, 0, 0, 0, 0, 0, 0, 0, 0, 0, 0, 0, 0, 0, 0, 0, 0, 0, 0, 0, 0, 0, 0, 0, 0, 0, 0, 0, 0, 0, 0, 0, 0, 0, 0, 0, 0, 0, 0, 0, 0, 0, 0, 0, 0, 0, 0, 0, 0, 0, 0, 0, 0, 0, 0, 0, 0, 0, 0, 0, 0, 0, 0, 0, 0, 0, 0, 0, 0, 0, 0, 0, 0, 0, 0, 0, 0, 0, 0, 0, 0, 0, 0, 0, 0, 0, 0, 0, 0, 0, 0, 0, 0, 0, 0, 0, 0, 0, 0, 0, 0, 0, 0, 0, 0, 0, 0, 0, 0, 0, 0, 0, 0, 0, 0, 0, 0, 0, 0, 0, 0, 0, 0, 0, 0, 0, 0, 0, 0, 0, 0, 0, 0, 0, 0, 0, 0, 0, 0, 0, 0, 0, 0, 0, 0, 0, 0, 0, 0, 0, 0, 0, 0, 0, 0, 0, 0, 0, 0, 0, 0, 0, 0, 0, 0, 0, 0, 0, 0, 0, 0, 0, 0, 0, 0, 0, 0, 0, 0, 0, 0, 0, 0, 0, 0, 0, 0, 0, 0, 0, 0, 0, 0, 0, 0, 0, 0, 0, 0, 0, 0, 0, 0, 0, 0, 0, 0, 0, 0, 0, 0, 0, 0, 0, 0, 0, 0, 0, 0, 0, 0, 0, 0, 0, 0, 0, 0, 0, 0, 0, 0, 0, 0, 0, 0, 0, 0, 0, 0, 0, 0, 0, 0]\n"
     ]
    }
   ],
   "source": [
    "#检查是否有缺失值\n",
    "print(combined_df.isnull().sum().tolist())\n"
   ]
  },
  {
   "cell_type": "code",
   "execution_count": null,
   "metadata": {},
   "outputs": [
    {
     "name": "stdout",
     "output_type": "stream",
     "text": [
      "(1173873, 2431)\n"
     ]
    }
   ],
   "source": [
    "print(combined_df.shape)"
   ]
  },
  {
   "cell_type": "code",
   "execution_count": null,
   "metadata": {},
   "outputs": [],
   "source": [
    "\n",
    "\n",
    "\n",
    "# combined_df = combined_df.dropna()\n",
    "# print(combined_df.isnull().sum().tolist())\n"
   ]
  },
  {
   "cell_type": "code",
   "execution_count": null,
   "metadata": {},
   "outputs": [
    {
     "name": "stdout",
     "output_type": "stream",
     "text": [
      "[0, 0, 0, 0, 0, 0, 0, 0, 0, 0, 0, 0, 0, 0, 0, 0, 0, 0, 0, 0, 0, 0, 0, 0, 0, 0, 0, 0, 0, 0, 0, 0, 0, 0, 0, 0, 0, 0, 0, 0, 0, 0, 0, 0, 0, 0, 0, 0, 0, 0, 0, 0, 0, 0, 0, 0, 0, 0, 0, 0, 0, 0, 0, 0, 0, 0, 0, 0, 0, 0, 0, 0, 0, 0, 0, 0, 0, 0, 0, 0, 0, 0, 0, 0, 0, 0, 0, 0, 0, 0, 0, 0, 0, 0, 0, 0, 0, 0, 0, 0, 0, 0, 0, 0, 0, 0, 0, 0, 0, 0, 0, 0, 0, 0, 0, 0, 0, 0, 0, 0, 0, 0, 0, 0, 0, 0, 0, 0, 0, 0, 0, 0, 0, 0, 0, 0, 0, 0, 0, 0, 0, 0, 0, 0, 0, 0, 0, 0, 0, 0, 0, 0, 0, 0, 0, 0, 0, 0, 0, 0, 0, 0, 0, 0, 0, 0, 0, 0, 0, 0, 0, 0, 0, 0, 0, 0, 0, 0, 0, 0, 0, 0, 0, 0, 0, 0, 0, 0, 0, 0, 0, 0, 0, 0, 0, 0, 0, 0, 0, 0, 0, 0, 0, 0, 0, 0, 0, 0, 0, 0, 0, 0, 0, 0, 0, 0, 0, 0, 0, 0, 0, 0, 0, 0, 0, 0, 0, 0, 0, 0, 0, 0, 0, 0, 0, 0, 0, 0, 0, 0, 0, 0, 0, 0, 0, 0, 0, 0, 0, 0, 0, 0, 0, 0, 0, 0, 0, 0, 0, 0, 0, 0, 0, 0, 0, 0, 0, 0, 0, 0, 0, 0, 0, 0, 0, 0, 0, 0, 0, 0, 0, 0, 0, 0, 0, 0, 0, 0, 0, 0, 0, 0, 0, 0, 0, 0, 0, 0, 0, 0, 0, 0, 0, 0, 0, 0, 0, 0, 0, 0, 0, 0, 0, 0, 0, 0, 0, 0, 0, 0, 0, 0, 0, 0, 0, 0, 0, 0, 0, 0, 0, 0, 0, 0, 0, 0, 0, 0, 0, 0, 0, 0, 0, 0, 0, 0, 0, 0, 0, 0, 0, 0, 0, 0, 0, 0, 0, 0, 0, 0, 0, 0, 0, 0, 0, 0, 0, 0, 0, 0, 0, 0, 0, 0, 0, 0, 0, 0, 0, 0, 0, 0, 0, 0, 0, 0, 0, 0, 0, 0, 0, 0, 0, 0, 0, 0, 0, 0, 0, 0, 0, 0, 0, 0, 0, 0, 0, 0, 0, 0, 0, 0, 0, 0, 0, 0, 0, 0, 0, 0, 0, 0, 0, 0, 0, 0, 0, 0, 0, 0, 0, 0, 0, 0, 0, 0, 0, 0, 0, 0, 0, 0, 0, 0, 0, 0, 0, 0, 0, 0, 0, 0, 0, 0, 0, 0, 0, 0, 0, 0, 0, 0, 0, 0, 0, 0, 0, 0, 0, 0, 0, 0, 0, 0, 0, 0, 0, 0, 0, 0, 0, 0, 0, 0, 0, 0, 0, 0, 0, 0, 0, 0, 0, 0, 0, 0, 0, 0, 0, 0, 0, 0, 0, 0, 0, 0, 0, 0, 0, 0, 0, 0, 0, 0, 0, 0, 0, 0, 0, 0, 0, 0, 0, 0, 0, 0, 0, 0, 0, 0, 0, 0, 0, 0, 0, 0, 0, 0, 0, 0, 0, 0, 0, 0, 0, 0, 0, 0, 0, 0, 0, 0, 0, 0, 0, 0, 0, 0, 0, 0, 0, 0, 0, 0, 0, 0, 0, 0, 0, 0, 0, 0, 0, 0, 0, 0, 0, 0, 0, 0, 0, 0, 0, 0, 0, 0, 0, 0, 0, 0, 0, 0, 0, 0, 0, 0, 0, 0, 0, 0, 0, 0, 0, 0, 0, 0, 0, 0, 0, 0, 0, 0, 0, 0, 0, 0, 0, 0, 0, 0, 0, 0, 0, 0, 0, 0, 0, 0, 0, 0, 0, 0, 0, 0, 0, 0, 0, 0, 0, 0, 0, 0, 0, 0, 0, 0, 0, 0, 0, 0, 0, 0, 0, 0, 0, 0, 0, 0, 0, 0, 0, 0, 0, 0, 0, 0, 0, 0, 0, 0, 0, 0, 0, 0, 0, 0, 0, 0, 0, 0, 0, 0, 0, 0, 0, 0, 0, 0, 0, 0, 0, 0, 0, 0, 0, 0, 0, 0, 0, 0, 0, 0, 0, 0, 0, 0, 0, 0, 0, 0, 0, 0, 0, 0, 0, 0, 0, 0, 0, 0, 0, 0, 0, 0, 0, 0, 0, 0, 0, 0, 0, 0, 0, 0, 0, 0, 0, 0, 0, 0, 0, 0, 0, 0, 0, 0, 0, 0, 0, 0, 0, 0, 0, 0, 0, 0, 0, 0, 0, 0, 0, 0, 0, 0, 0, 0, 0, 0, 0, 0, 0, 0, 0, 0, 0, 0, 0, 0, 0, 0, 0, 0, 0, 0, 0, 0, 0, 0, 0, 0, 0, 0, 0, 0, 0, 0, 0, 0, 0, 0, 0, 0, 0, 0, 0, 0, 0, 0, 0, 0, 0, 0, 0, 0, 0, 0, 0, 0, 0, 0, 0, 0, 0, 0, 0, 0, 0, 0, 0, 0, 0, 0, 0, 0, 0, 0, 0, 0, 0, 0, 0, 0, 0, 0, 0, 0, 0, 0, 0, 0, 0, 0, 0, 0, 0, 0, 0, 0, 0, 0, 0, 0, 0, 0, 0, 0, 0, 0, 0, 0, 0, 0, 0, 0, 0, 0, 0, 0, 0, 0, 0, 0, 0, 0, 0, 0, 0, 0, 0, 0, 0, 0, 0, 0, 0, 0, 0, 0, 0, 0, 0, 0, 0, 0, 0, 0, 0, 0, 0, 0, 0, 0, 0, 0, 0, 0, 0, 0, 0, 0, 0, 0, 0, 0, 0, 0, 0, 0, 0, 0, 0, 0, 0, 0, 0, 0, 0, 0, 0, 0, 0, 0, 0, 0, 0, 0, 0, 0, 0, 0, 0, 0, 0, 0, 0, 0, 0, 0, 0, 0, 0, 0, 0, 0, 0, 0, 0, 0, 0, 0, 0, 0, 0, 0, 0, 0, 0, 0, 0, 0, 0, 0, 0, 0, 0, 0, 0, 0, 0, 0, 0, 0, 0, 0, 0, 0, 0, 0, 0, 0, 0, 0, 0, 0, 0, 0, 0, 0, 0, 0, 0, 0, 0, 0, 0, 0, 0, 0, 0, 0, 0, 0, 0, 0, 0, 0, 0, 0, 0, 0, 0, 0, 0, 0, 0, 0, 0, 0, 0, 0, 0, 0, 0, 0, 0, 0, 0, 0, 0, 0, 0, 0, 0, 0, 0, 0, 0, 0, 0, 0, 0, 0, 0, 0, 0, 0, 0, 0, 0, 0, 0, 0, 0, 0, 0, 0, 0, 0, 0, 0, 0, 0, 0, 0, 0, 0, 0, 0, 0, 0, 0, 0, 0, 0, 0, 0, 0, 0, 0, 0, 0, 0, 0, 0, 0, 0, 0, 0, 0, 0, 0, 0, 0, 0, 0, 0, 0, 0, 0, 0, 0, 0, 0, 0, 0, 0, 0, 0, 0, 0, 0, 0, 0, 0, 0, 0, 0, 0, 0, 0, 0, 0, 0, 0, 0, 0, 0, 0, 0, 0, 0, 0, 0, 0, 0, 0, 0, 0, 0, 0, 0, 0, 0, 0, 0, 0, 0, 0, 0, 0, 0, 0, 0, 0, 0, 0, 0, 0, 0, 0, 0, 0, 0, 0, 0, 0, 0, 0, 0, 0, 0, 0, 0, 0, 0, 0, 0, 0, 0, 0, 0, 0, 0, 0, 0, 0, 0, 0, 0, 0, 0, 0, 0, 0, 0, 0, 0, 0, 0, 0, 0, 0, 0, 0, 0, 0, 0, 0, 0, 0, 0, 0, 0, 0, 0, 0, 0, 0, 0, 0, 0, 0, 0, 0, 0, 0, 0, 0, 0, 0, 0, 0, 0, 0, 0, 0, 0, 0, 0, 0, 0, 0, 0, 0, 0, 0, 0, 0, 0, 0, 0, 0, 0, 0, 0, 0, 0, 0, 0, 0, 0, 0, 0, 0, 0, 0, 0, 0, 0, 0, 0, 0, 0, 0, 0, 0, 0, 0, 0, 0, 0, 0, 0, 0, 0, 0, 0, 0, 0, 0, 0, 0, 0, 0, 0, 0, 0, 0, 0, 0, 0, 0, 0, 0, 0, 0, 0, 0, 0, 0, 0, 0, 0, 0, 0, 0, 0, 0, 0, 0, 0, 0, 0, 0, 0, 0, 0, 0, 0, 0, 0, 0, 0, 0, 0, 0, 0, 0, 0, 0, 0, 0, 0, 0, 0, 0, 0, 0, 0, 0, 0, 0, 0, 0, 0, 0, 0, 0, 0, 0, 0, 0, 0, 0, 0, 0, 0, 0, 0, 0, 0, 0, 0, 0, 0, 0, 0, 0, 0, 0, 0, 0, 0, 0, 0, 0, 0, 0, 0, 0, 0, 0, 0, 0, 0, 0, 0, 0, 0, 0, 0, 0, 0, 0, 0, 0, 0, 0, 0, 0, 0, 0, 0, 0, 0, 0, 0, 0, 0, 0, 0, 0, 0, 0, 0, 0, 0, 0, 0, 0, 0, 0, 0, 0, 0, 0, 0, 0, 0, 0, 0, 0, 0, 0, 0, 0, 0, 0, 0, 0, 0, 0, 0, 0, 0, 0, 0, 0, 0, 0, 0, 0, 0, 0, 0, 0, 0, 0, 0, 0, 0, 0, 0, 0, 0, 0, 0, 0, 0, 0, 0, 0, 0, 0, 0, 0, 0, 0, 0, 0, 0, 0, 0, 0, 0, 0, 0, 0, 0, 0, 0, 0, 0, 0, 0, 0, 0, 0, 0, 0, 0, 0, 0, 0, 0, 0, 0, 0, 0, 0, 0, 0, 0, 0, 0, 0, 0, 0, 0, 0, 0, 0, 0, 0, 0, 0, 0, 0, 0, 0, 0, 0, 0, 0, 0, 0, 0, 0, 0, 0, 0, 0, 0, 0, 0, 0, 0, 0, 0, 0, 0, 0, 0, 0, 0, 0, 0, 0, 0, 0, 0, 0, 0, 0, 0, 0, 0, 0, 0, 0, 0, 0, 0, 0, 0, 0, 0, 0, 0, 0, 0, 0, 0, 0, 0, 0, 0, 0, 0, 0, 0, 0, 0, 0, 0, 0, 0, 0, 0, 0, 0, 0, 0, 0, 0, 0, 0, 0, 0, 0, 0, 0, 0, 0, 0, 0, 0, 0, 0, 0, 0, 0, 0, 0, 0, 0, 0, 0, 0, 0, 0, 0, 0, 0, 0, 0, 0, 0, 0, 0, 0, 0, 0, 0, 0, 0, 0, 0, 0, 0, 0, 0, 0, 0, 0, 0, 0, 0, 0, 0, 0, 0, 0, 0, 0, 0, 0, 0, 0, 0, 0, 0, 0, 0, 0, 0, 0, 0, 0, 0, 0, 0, 0, 0, 0, 0, 0, 0, 0, 0, 0, 0, 0, 0, 0, 0, 0, 0, 0, 0, 0, 0, 0, 0, 0, 0, 0, 0, 0, 0, 0, 0, 0, 0, 0, 0, 0, 0, 0, 0, 0, 0, 0, 0, 0, 0, 0, 0, 0, 0, 0, 0, 0, 0, 0, 0, 0, 0, 0, 0, 0, 0, 0, 0, 0, 0, 0, 0, 0, 0, 0, 0, 0, 0, 0, 0, 0, 0, 0, 0, 0, 0, 0, 0, 0, 0, 0, 0, 0, 0, 0, 0, 0, 0, 0, 0, 0, 0, 0, 0, 0, 0, 0, 0, 0, 0, 0, 0, 0, 0, 0, 0, 0, 0, 0, 0, 0, 0, 0, 0, 0, 0, 0, 0, 0, 0, 0, 0, 0, 0, 0, 0, 0, 0, 0, 0, 0, 0, 0, 0, 0, 0, 0, 0, 0, 0, 0, 0, 0, 0, 0, 0, 0, 0, 0, 0, 0, 0, 0, 0, 0, 0, 0, 0, 0, 0, 0, 0, 0, 0, 0, 0, 0, 0, 0, 0, 0, 0, 0, 0, 0, 0, 0, 0, 0, 0, 0, 0, 0, 0, 0, 0, 0, 0, 0, 0, 0, 0, 0, 0, 0, 0, 0, 0, 0, 0, 0, 0, 0, 0, 0, 0, 0, 0, 0, 0, 0, 0, 0, 0, 0, 0, 0, 0, 0, 0, 0, 0, 0, 0, 0, 0, 0, 0, 0, 0, 0, 0, 0, 0, 0, 0, 0, 0, 0, 0, 0, 0, 0, 0, 0, 0, 0, 0, 0, 0, 0, 0, 0, 0, 0, 0, 0, 0, 0, 0, 0, 0, 0, 0, 0, 0, 0, 0, 0, 0, 0, 0, 0, 0, 0, 0, 0, 0, 0, 0, 0, 0, 0, 0, 0, 0, 0, 0, 0, 0, 0, 0, 0, 0, 0, 0, 0, 0, 0, 0, 0, 0, 0, 0, 0, 0, 0, 0, 0, 0, 0, 0, 0, 0, 0, 0, 0, 0, 0, 0, 0, 0, 0, 0, 0, 0, 0, 0, 0, 0, 0, 0, 0, 0, 0, 0, 0, 0, 0, 0, 0, 0, 0, 0, 0, 0, 0, 0, 0, 0, 0, 0, 0, 0, 0, 0, 0, 0, 0, 0, 0, 0, 0, 0, 0, 0, 0, 0, 0, 0, 0, 0, 0, 0, 0, 0, 0, 0, 0, 0, 0, 0, 0, 0, 0, 0, 0, 0, 0, 0, 0, 0, 0, 0, 0, 0, 0, 0, 0, 0, 0, 0, 0, 0, 0, 0, 0, 0, 0, 0, 0, 0, 0, 0, 0, 0, 0, 0, 0, 0, 0, 0, 0, 0, 0, 0, 0, 0, 0, 0, 0, 0, 0, 0, 0, 0, 0, 0, 0, 0, 0, 0, 0, 0, 0, 0, 0, 0, 0, 0, 0, 0, 0, 0, 0, 0, 0, 0, 0, 0, 0, 0, 0, 0, 0, 0, 0, 0, 0, 0, 0, 0, 0, 0, 0, 0, 0, 0, 0, 0, 0, 0, 0, 0, 0, 0, 0, 0, 0, 0, 0, 0, 0, 0, 0, 0, 0, 0, 0, 0, 0, 0, 0, 0, 0, 0, 0, 0, 0, 0, 0, 0, 0, 0, 0, 0, 0, 0, 0, 0, 0, 0, 0, 0, 0, 0, 0, 0, 0, 0, 0, 0, 0, 0, 0, 0, 0, 0, 0, 0, 0, 0, 0, 0, 0, 0, 0, 0, 0, 0, 0, 0, 0, 0, 0, 0, 0, 0, 0, 0, 0, 0, 0, 0, 0, 0, 0, 0, 0, 0, 0, 0, 0, 0, 0, 0, 0, 0, 0, 0, 0, 0, 0, 0, 0, 0, 0, 0, 0, 0, 0, 0, 0, 0, 0, 0, 0, 0, 0, 0, 0, 0, 0, 0, 0, 0, 0, 0, 0, 0, 0, 0, 0, 0, 0, 0, 0, 0, 0, 0, 0, 0, 0, 0, 0, 0, 0, 0, 0, 0, 0, 0, 0, 0, 0, 0, 0, 0, 0, 0, 0, 0, 0, 0, 0, 0, 0, 0, 0, 0, 0, 0, 0, 0, 0, 0, 0, 0, 0, 0, 0, 0, 0, 0, 0, 0, 0, 0, 0, 0, 0, 0, 0, 0, 0, 0, 0, 0, 0, 0, 0, 0, 0, 0, 0, 0, 0, 0, 0, 0, 0, 0, 0, 0, 0, 0, 0, 0, 0, 0, 0, 0, 0, 0, 0, 0, 0, 0, 0, 0, 0, 0, 0, 0, 0]\n"
     ]
    }
   ],
   "source": [
    "print(combined_df.isnull().sum().tolist())"
   ]
  },
  {
   "cell_type": "code",
   "execution_count": null,
   "metadata": {},
   "outputs": [
    {
     "name": "stdout",
     "output_type": "stream",
     "text": [
      "                           Time        Flux  Flux_Error  PitchAngle  \\\n",
      "1446242 2018-12-03 09:44:03.008   26.573950   20.888264  155.454545   \n",
      "1464013 2018-12-27 03:25:59.211    0.000000   84.678474    8.181818   \n",
      "373187  2014-04-03 09:35:19.277    0.000000   78.128098   73.636364   \n",
      "494142  2014-11-09 23:28:56.844    0.000000  283.637115  122.727273   \n",
      "1395493 2018-09-23 04:55:49.842  361.854065    4.093741  122.727273   \n",
      "...                         ...         ...         ...         ...   \n",
      "78767   2013-02-01 23:14:25.069    3.954598   49.000000  171.818182   \n",
      "111299  2013-03-20 10:19:44.510    0.000000  369.153108  106.363636   \n",
      "912099  2016-08-17 15:51:42.631    0.000000   72.502586   90.000000   \n",
      "515862  2014-12-09 18:48:30.377   22.792614   20.935389   90.000000   \n",
      "809971  2016-02-28 14:15:32.450  143.290268    9.723484   73.636364   \n",
      "\n",
      "               B_Calc         B_Eq         I         L    L_star        MLT  \\\n",
      "1446242    281.558017   280.978721  0.006141  4.740934  4.454257  19.639394   \n",
      "1464013   1364.545483  1120.197850  0.401500  2.978128  2.953617  23.863067   \n",
      "373187    3509.867333  3505.347369  0.001884  2.044652  2.030102   5.562314   \n",
      "494142   11258.130080  6753.201076  0.588856  1.641363  1.641820  18.715721   \n",
      "1395493    181.720040   180.804442  0.014816  5.489432  5.052455  21.570698   \n",
      "...               ...          ...       ...       ...       ...        ...   \n",
      "78767      168.420093    95.863398  1.414894  6.245838  5.582488   2.270819   \n",
      "111299   13566.001870  8521.071281  0.491743  1.516629  1.517172  17.242603   \n",
      "912099    1347.372983  1038.066001  0.543150  3.051960  2.988183   6.407892   \n",
      "515862     170.346027    84.684666  1.677036  6.337075  5.655756   0.862466   \n",
      "809971     155.011245   154.722818  0.007404  5.784453  5.105765   8.875185   \n",
      "\n",
      "         ...  Kp_150h  Dst_150h  F107_150h  AE_150h  AL_150h  AU_150h  \\\n",
      "1446242  ...        7        11       66.6       25      -10       16   \n",
      "1464013  ...       27       -11       67.6      307     -275       32   \n",
      "373187   ...        7        -6      145.9       39      -23       16   \n",
      "494142   ...        3         1      123.2       35      -17       18   \n",
      "1395493  ...       17       -10       69.8      102      -72       30   \n",
      "...      ...      ...       ...        ...      ...      ...      ...   \n",
      "78767    ...       37       -26       96.3      306     -167      139   \n",
      "111299   ...        7         7      121.5       40      -23       17   \n",
      "912099   ...       17        -3       97.2      204     -109       95   \n",
      "515862   ...       13        -4      149.8       52      -31       21   \n",
      "809971   ...        0        -1       91.7       34       -4       29   \n",
      "\n",
      "         BZGSM_IS1_150h  TEMP_IS1_150h  PDYN_IS1_150h  F107_IS1_150h  \n",
      "1446242               1              1              1              1  \n",
      "1464013               1              1              1              1  \n",
      "373187                1              1              1              1  \n",
      "494142                1              1              0              1  \n",
      "1395493               1              1              1              1  \n",
      "...                 ...            ...            ...            ...  \n",
      "78767                 1              1              1              1  \n",
      "111299                1              1              1              1  \n",
      "912099                1              1              1              1  \n",
      "515862                1              1              1              1  \n",
      "809971                1              1              1              1  \n",
      "\n",
      "[1173873 rows x 2431 columns]\n"
     ]
    }
   ],
   "source": [
    "print(combined_df)"
   ]
  },
  {
   "cell_type": "code",
   "execution_count": null,
   "metadata": {},
   "outputs": [
    {
     "name": "stdout",
     "output_type": "stream",
     "text": [
      "                           Time        Flux  Flux_Error  PitchAngle  \\\n",
      "1446242 2018-12-03 09:44:03.008   26.573950   20.888264  155.454545   \n",
      "1464013 2018-12-27 03:25:59.211    0.000000   84.678474    8.181818   \n",
      "373187  2014-04-03 09:35:19.277    0.000000   78.128098   73.636364   \n",
      "494142  2014-11-09 23:28:56.844    0.000000  283.637115  122.727273   \n",
      "1395493 2018-09-23 04:55:49.842  361.854065    4.093741  122.727273   \n",
      "...                         ...         ...         ...         ...   \n",
      "78767   2013-02-01 23:14:25.069    3.954598   49.000000  171.818182   \n",
      "111299  2013-03-20 10:19:44.510    0.000000  369.153108  106.363636   \n",
      "912099  2016-08-17 15:51:42.631    0.000000   72.502586   90.000000   \n",
      "515862  2014-12-09 18:48:30.377   22.792614   20.935389   90.000000   \n",
      "809971  2016-02-28 14:15:32.450  143.290268    9.723484   73.636364   \n",
      "\n",
      "               B_Calc         B_Eq         I         L    L_star        MLT  \\\n",
      "1446242    281.558017   280.978721  0.006141  4.740934  4.454257  19.639394   \n",
      "1464013   1364.545483  1120.197850  0.401500  2.978128  2.953617  23.863067   \n",
      "373187    3509.867333  3505.347369  0.001884  2.044652  2.030102   5.562314   \n",
      "494142   11258.130080  6753.201076  0.588856  1.641363  1.641820  18.715721   \n",
      "1395493    181.720040   180.804442  0.014816  5.489432  5.052455  21.570698   \n",
      "...               ...          ...       ...       ...       ...        ...   \n",
      "78767      168.420093    95.863398  1.414894  6.245838  5.582488   2.270819   \n",
      "111299   13566.001870  8521.071281  0.491743  1.516629  1.517172  17.242603   \n",
      "912099    1347.372983  1038.066001  0.543150  3.051960  2.988183   6.407892   \n",
      "515862     170.346027    84.684666  1.677036  6.337075  5.655756   0.862466   \n",
      "809971     155.011245   154.722818  0.007404  5.784453  5.105765   8.875185   \n",
      "\n",
      "         ...  Kp_150h  Dst_150h  F107_150h  AE_150h  AL_150h  AU_150h  \\\n",
      "1446242  ...        7        11       66.6       25      -10       16   \n",
      "1464013  ...       27       -11       67.6      307     -275       32   \n",
      "373187   ...        7        -6      145.9       39      -23       16   \n",
      "494142   ...        3         1      123.2       35      -17       18   \n",
      "1395493  ...       17       -10       69.8      102      -72       30   \n",
      "...      ...      ...       ...        ...      ...      ...      ...   \n",
      "78767    ...       37       -26       96.3      306     -167      139   \n",
      "111299   ...        7         7      121.5       40      -23       17   \n",
      "912099   ...       17        -3       97.2      204     -109       95   \n",
      "515862   ...       13        -4      149.8       52      -31       21   \n",
      "809971   ...        0        -1       91.7       34       -4       29   \n",
      "\n",
      "         BZGSM_IS1_150h  TEMP_IS1_150h  PDYN_IS1_150h  F107_IS1_150h  \n",
      "1446242               1              1              1              1  \n",
      "1464013               1              1              1              1  \n",
      "373187                1              1              1              1  \n",
      "494142                1              1              0              1  \n",
      "1395493               1              1              1              1  \n",
      "...                 ...            ...            ...            ...  \n",
      "78767                 1              1              1              1  \n",
      "111299                1              1              1              1  \n",
      "912099                1              1              1              1  \n",
      "515862                1              1              1              1  \n",
      "809971                1              1              1              1  \n",
      "\n",
      "[1173873 rows x 2431 columns]\n"
     ]
    }
   ],
   "source": [
    "print(combined_df)"
   ]
  },
  {
   "cell_type": "code",
   "execution_count": null,
   "metadata": {},
   "outputs": [
    {
     "name": "stdout",
     "output_type": "stream",
     "text": [
      "['Time', 'Flux', 'Flux_Error', 'PitchAngle', 'B_Calc', 'B_Eq', 'I', 'L', 'L_star', 'MLT', 'MLAT', 'X', 'Y', 'Z', 'Interpolated_Lstar', 'VX_0h', 'SYMH_0h', 'VX_IS1_0h', 'BZGSM_0h', 'TEMP_0h', 'PDYN_0h', 'Kp_0h', 'Dst_0h', 'F107_0h', 'AE_0h', 'AL_0h', 'AU_0h', 'BZGSM_IS1_0h', 'TEMP_IS1_0h', 'PDYN_IS1_0h', 'F107_IS1_0h', 'VX_1h', 'SYMH_1h', 'VX_IS1_1h', 'BZGSM_1h', 'TEMP_1h', 'PDYN_1h', 'Kp_1h', 'Dst_1h', 'F107_1h', 'AE_1h', 'AL_1h', 'AU_1h', 'BZGSM_IS1_1h', 'TEMP_IS1_1h', 'PDYN_IS1_1h', 'F107_IS1_1h', 'VX_2h', 'SYMH_2h', 'VX_IS1_2h', 'BZGSM_2h', 'TEMP_2h', 'PDYN_2h', 'Kp_2h', 'Dst_2h', 'F107_2h', 'AE_2h', 'AL_2h', 'AU_2h', 'BZGSM_IS1_2h', 'TEMP_IS1_2h', 'PDYN_IS1_2h', 'F107_IS1_2h', 'VX_3h', 'SYMH_3h', 'VX_IS1_3h', 'BZGSM_3h', 'TEMP_3h', 'PDYN_3h', 'Kp_3h', 'Dst_3h', 'F107_3h', 'AE_3h', 'AL_3h', 'AU_3h', 'BZGSM_IS1_3h', 'TEMP_IS1_3h', 'PDYN_IS1_3h', 'F107_IS1_3h', 'VX_4h', 'SYMH_4h', 'VX_IS1_4h', 'BZGSM_4h', 'TEMP_4h', 'PDYN_4h', 'Kp_4h', 'Dst_4h', 'F107_4h', 'AE_4h', 'AL_4h', 'AU_4h', 'BZGSM_IS1_4h', 'TEMP_IS1_4h', 'PDYN_IS1_4h', 'F107_IS1_4h', 'VX_5h', 'SYMH_5h', 'VX_IS1_5h', 'BZGSM_5h', 'TEMP_5h', 'PDYN_5h', 'Kp_5h', 'Dst_5h', 'F107_5h', 'AE_5h', 'AL_5h', 'AU_5h', 'BZGSM_IS1_5h', 'TEMP_IS1_5h', 'PDYN_IS1_5h', 'F107_IS1_5h', 'VX_6h', 'SYMH_6h', 'VX_IS1_6h', 'BZGSM_6h', 'TEMP_6h', 'PDYN_6h', 'Kp_6h', 'Dst_6h', 'F107_6h', 'AE_6h', 'AL_6h', 'AU_6h', 'BZGSM_IS1_6h', 'TEMP_IS1_6h', 'PDYN_IS1_6h', 'F107_IS1_6h', 'VX_7h', 'SYMH_7h', 'VX_IS1_7h', 'BZGSM_7h', 'TEMP_7h', 'PDYN_7h', 'Kp_7h', 'Dst_7h', 'F107_7h', 'AE_7h', 'AL_7h', 'AU_7h', 'BZGSM_IS1_7h', 'TEMP_IS1_7h', 'PDYN_IS1_7h', 'F107_IS1_7h', 'VX_8h', 'SYMH_8h', 'VX_IS1_8h', 'BZGSM_8h', 'TEMP_8h', 'PDYN_8h', 'Kp_8h', 'Dst_8h', 'F107_8h', 'AE_8h', 'AL_8h', 'AU_8h', 'BZGSM_IS1_8h', 'TEMP_IS1_8h', 'PDYN_IS1_8h', 'F107_IS1_8h', 'VX_9h', 'SYMH_9h', 'VX_IS1_9h', 'BZGSM_9h', 'TEMP_9h', 'PDYN_9h', 'Kp_9h', 'Dst_9h', 'F107_9h', 'AE_9h', 'AL_9h', 'AU_9h', 'BZGSM_IS1_9h', 'TEMP_IS1_9h', 'PDYN_IS1_9h', 'F107_IS1_9h', 'VX_10h', 'SYMH_10h', 'VX_IS1_10h', 'BZGSM_10h', 'TEMP_10h', 'PDYN_10h', 'Kp_10h', 'Dst_10h', 'F107_10h', 'AE_10h', 'AL_10h', 'AU_10h', 'BZGSM_IS1_10h', 'TEMP_IS1_10h', 'PDYN_IS1_10h', 'F107_IS1_10h', 'VX_11h', 'SYMH_11h', 'VX_IS1_11h', 'BZGSM_11h', 'TEMP_11h', 'PDYN_11h', 'Kp_11h', 'Dst_11h', 'F107_11h', 'AE_11h', 'AL_11h', 'AU_11h', 'BZGSM_IS1_11h', 'TEMP_IS1_11h', 'PDYN_IS1_11h', 'F107_IS1_11h', 'VX_12h', 'SYMH_12h', 'VX_IS1_12h', 'BZGSM_12h', 'TEMP_12h', 'PDYN_12h', 'Kp_12h', 'Dst_12h', 'F107_12h', 'AE_12h', 'AL_12h', 'AU_12h', 'BZGSM_IS1_12h', 'TEMP_IS1_12h', 'PDYN_IS1_12h', 'F107_IS1_12h', 'VX_13h', 'SYMH_13h', 'VX_IS1_13h', 'BZGSM_13h', 'TEMP_13h', 'PDYN_13h', 'Kp_13h', 'Dst_13h', 'F107_13h', 'AE_13h', 'AL_13h', 'AU_13h', 'BZGSM_IS1_13h', 'TEMP_IS1_13h', 'PDYN_IS1_13h', 'F107_IS1_13h', 'VX_14h', 'SYMH_14h', 'VX_IS1_14h', 'BZGSM_14h', 'TEMP_14h', 'PDYN_14h', 'Kp_14h', 'Dst_14h', 'F107_14h', 'AE_14h', 'AL_14h', 'AU_14h', 'BZGSM_IS1_14h', 'TEMP_IS1_14h', 'PDYN_IS1_14h', 'F107_IS1_14h', 'VX_15h', 'SYMH_15h', 'VX_IS1_15h', 'BZGSM_15h', 'TEMP_15h', 'PDYN_15h', 'Kp_15h', 'Dst_15h', 'F107_15h', 'AE_15h', 'AL_15h', 'AU_15h', 'BZGSM_IS1_15h', 'TEMP_IS1_15h', 'PDYN_IS1_15h', 'F107_IS1_15h', 'VX_16h', 'SYMH_16h', 'VX_IS1_16h', 'BZGSM_16h', 'TEMP_16h', 'PDYN_16h', 'Kp_16h', 'Dst_16h', 'F107_16h', 'AE_16h', 'AL_16h', 'AU_16h', 'BZGSM_IS1_16h', 'TEMP_IS1_16h', 'PDYN_IS1_16h', 'F107_IS1_16h', 'VX_17h', 'SYMH_17h', 'VX_IS1_17h', 'BZGSM_17h', 'TEMP_17h', 'PDYN_17h', 'Kp_17h', 'Dst_17h', 'F107_17h', 'AE_17h', 'AL_17h', 'AU_17h', 'BZGSM_IS1_17h', 'TEMP_IS1_17h', 'PDYN_IS1_17h', 'F107_IS1_17h', 'VX_18h', 'SYMH_18h', 'VX_IS1_18h', 'BZGSM_18h', 'TEMP_18h', 'PDYN_18h', 'Kp_18h', 'Dst_18h', 'F107_18h', 'AE_18h', 'AL_18h', 'AU_18h', 'BZGSM_IS1_18h', 'TEMP_IS1_18h', 'PDYN_IS1_18h', 'F107_IS1_18h', 'VX_19h', 'SYMH_19h', 'VX_IS1_19h', 'BZGSM_19h', 'TEMP_19h', 'PDYN_19h', 'Kp_19h', 'Dst_19h', 'F107_19h', 'AE_19h', 'AL_19h', 'AU_19h', 'BZGSM_IS1_19h', 'TEMP_IS1_19h', 'PDYN_IS1_19h', 'F107_IS1_19h', 'VX_20h', 'SYMH_20h', 'VX_IS1_20h', 'BZGSM_20h', 'TEMP_20h', 'PDYN_20h', 'Kp_20h', 'Dst_20h', 'F107_20h', 'AE_20h', 'AL_20h', 'AU_20h', 'BZGSM_IS1_20h', 'TEMP_IS1_20h', 'PDYN_IS1_20h', 'F107_IS1_20h', 'VX_21h', 'SYMH_21h', 'VX_IS1_21h', 'BZGSM_21h', 'TEMP_21h', 'PDYN_21h', 'Kp_21h', 'Dst_21h', 'F107_21h', 'AE_21h', 'AL_21h', 'AU_21h', 'BZGSM_IS1_21h', 'TEMP_IS1_21h', 'PDYN_IS1_21h', 'F107_IS1_21h', 'VX_22h', 'SYMH_22h', 'VX_IS1_22h', 'BZGSM_22h', 'TEMP_22h', 'PDYN_22h', 'Kp_22h', 'Dst_22h', 'F107_22h', 'AE_22h', 'AL_22h', 'AU_22h', 'BZGSM_IS1_22h', 'TEMP_IS1_22h', 'PDYN_IS1_22h', 'F107_IS1_22h', 'VX_23h', 'SYMH_23h', 'VX_IS1_23h', 'BZGSM_23h', 'TEMP_23h', 'PDYN_23h', 'Kp_23h', 'Dst_23h', 'F107_23h', 'AE_23h', 'AL_23h', 'AU_23h', 'BZGSM_IS1_23h', 'TEMP_IS1_23h', 'PDYN_IS1_23h', 'F107_IS1_23h', 'VX_24h', 'SYMH_24h', 'VX_IS1_24h', 'BZGSM_24h', 'TEMP_24h', 'PDYN_24h', 'Kp_24h', 'Dst_24h', 'F107_24h', 'AE_24h', 'AL_24h', 'AU_24h', 'BZGSM_IS1_24h', 'TEMP_IS1_24h', 'PDYN_IS1_24h', 'F107_IS1_24h', 'VX_25h', 'SYMH_25h', 'VX_IS1_25h', 'BZGSM_25h', 'TEMP_25h', 'PDYN_25h', 'Kp_25h', 'Dst_25h', 'F107_25h', 'AE_25h', 'AL_25h', 'AU_25h', 'BZGSM_IS1_25h', 'TEMP_IS1_25h', 'PDYN_IS1_25h', 'F107_IS1_25h', 'VX_26h', 'SYMH_26h', 'VX_IS1_26h', 'BZGSM_26h', 'TEMP_26h', 'PDYN_26h', 'Kp_26h', 'Dst_26h', 'F107_26h', 'AE_26h', 'AL_26h', 'AU_26h', 'BZGSM_IS1_26h', 'TEMP_IS1_26h', 'PDYN_IS1_26h', 'F107_IS1_26h', 'VX_27h', 'SYMH_27h', 'VX_IS1_27h', 'BZGSM_27h', 'TEMP_27h', 'PDYN_27h', 'Kp_27h', 'Dst_27h', 'F107_27h', 'AE_27h', 'AL_27h', 'AU_27h', 'BZGSM_IS1_27h', 'TEMP_IS1_27h', 'PDYN_IS1_27h', 'F107_IS1_27h', 'VX_28h', 'SYMH_28h', 'VX_IS1_28h', 'BZGSM_28h', 'TEMP_28h', 'PDYN_28h', 'Kp_28h', 'Dst_28h', 'F107_28h', 'AE_28h', 'AL_28h', 'AU_28h', 'BZGSM_IS1_28h', 'TEMP_IS1_28h', 'PDYN_IS1_28h', 'F107_IS1_28h', 'VX_29h', 'SYMH_29h', 'VX_IS1_29h', 'BZGSM_29h', 'TEMP_29h', 'PDYN_29h', 'Kp_29h', 'Dst_29h', 'F107_29h', 'AE_29h', 'AL_29h', 'AU_29h', 'BZGSM_IS1_29h', 'TEMP_IS1_29h', 'PDYN_IS1_29h', 'F107_IS1_29h', 'VX_30h', 'SYMH_30h', 'VX_IS1_30h', 'BZGSM_30h', 'TEMP_30h', 'PDYN_30h', 'Kp_30h', 'Dst_30h', 'F107_30h', 'AE_30h', 'AL_30h', 'AU_30h', 'BZGSM_IS1_30h', 'TEMP_IS1_30h', 'PDYN_IS1_30h', 'F107_IS1_30h', 'VX_31h', 'SYMH_31h', 'VX_IS1_31h', 'BZGSM_31h', 'TEMP_31h', 'PDYN_31h', 'Kp_31h', 'Dst_31h', 'F107_31h', 'AE_31h', 'AL_31h', 'AU_31h', 'BZGSM_IS1_31h', 'TEMP_IS1_31h', 'PDYN_IS1_31h', 'F107_IS1_31h', 'VX_32h', 'SYMH_32h', 'VX_IS1_32h', 'BZGSM_32h', 'TEMP_32h', 'PDYN_32h', 'Kp_32h', 'Dst_32h', 'F107_32h', 'AE_32h', 'AL_32h', 'AU_32h', 'BZGSM_IS1_32h', 'TEMP_IS1_32h', 'PDYN_IS1_32h', 'F107_IS1_32h', 'VX_33h', 'SYMH_33h', 'VX_IS1_33h', 'BZGSM_33h', 'TEMP_33h', 'PDYN_33h', 'Kp_33h', 'Dst_33h', 'F107_33h', 'AE_33h', 'AL_33h', 'AU_33h', 'BZGSM_IS1_33h', 'TEMP_IS1_33h', 'PDYN_IS1_33h', 'F107_IS1_33h', 'VX_34h', 'SYMH_34h', 'VX_IS1_34h', 'BZGSM_34h', 'TEMP_34h', 'PDYN_34h', 'Kp_34h', 'Dst_34h', 'F107_34h', 'AE_34h', 'AL_34h', 'AU_34h', 'BZGSM_IS1_34h', 'TEMP_IS1_34h', 'PDYN_IS1_34h', 'F107_IS1_34h', 'VX_35h', 'SYMH_35h', 'VX_IS1_35h', 'BZGSM_35h', 'TEMP_35h', 'PDYN_35h', 'Kp_35h', 'Dst_35h', 'F107_35h', 'AE_35h', 'AL_35h', 'AU_35h', 'BZGSM_IS1_35h', 'TEMP_IS1_35h', 'PDYN_IS1_35h', 'F107_IS1_35h', 'VX_36h', 'SYMH_36h', 'VX_IS1_36h', 'BZGSM_36h', 'TEMP_36h', 'PDYN_36h', 'Kp_36h', 'Dst_36h', 'F107_36h', 'AE_36h', 'AL_36h', 'AU_36h', 'BZGSM_IS1_36h', 'TEMP_IS1_36h', 'PDYN_IS1_36h', 'F107_IS1_36h', 'VX_37h', 'SYMH_37h', 'VX_IS1_37h', 'BZGSM_37h', 'TEMP_37h', 'PDYN_37h', 'Kp_37h', 'Dst_37h', 'F107_37h', 'AE_37h', 'AL_37h', 'AU_37h', 'BZGSM_IS1_37h', 'TEMP_IS1_37h', 'PDYN_IS1_37h', 'F107_IS1_37h', 'VX_38h', 'SYMH_38h', 'VX_IS1_38h', 'BZGSM_38h', 'TEMP_38h', 'PDYN_38h', 'Kp_38h', 'Dst_38h', 'F107_38h', 'AE_38h', 'AL_38h', 'AU_38h', 'BZGSM_IS1_38h', 'TEMP_IS1_38h', 'PDYN_IS1_38h', 'F107_IS1_38h', 'VX_39h', 'SYMH_39h', 'VX_IS1_39h', 'BZGSM_39h', 'TEMP_39h', 'PDYN_39h', 'Kp_39h', 'Dst_39h', 'F107_39h', 'AE_39h', 'AL_39h', 'AU_39h', 'BZGSM_IS1_39h', 'TEMP_IS1_39h', 'PDYN_IS1_39h', 'F107_IS1_39h', 'VX_40h', 'SYMH_40h', 'VX_IS1_40h', 'BZGSM_40h', 'TEMP_40h', 'PDYN_40h', 'Kp_40h', 'Dst_40h', 'F107_40h', 'AE_40h', 'AL_40h', 'AU_40h', 'BZGSM_IS1_40h', 'TEMP_IS1_40h', 'PDYN_IS1_40h', 'F107_IS1_40h', 'VX_41h', 'SYMH_41h', 'VX_IS1_41h', 'BZGSM_41h', 'TEMP_41h', 'PDYN_41h', 'Kp_41h', 'Dst_41h', 'F107_41h', 'AE_41h', 'AL_41h', 'AU_41h', 'BZGSM_IS1_41h', 'TEMP_IS1_41h', 'PDYN_IS1_41h', 'F107_IS1_41h', 'VX_42h', 'SYMH_42h', 'VX_IS1_42h', 'BZGSM_42h', 'TEMP_42h', 'PDYN_42h', 'Kp_42h', 'Dst_42h', 'F107_42h', 'AE_42h', 'AL_42h', 'AU_42h', 'BZGSM_IS1_42h', 'TEMP_IS1_42h', 'PDYN_IS1_42h', 'F107_IS1_42h', 'VX_43h', 'SYMH_43h', 'VX_IS1_43h', 'BZGSM_43h', 'TEMP_43h', 'PDYN_43h', 'Kp_43h', 'Dst_43h', 'F107_43h', 'AE_43h', 'AL_43h', 'AU_43h', 'BZGSM_IS1_43h', 'TEMP_IS1_43h', 'PDYN_IS1_43h', 'F107_IS1_43h', 'VX_44h', 'SYMH_44h', 'VX_IS1_44h', 'BZGSM_44h', 'TEMP_44h', 'PDYN_44h', 'Kp_44h', 'Dst_44h', 'F107_44h', 'AE_44h', 'AL_44h', 'AU_44h', 'BZGSM_IS1_44h', 'TEMP_IS1_44h', 'PDYN_IS1_44h', 'F107_IS1_44h', 'VX_45h', 'SYMH_45h', 'VX_IS1_45h', 'BZGSM_45h', 'TEMP_45h', 'PDYN_45h', 'Kp_45h', 'Dst_45h', 'F107_45h', 'AE_45h', 'AL_45h', 'AU_45h', 'BZGSM_IS1_45h', 'TEMP_IS1_45h', 'PDYN_IS1_45h', 'F107_IS1_45h', 'VX_46h', 'SYMH_46h', 'VX_IS1_46h', 'BZGSM_46h', 'TEMP_46h', 'PDYN_46h', 'Kp_46h', 'Dst_46h', 'F107_46h', 'AE_46h', 'AL_46h', 'AU_46h', 'BZGSM_IS1_46h', 'TEMP_IS1_46h', 'PDYN_IS1_46h', 'F107_IS1_46h', 'VX_47h', 'SYMH_47h', 'VX_IS1_47h', 'BZGSM_47h', 'TEMP_47h', 'PDYN_47h', 'Kp_47h', 'Dst_47h', 'F107_47h', 'AE_47h', 'AL_47h', 'AU_47h', 'BZGSM_IS1_47h', 'TEMP_IS1_47h', 'PDYN_IS1_47h', 'F107_IS1_47h', 'VX_48h', 'SYMH_48h', 'VX_IS1_48h', 'BZGSM_48h', 'TEMP_48h', 'PDYN_48h', 'Kp_48h', 'Dst_48h', 'F107_48h', 'AE_48h', 'AL_48h', 'AU_48h', 'BZGSM_IS1_48h', 'TEMP_IS1_48h', 'PDYN_IS1_48h', 'F107_IS1_48h', 'VX_49h', 'SYMH_49h', 'VX_IS1_49h', 'BZGSM_49h', 'TEMP_49h', 'PDYN_49h', 'Kp_49h', 'Dst_49h', 'F107_49h', 'AE_49h', 'AL_49h', 'AU_49h', 'BZGSM_IS1_49h', 'TEMP_IS1_49h', 'PDYN_IS1_49h', 'F107_IS1_49h', 'VX_50h', 'SYMH_50h', 'VX_IS1_50h', 'BZGSM_50h', 'TEMP_50h', 'PDYN_50h', 'Kp_50h', 'Dst_50h', 'F107_50h', 'AE_50h', 'AL_50h', 'AU_50h', 'BZGSM_IS1_50h', 'TEMP_IS1_50h', 'PDYN_IS1_50h', 'F107_IS1_50h', 'VX_51h', 'SYMH_51h', 'VX_IS1_51h', 'BZGSM_51h', 'TEMP_51h', 'PDYN_51h', 'Kp_51h', 'Dst_51h', 'F107_51h', 'AE_51h', 'AL_51h', 'AU_51h', 'BZGSM_IS1_51h', 'TEMP_IS1_51h', 'PDYN_IS1_51h', 'F107_IS1_51h', 'VX_52h', 'SYMH_52h', 'VX_IS1_52h', 'BZGSM_52h', 'TEMP_52h', 'PDYN_52h', 'Kp_52h', 'Dst_52h', 'F107_52h', 'AE_52h', 'AL_52h', 'AU_52h', 'BZGSM_IS1_52h', 'TEMP_IS1_52h', 'PDYN_IS1_52h', 'F107_IS1_52h', 'VX_53h', 'SYMH_53h', 'VX_IS1_53h', 'BZGSM_53h', 'TEMP_53h', 'PDYN_53h', 'Kp_53h', 'Dst_53h', 'F107_53h', 'AE_53h', 'AL_53h', 'AU_53h', 'BZGSM_IS1_53h', 'TEMP_IS1_53h', 'PDYN_IS1_53h', 'F107_IS1_53h', 'VX_54h', 'SYMH_54h', 'VX_IS1_54h', 'BZGSM_54h', 'TEMP_54h', 'PDYN_54h', 'Kp_54h', 'Dst_54h', 'F107_54h', 'AE_54h', 'AL_54h', 'AU_54h', 'BZGSM_IS1_54h', 'TEMP_IS1_54h', 'PDYN_IS1_54h', 'F107_IS1_54h', 'VX_55h', 'SYMH_55h', 'VX_IS1_55h', 'BZGSM_55h', 'TEMP_55h', 'PDYN_55h', 'Kp_55h', 'Dst_55h', 'F107_55h', 'AE_55h', 'AL_55h', 'AU_55h', 'BZGSM_IS1_55h', 'TEMP_IS1_55h', 'PDYN_IS1_55h', 'F107_IS1_55h', 'VX_56h', 'SYMH_56h', 'VX_IS1_56h', 'BZGSM_56h', 'TEMP_56h', 'PDYN_56h', 'Kp_56h', 'Dst_56h', 'F107_56h', 'AE_56h', 'AL_56h', 'AU_56h', 'BZGSM_IS1_56h', 'TEMP_IS1_56h', 'PDYN_IS1_56h', 'F107_IS1_56h', 'VX_57h', 'SYMH_57h', 'VX_IS1_57h', 'BZGSM_57h', 'TEMP_57h', 'PDYN_57h', 'Kp_57h', 'Dst_57h', 'F107_57h', 'AE_57h', 'AL_57h', 'AU_57h', 'BZGSM_IS1_57h', 'TEMP_IS1_57h', 'PDYN_IS1_57h', 'F107_IS1_57h', 'VX_58h', 'SYMH_58h', 'VX_IS1_58h', 'BZGSM_58h', 'TEMP_58h', 'PDYN_58h', 'Kp_58h', 'Dst_58h', 'F107_58h', 'AE_58h', 'AL_58h', 'AU_58h', 'BZGSM_IS1_58h', 'TEMP_IS1_58h', 'PDYN_IS1_58h', 'F107_IS1_58h', 'VX_59h', 'SYMH_59h', 'VX_IS1_59h', 'BZGSM_59h', 'TEMP_59h', 'PDYN_59h', 'Kp_59h', 'Dst_59h', 'F107_59h', 'AE_59h', 'AL_59h', 'AU_59h', 'BZGSM_IS1_59h', 'TEMP_IS1_59h', 'PDYN_IS1_59h', 'F107_IS1_59h', 'VX_60h', 'SYMH_60h', 'VX_IS1_60h', 'BZGSM_60h', 'TEMP_60h', 'PDYN_60h', 'Kp_60h', 'Dst_60h', 'F107_60h', 'AE_60h', 'AL_60h', 'AU_60h', 'BZGSM_IS1_60h', 'TEMP_IS1_60h', 'PDYN_IS1_60h', 'F107_IS1_60h', 'VX_61h', 'SYMH_61h', 'VX_IS1_61h', 'BZGSM_61h', 'TEMP_61h', 'PDYN_61h', 'Kp_61h', 'Dst_61h', 'F107_61h', 'AE_61h', 'AL_61h', 'AU_61h', 'BZGSM_IS1_61h', 'TEMP_IS1_61h', 'PDYN_IS1_61h', 'F107_IS1_61h', 'VX_62h', 'SYMH_62h', 'VX_IS1_62h', 'BZGSM_62h', 'TEMP_62h', 'PDYN_62h', 'Kp_62h', 'Dst_62h', 'F107_62h', 'AE_62h', 'AL_62h', 'AU_62h', 'BZGSM_IS1_62h', 'TEMP_IS1_62h', 'PDYN_IS1_62h', 'F107_IS1_62h', 'VX_63h', 'SYMH_63h', 'VX_IS1_63h', 'BZGSM_63h', 'TEMP_63h', 'PDYN_63h', 'Kp_63h', 'Dst_63h', 'F107_63h', 'AE_63h', 'AL_63h', 'AU_63h', 'BZGSM_IS1_63h', 'TEMP_IS1_63h', 'PDYN_IS1_63h', 'F107_IS1_63h', 'VX_64h', 'SYMH_64h', 'VX_IS1_64h', 'BZGSM_64h', 'TEMP_64h', 'PDYN_64h', 'Kp_64h', 'Dst_64h', 'F107_64h', 'AE_64h', 'AL_64h', 'AU_64h', 'BZGSM_IS1_64h', 'TEMP_IS1_64h', 'PDYN_IS1_64h', 'F107_IS1_64h', 'VX_65h', 'SYMH_65h', 'VX_IS1_65h', 'BZGSM_65h', 'TEMP_65h', 'PDYN_65h', 'Kp_65h', 'Dst_65h', 'F107_65h', 'AE_65h', 'AL_65h', 'AU_65h', 'BZGSM_IS1_65h', 'TEMP_IS1_65h', 'PDYN_IS1_65h', 'F107_IS1_65h', 'VX_66h', 'SYMH_66h', 'VX_IS1_66h', 'BZGSM_66h', 'TEMP_66h', 'PDYN_66h', 'Kp_66h', 'Dst_66h', 'F107_66h', 'AE_66h', 'AL_66h', 'AU_66h', 'BZGSM_IS1_66h', 'TEMP_IS1_66h', 'PDYN_IS1_66h', 'F107_IS1_66h', 'VX_67h', 'SYMH_67h', 'VX_IS1_67h', 'BZGSM_67h', 'TEMP_67h', 'PDYN_67h', 'Kp_67h', 'Dst_67h', 'F107_67h', 'AE_67h', 'AL_67h', 'AU_67h', 'BZGSM_IS1_67h', 'TEMP_IS1_67h', 'PDYN_IS1_67h', 'F107_IS1_67h', 'VX_68h', 'SYMH_68h', 'VX_IS1_68h', 'BZGSM_68h', 'TEMP_68h', 'PDYN_68h', 'Kp_68h', 'Dst_68h', 'F107_68h', 'AE_68h', 'AL_68h', 'AU_68h', 'BZGSM_IS1_68h', 'TEMP_IS1_68h', 'PDYN_IS1_68h', 'F107_IS1_68h', 'VX_69h', 'SYMH_69h', 'VX_IS1_69h', 'BZGSM_69h', 'TEMP_69h', 'PDYN_69h', 'Kp_69h', 'Dst_69h', 'F107_69h', 'AE_69h', 'AL_69h', 'AU_69h', 'BZGSM_IS1_69h', 'TEMP_IS1_69h', 'PDYN_IS1_69h', 'F107_IS1_69h', 'VX_70h', 'SYMH_70h', 'VX_IS1_70h', 'BZGSM_70h', 'TEMP_70h', 'PDYN_70h', 'Kp_70h', 'Dst_70h', 'F107_70h', 'AE_70h', 'AL_70h', 'AU_70h', 'BZGSM_IS1_70h', 'TEMP_IS1_70h', 'PDYN_IS1_70h', 'F107_IS1_70h', 'VX_71h', 'SYMH_71h', 'VX_IS1_71h', 'BZGSM_71h', 'TEMP_71h', 'PDYN_71h', 'Kp_71h', 'Dst_71h', 'F107_71h', 'AE_71h', 'AL_71h', 'AU_71h', 'BZGSM_IS1_71h', 'TEMP_IS1_71h', 'PDYN_IS1_71h', 'F107_IS1_71h', 'VX_72h', 'SYMH_72h', 'VX_IS1_72h', 'BZGSM_72h', 'TEMP_72h', 'PDYN_72h', 'Kp_72h', 'Dst_72h', 'F107_72h', 'AE_72h', 'AL_72h', 'AU_72h', 'BZGSM_IS1_72h', 'TEMP_IS1_72h', 'PDYN_IS1_72h', 'F107_IS1_72h', 'VX_73h', 'SYMH_73h', 'VX_IS1_73h', 'BZGSM_73h', 'TEMP_73h', 'PDYN_73h', 'Kp_73h', 'Dst_73h', 'F107_73h', 'AE_73h', 'AL_73h', 'AU_73h', 'BZGSM_IS1_73h', 'TEMP_IS1_73h', 'PDYN_IS1_73h', 'F107_IS1_73h', 'VX_74h', 'SYMH_74h', 'VX_IS1_74h', 'BZGSM_74h', 'TEMP_74h', 'PDYN_74h', 'Kp_74h', 'Dst_74h', 'F107_74h', 'AE_74h', 'AL_74h', 'AU_74h', 'BZGSM_IS1_74h', 'TEMP_IS1_74h', 'PDYN_IS1_74h', 'F107_IS1_74h', 'VX_75h', 'SYMH_75h', 'VX_IS1_75h', 'BZGSM_75h', 'TEMP_75h', 'PDYN_75h', 'Kp_75h', 'Dst_75h', 'F107_75h', 'AE_75h', 'AL_75h', 'AU_75h', 'BZGSM_IS1_75h', 'TEMP_IS1_75h', 'PDYN_IS1_75h', 'F107_IS1_75h', 'VX_76h', 'SYMH_76h', 'VX_IS1_76h', 'BZGSM_76h', 'TEMP_76h', 'PDYN_76h', 'Kp_76h', 'Dst_76h', 'F107_76h', 'AE_76h', 'AL_76h', 'AU_76h', 'BZGSM_IS1_76h', 'TEMP_IS1_76h', 'PDYN_IS1_76h', 'F107_IS1_76h', 'VX_77h', 'SYMH_77h', 'VX_IS1_77h', 'BZGSM_77h', 'TEMP_77h', 'PDYN_77h', 'Kp_77h', 'Dst_77h', 'F107_77h', 'AE_77h', 'AL_77h', 'AU_77h', 'BZGSM_IS1_77h', 'TEMP_IS1_77h', 'PDYN_IS1_77h', 'F107_IS1_77h', 'VX_78h', 'SYMH_78h', 'VX_IS1_78h', 'BZGSM_78h', 'TEMP_78h', 'PDYN_78h', 'Kp_78h', 'Dst_78h', 'F107_78h', 'AE_78h', 'AL_78h', 'AU_78h', 'BZGSM_IS1_78h', 'TEMP_IS1_78h', 'PDYN_IS1_78h', 'F107_IS1_78h', 'VX_79h', 'SYMH_79h', 'VX_IS1_79h', 'BZGSM_79h', 'TEMP_79h', 'PDYN_79h', 'Kp_79h', 'Dst_79h', 'F107_79h', 'AE_79h', 'AL_79h', 'AU_79h', 'BZGSM_IS1_79h', 'TEMP_IS1_79h', 'PDYN_IS1_79h', 'F107_IS1_79h', 'VX_80h', 'SYMH_80h', 'VX_IS1_80h', 'BZGSM_80h', 'TEMP_80h', 'PDYN_80h', 'Kp_80h', 'Dst_80h', 'F107_80h', 'AE_80h', 'AL_80h', 'AU_80h', 'BZGSM_IS1_80h', 'TEMP_IS1_80h', 'PDYN_IS1_80h', 'F107_IS1_80h', 'VX_81h', 'SYMH_81h', 'VX_IS1_81h', 'BZGSM_81h', 'TEMP_81h', 'PDYN_81h', 'Kp_81h', 'Dst_81h', 'F107_81h', 'AE_81h', 'AL_81h', 'AU_81h', 'BZGSM_IS1_81h', 'TEMP_IS1_81h', 'PDYN_IS1_81h', 'F107_IS1_81h', 'VX_82h', 'SYMH_82h', 'VX_IS1_82h', 'BZGSM_82h', 'TEMP_82h', 'PDYN_82h', 'Kp_82h', 'Dst_82h', 'F107_82h', 'AE_82h', 'AL_82h', 'AU_82h', 'BZGSM_IS1_82h', 'TEMP_IS1_82h', 'PDYN_IS1_82h', 'F107_IS1_82h', 'VX_83h', 'SYMH_83h', 'VX_IS1_83h', 'BZGSM_83h', 'TEMP_83h', 'PDYN_83h', 'Kp_83h', 'Dst_83h', 'F107_83h', 'AE_83h', 'AL_83h', 'AU_83h', 'BZGSM_IS1_83h', 'TEMP_IS1_83h', 'PDYN_IS1_83h', 'F107_IS1_83h', 'VX_84h', 'SYMH_84h', 'VX_IS1_84h', 'BZGSM_84h', 'TEMP_84h', 'PDYN_84h', 'Kp_84h', 'Dst_84h', 'F107_84h', 'AE_84h', 'AL_84h', 'AU_84h', 'BZGSM_IS1_84h', 'TEMP_IS1_84h', 'PDYN_IS1_84h', 'F107_IS1_84h', 'VX_85h', 'SYMH_85h', 'VX_IS1_85h', 'BZGSM_85h', 'TEMP_85h', 'PDYN_85h', 'Kp_85h', 'Dst_85h', 'F107_85h', 'AE_85h', 'AL_85h', 'AU_85h', 'BZGSM_IS1_85h', 'TEMP_IS1_85h', 'PDYN_IS1_85h', 'F107_IS1_85h', 'VX_86h', 'SYMH_86h', 'VX_IS1_86h', 'BZGSM_86h', 'TEMP_86h', 'PDYN_86h', 'Kp_86h', 'Dst_86h', 'F107_86h', 'AE_86h', 'AL_86h', 'AU_86h', 'BZGSM_IS1_86h', 'TEMP_IS1_86h', 'PDYN_IS1_86h', 'F107_IS1_86h', 'VX_87h', 'SYMH_87h', 'VX_IS1_87h', 'BZGSM_87h', 'TEMP_87h', 'PDYN_87h', 'Kp_87h', 'Dst_87h', 'F107_87h', 'AE_87h', 'AL_87h', 'AU_87h', 'BZGSM_IS1_87h', 'TEMP_IS1_87h', 'PDYN_IS1_87h', 'F107_IS1_87h', 'VX_88h', 'SYMH_88h', 'VX_IS1_88h', 'BZGSM_88h', 'TEMP_88h', 'PDYN_88h', 'Kp_88h', 'Dst_88h', 'F107_88h', 'AE_88h', 'AL_88h', 'AU_88h', 'BZGSM_IS1_88h', 'TEMP_IS1_88h', 'PDYN_IS1_88h', 'F107_IS1_88h', 'VX_89h', 'SYMH_89h', 'VX_IS1_89h', 'BZGSM_89h', 'TEMP_89h', 'PDYN_89h', 'Kp_89h', 'Dst_89h', 'F107_89h', 'AE_89h', 'AL_89h', 'AU_89h', 'BZGSM_IS1_89h', 'TEMP_IS1_89h', 'PDYN_IS1_89h', 'F107_IS1_89h', 'VX_90h', 'SYMH_90h', 'VX_IS1_90h', 'BZGSM_90h', 'TEMP_90h', 'PDYN_90h', 'Kp_90h', 'Dst_90h', 'F107_90h', 'AE_90h', 'AL_90h', 'AU_90h', 'BZGSM_IS1_90h', 'TEMP_IS1_90h', 'PDYN_IS1_90h', 'F107_IS1_90h', 'VX_91h', 'SYMH_91h', 'VX_IS1_91h', 'BZGSM_91h', 'TEMP_91h', 'PDYN_91h', 'Kp_91h', 'Dst_91h', 'F107_91h', 'AE_91h', 'AL_91h', 'AU_91h', 'BZGSM_IS1_91h', 'TEMP_IS1_91h', 'PDYN_IS1_91h', 'F107_IS1_91h', 'VX_92h', 'SYMH_92h', 'VX_IS1_92h', 'BZGSM_92h', 'TEMP_92h', 'PDYN_92h', 'Kp_92h', 'Dst_92h', 'F107_92h', 'AE_92h', 'AL_92h', 'AU_92h', 'BZGSM_IS1_92h', 'TEMP_IS1_92h', 'PDYN_IS1_92h', 'F107_IS1_92h', 'VX_93h', 'SYMH_93h', 'VX_IS1_93h', 'BZGSM_93h', 'TEMP_93h', 'PDYN_93h', 'Kp_93h', 'Dst_93h', 'F107_93h', 'AE_93h', 'AL_93h', 'AU_93h', 'BZGSM_IS1_93h', 'TEMP_IS1_93h', 'PDYN_IS1_93h', 'F107_IS1_93h', 'VX_94h', 'SYMH_94h', 'VX_IS1_94h', 'BZGSM_94h', 'TEMP_94h', 'PDYN_94h', 'Kp_94h', 'Dst_94h', 'F107_94h', 'AE_94h', 'AL_94h', 'AU_94h', 'BZGSM_IS1_94h', 'TEMP_IS1_94h', 'PDYN_IS1_94h', 'F107_IS1_94h', 'VX_95h', 'SYMH_95h', 'VX_IS1_95h', 'BZGSM_95h', 'TEMP_95h', 'PDYN_95h', 'Kp_95h', 'Dst_95h', 'F107_95h', 'AE_95h', 'AL_95h', 'AU_95h', 'BZGSM_IS1_95h', 'TEMP_IS1_95h', 'PDYN_IS1_95h', 'F107_IS1_95h', 'VX_96h', 'SYMH_96h', 'VX_IS1_96h', 'BZGSM_96h', 'TEMP_96h', 'PDYN_96h', 'Kp_96h', 'Dst_96h', 'F107_96h', 'AE_96h', 'AL_96h', 'AU_96h', 'BZGSM_IS1_96h', 'TEMP_IS1_96h', 'PDYN_IS1_96h', 'F107_IS1_96h', 'VX_97h', 'SYMH_97h', 'VX_IS1_97h', 'BZGSM_97h', 'TEMP_97h', 'PDYN_97h', 'Kp_97h', 'Dst_97h', 'F107_97h', 'AE_97h', 'AL_97h', 'AU_97h', 'BZGSM_IS1_97h', 'TEMP_IS1_97h', 'PDYN_IS1_97h', 'F107_IS1_97h', 'VX_98h', 'SYMH_98h', 'VX_IS1_98h', 'BZGSM_98h', 'TEMP_98h', 'PDYN_98h', 'Kp_98h', 'Dst_98h', 'F107_98h', 'AE_98h', 'AL_98h', 'AU_98h', 'BZGSM_IS1_98h', 'TEMP_IS1_98h', 'PDYN_IS1_98h', 'F107_IS1_98h', 'VX_99h', 'SYMH_99h', 'VX_IS1_99h', 'BZGSM_99h', 'TEMP_99h', 'PDYN_99h', 'Kp_99h', 'Dst_99h', 'F107_99h', 'AE_99h', 'AL_99h', 'AU_99h', 'BZGSM_IS1_99h', 'TEMP_IS1_99h', 'PDYN_IS1_99h', 'F107_IS1_99h', 'VX_100h', 'SYMH_100h', 'VX_IS1_100h', 'BZGSM_100h', 'TEMP_100h', 'PDYN_100h', 'Kp_100h', 'Dst_100h', 'F107_100h', 'AE_100h', 'AL_100h', 'AU_100h', 'BZGSM_IS1_100h', 'TEMP_IS1_100h', 'PDYN_IS1_100h', 'F107_IS1_100h', 'VX_101h', 'SYMH_101h', 'VX_IS1_101h', 'BZGSM_101h', 'TEMP_101h', 'PDYN_101h', 'Kp_101h', 'Dst_101h', 'F107_101h', 'AE_101h', 'AL_101h', 'AU_101h', 'BZGSM_IS1_101h', 'TEMP_IS1_101h', 'PDYN_IS1_101h', 'F107_IS1_101h', 'VX_102h', 'SYMH_102h', 'VX_IS1_102h', 'BZGSM_102h', 'TEMP_102h', 'PDYN_102h', 'Kp_102h', 'Dst_102h', 'F107_102h', 'AE_102h', 'AL_102h', 'AU_102h', 'BZGSM_IS1_102h', 'TEMP_IS1_102h', 'PDYN_IS1_102h', 'F107_IS1_102h', 'VX_103h', 'SYMH_103h', 'VX_IS1_103h', 'BZGSM_103h', 'TEMP_103h', 'PDYN_103h', 'Kp_103h', 'Dst_103h', 'F107_103h', 'AE_103h', 'AL_103h', 'AU_103h', 'BZGSM_IS1_103h', 'TEMP_IS1_103h', 'PDYN_IS1_103h', 'F107_IS1_103h', 'VX_104h', 'SYMH_104h', 'VX_IS1_104h', 'BZGSM_104h', 'TEMP_104h', 'PDYN_104h', 'Kp_104h', 'Dst_104h', 'F107_104h', 'AE_104h', 'AL_104h', 'AU_104h', 'BZGSM_IS1_104h', 'TEMP_IS1_104h', 'PDYN_IS1_104h', 'F107_IS1_104h', 'VX_105h', 'SYMH_105h', 'VX_IS1_105h', 'BZGSM_105h', 'TEMP_105h', 'PDYN_105h', 'Kp_105h', 'Dst_105h', 'F107_105h', 'AE_105h', 'AL_105h', 'AU_105h', 'BZGSM_IS1_105h', 'TEMP_IS1_105h', 'PDYN_IS1_105h', 'F107_IS1_105h', 'VX_106h', 'SYMH_106h', 'VX_IS1_106h', 'BZGSM_106h', 'TEMP_106h', 'PDYN_106h', 'Kp_106h', 'Dst_106h', 'F107_106h', 'AE_106h', 'AL_106h', 'AU_106h', 'BZGSM_IS1_106h', 'TEMP_IS1_106h', 'PDYN_IS1_106h', 'F107_IS1_106h', 'VX_107h', 'SYMH_107h', 'VX_IS1_107h', 'BZGSM_107h', 'TEMP_107h', 'PDYN_107h', 'Kp_107h', 'Dst_107h', 'F107_107h', 'AE_107h', 'AL_107h', 'AU_107h', 'BZGSM_IS1_107h', 'TEMP_IS1_107h', 'PDYN_IS1_107h', 'F107_IS1_107h', 'VX_108h', 'SYMH_108h', 'VX_IS1_108h', 'BZGSM_108h', 'TEMP_108h', 'PDYN_108h', 'Kp_108h', 'Dst_108h', 'F107_108h', 'AE_108h', 'AL_108h', 'AU_108h', 'BZGSM_IS1_108h', 'TEMP_IS1_108h', 'PDYN_IS1_108h', 'F107_IS1_108h', 'VX_109h', 'SYMH_109h', 'VX_IS1_109h', 'BZGSM_109h', 'TEMP_109h', 'PDYN_109h', 'Kp_109h', 'Dst_109h', 'F107_109h', 'AE_109h', 'AL_109h', 'AU_109h', 'BZGSM_IS1_109h', 'TEMP_IS1_109h', 'PDYN_IS1_109h', 'F107_IS1_109h', 'VX_110h', 'SYMH_110h', 'VX_IS1_110h', 'BZGSM_110h', 'TEMP_110h', 'PDYN_110h', 'Kp_110h', 'Dst_110h', 'F107_110h', 'AE_110h', 'AL_110h', 'AU_110h', 'BZGSM_IS1_110h', 'TEMP_IS1_110h', 'PDYN_IS1_110h', 'F107_IS1_110h', 'VX_111h', 'SYMH_111h', 'VX_IS1_111h', 'BZGSM_111h', 'TEMP_111h', 'PDYN_111h', 'Kp_111h', 'Dst_111h', 'F107_111h', 'AE_111h', 'AL_111h', 'AU_111h', 'BZGSM_IS1_111h', 'TEMP_IS1_111h', 'PDYN_IS1_111h', 'F107_IS1_111h', 'VX_112h', 'SYMH_112h', 'VX_IS1_112h', 'BZGSM_112h', 'TEMP_112h', 'PDYN_112h', 'Kp_112h', 'Dst_112h', 'F107_112h', 'AE_112h', 'AL_112h', 'AU_112h', 'BZGSM_IS1_112h', 'TEMP_IS1_112h', 'PDYN_IS1_112h', 'F107_IS1_112h', 'VX_113h', 'SYMH_113h', 'VX_IS1_113h', 'BZGSM_113h', 'TEMP_113h', 'PDYN_113h', 'Kp_113h', 'Dst_113h', 'F107_113h', 'AE_113h', 'AL_113h', 'AU_113h', 'BZGSM_IS1_113h', 'TEMP_IS1_113h', 'PDYN_IS1_113h', 'F107_IS1_113h', 'VX_114h', 'SYMH_114h', 'VX_IS1_114h', 'BZGSM_114h', 'TEMP_114h', 'PDYN_114h', 'Kp_114h', 'Dst_114h', 'F107_114h', 'AE_114h', 'AL_114h', 'AU_114h', 'BZGSM_IS1_114h', 'TEMP_IS1_114h', 'PDYN_IS1_114h', 'F107_IS1_114h', 'VX_115h', 'SYMH_115h', 'VX_IS1_115h', 'BZGSM_115h', 'TEMP_115h', 'PDYN_115h', 'Kp_115h', 'Dst_115h', 'F107_115h', 'AE_115h', 'AL_115h', 'AU_115h', 'BZGSM_IS1_115h', 'TEMP_IS1_115h', 'PDYN_IS1_115h', 'F107_IS1_115h', 'VX_116h', 'SYMH_116h', 'VX_IS1_116h', 'BZGSM_116h', 'TEMP_116h', 'PDYN_116h', 'Kp_116h', 'Dst_116h', 'F107_116h', 'AE_116h', 'AL_116h', 'AU_116h', 'BZGSM_IS1_116h', 'TEMP_IS1_116h', 'PDYN_IS1_116h', 'F107_IS1_116h', 'VX_117h', 'SYMH_117h', 'VX_IS1_117h', 'BZGSM_117h', 'TEMP_117h', 'PDYN_117h', 'Kp_117h', 'Dst_117h', 'F107_117h', 'AE_117h', 'AL_117h', 'AU_117h', 'BZGSM_IS1_117h', 'TEMP_IS1_117h', 'PDYN_IS1_117h', 'F107_IS1_117h', 'VX_118h', 'SYMH_118h', 'VX_IS1_118h', 'BZGSM_118h', 'TEMP_118h', 'PDYN_118h', 'Kp_118h', 'Dst_118h', 'F107_118h', 'AE_118h', 'AL_118h', 'AU_118h', 'BZGSM_IS1_118h', 'TEMP_IS1_118h', 'PDYN_IS1_118h', 'F107_IS1_118h', 'VX_119h', 'SYMH_119h', 'VX_IS1_119h', 'BZGSM_119h', 'TEMP_119h', 'PDYN_119h', 'Kp_119h', 'Dst_119h', 'F107_119h', 'AE_119h', 'AL_119h', 'AU_119h', 'BZGSM_IS1_119h', 'TEMP_IS1_119h', 'PDYN_IS1_119h', 'F107_IS1_119h', 'VX_120h', 'SYMH_120h', 'VX_IS1_120h', 'BZGSM_120h', 'TEMP_120h', 'PDYN_120h', 'Kp_120h', 'Dst_120h', 'F107_120h', 'AE_120h', 'AL_120h', 'AU_120h', 'BZGSM_IS1_120h', 'TEMP_IS1_120h', 'PDYN_IS1_120h', 'F107_IS1_120h', 'VX_121h', 'SYMH_121h', 'VX_IS1_121h', 'BZGSM_121h', 'TEMP_121h', 'PDYN_121h', 'Kp_121h', 'Dst_121h', 'F107_121h', 'AE_121h', 'AL_121h', 'AU_121h', 'BZGSM_IS1_121h', 'TEMP_IS1_121h', 'PDYN_IS1_121h', 'F107_IS1_121h', 'VX_122h', 'SYMH_122h', 'VX_IS1_122h', 'BZGSM_122h', 'TEMP_122h', 'PDYN_122h', 'Kp_122h', 'Dst_122h', 'F107_122h', 'AE_122h', 'AL_122h', 'AU_122h', 'BZGSM_IS1_122h', 'TEMP_IS1_122h', 'PDYN_IS1_122h', 'F107_IS1_122h', 'VX_123h', 'SYMH_123h', 'VX_IS1_123h', 'BZGSM_123h', 'TEMP_123h', 'PDYN_123h', 'Kp_123h', 'Dst_123h', 'F107_123h', 'AE_123h', 'AL_123h', 'AU_123h', 'BZGSM_IS1_123h', 'TEMP_IS1_123h', 'PDYN_IS1_123h', 'F107_IS1_123h', 'VX_124h', 'SYMH_124h', 'VX_IS1_124h', 'BZGSM_124h', 'TEMP_124h', 'PDYN_124h', 'Kp_124h', 'Dst_124h', 'F107_124h', 'AE_124h', 'AL_124h', 'AU_124h', 'BZGSM_IS1_124h', 'TEMP_IS1_124h', 'PDYN_IS1_124h', 'F107_IS1_124h', 'VX_125h', 'SYMH_125h', 'VX_IS1_125h', 'BZGSM_125h', 'TEMP_125h', 'PDYN_125h', 'Kp_125h', 'Dst_125h', 'F107_125h', 'AE_125h', 'AL_125h', 'AU_125h', 'BZGSM_IS1_125h', 'TEMP_IS1_125h', 'PDYN_IS1_125h', 'F107_IS1_125h', 'VX_126h', 'SYMH_126h', 'VX_IS1_126h', 'BZGSM_126h', 'TEMP_126h', 'PDYN_126h', 'Kp_126h', 'Dst_126h', 'F107_126h', 'AE_126h', 'AL_126h', 'AU_126h', 'BZGSM_IS1_126h', 'TEMP_IS1_126h', 'PDYN_IS1_126h', 'F107_IS1_126h', 'VX_127h', 'SYMH_127h', 'VX_IS1_127h', 'BZGSM_127h', 'TEMP_127h', 'PDYN_127h', 'Kp_127h', 'Dst_127h', 'F107_127h', 'AE_127h', 'AL_127h', 'AU_127h', 'BZGSM_IS1_127h', 'TEMP_IS1_127h', 'PDYN_IS1_127h', 'F107_IS1_127h', 'VX_128h', 'SYMH_128h', 'VX_IS1_128h', 'BZGSM_128h', 'TEMP_128h', 'PDYN_128h', 'Kp_128h', 'Dst_128h', 'F107_128h', 'AE_128h', 'AL_128h', 'AU_128h', 'BZGSM_IS1_128h', 'TEMP_IS1_128h', 'PDYN_IS1_128h', 'F107_IS1_128h', 'VX_129h', 'SYMH_129h', 'VX_IS1_129h', 'BZGSM_129h', 'TEMP_129h', 'PDYN_129h', 'Kp_129h', 'Dst_129h', 'F107_129h', 'AE_129h', 'AL_129h', 'AU_129h', 'BZGSM_IS1_129h', 'TEMP_IS1_129h', 'PDYN_IS1_129h', 'F107_IS1_129h', 'VX_130h', 'SYMH_130h', 'VX_IS1_130h', 'BZGSM_130h', 'TEMP_130h', 'PDYN_130h', 'Kp_130h', 'Dst_130h', 'F107_130h', 'AE_130h', 'AL_130h', 'AU_130h', 'BZGSM_IS1_130h', 'TEMP_IS1_130h', 'PDYN_IS1_130h', 'F107_IS1_130h', 'VX_131h', 'SYMH_131h', 'VX_IS1_131h', 'BZGSM_131h', 'TEMP_131h', 'PDYN_131h', 'Kp_131h', 'Dst_131h', 'F107_131h', 'AE_131h', 'AL_131h', 'AU_131h', 'BZGSM_IS1_131h', 'TEMP_IS1_131h', 'PDYN_IS1_131h', 'F107_IS1_131h', 'VX_132h', 'SYMH_132h', 'VX_IS1_132h', 'BZGSM_132h', 'TEMP_132h', 'PDYN_132h', 'Kp_132h', 'Dst_132h', 'F107_132h', 'AE_132h', 'AL_132h', 'AU_132h', 'BZGSM_IS1_132h', 'TEMP_IS1_132h', 'PDYN_IS1_132h', 'F107_IS1_132h', 'VX_133h', 'SYMH_133h', 'VX_IS1_133h', 'BZGSM_133h', 'TEMP_133h', 'PDYN_133h', 'Kp_133h', 'Dst_133h', 'F107_133h', 'AE_133h', 'AL_133h', 'AU_133h', 'BZGSM_IS1_133h', 'TEMP_IS1_133h', 'PDYN_IS1_133h', 'F107_IS1_133h', 'VX_134h', 'SYMH_134h', 'VX_IS1_134h', 'BZGSM_134h', 'TEMP_134h', 'PDYN_134h', 'Kp_134h', 'Dst_134h', 'F107_134h', 'AE_134h', 'AL_134h', 'AU_134h', 'BZGSM_IS1_134h', 'TEMP_IS1_134h', 'PDYN_IS1_134h', 'F107_IS1_134h', 'VX_135h', 'SYMH_135h', 'VX_IS1_135h', 'BZGSM_135h', 'TEMP_135h', 'PDYN_135h', 'Kp_135h', 'Dst_135h', 'F107_135h', 'AE_135h', 'AL_135h', 'AU_135h', 'BZGSM_IS1_135h', 'TEMP_IS1_135h', 'PDYN_IS1_135h', 'F107_IS1_135h', 'VX_136h', 'SYMH_136h', 'VX_IS1_136h', 'BZGSM_136h', 'TEMP_136h', 'PDYN_136h', 'Kp_136h', 'Dst_136h', 'F107_136h', 'AE_136h', 'AL_136h', 'AU_136h', 'BZGSM_IS1_136h', 'TEMP_IS1_136h', 'PDYN_IS1_136h', 'F107_IS1_136h', 'VX_137h', 'SYMH_137h', 'VX_IS1_137h', 'BZGSM_137h', 'TEMP_137h', 'PDYN_137h', 'Kp_137h', 'Dst_137h', 'F107_137h', 'AE_137h', 'AL_137h', 'AU_137h', 'BZGSM_IS1_137h', 'TEMP_IS1_137h', 'PDYN_IS1_137h', 'F107_IS1_137h', 'VX_138h', 'SYMH_138h', 'VX_IS1_138h', 'BZGSM_138h', 'TEMP_138h', 'PDYN_138h', 'Kp_138h', 'Dst_138h', 'F107_138h', 'AE_138h', 'AL_138h', 'AU_138h', 'BZGSM_IS1_138h', 'TEMP_IS1_138h', 'PDYN_IS1_138h', 'F107_IS1_138h', 'VX_139h', 'SYMH_139h', 'VX_IS1_139h', 'BZGSM_139h', 'TEMP_139h', 'PDYN_139h', 'Kp_139h', 'Dst_139h', 'F107_139h', 'AE_139h', 'AL_139h', 'AU_139h', 'BZGSM_IS1_139h', 'TEMP_IS1_139h', 'PDYN_IS1_139h', 'F107_IS1_139h', 'VX_140h', 'SYMH_140h', 'VX_IS1_140h', 'BZGSM_140h', 'TEMP_140h', 'PDYN_140h', 'Kp_140h', 'Dst_140h', 'F107_140h', 'AE_140h', 'AL_140h', 'AU_140h', 'BZGSM_IS1_140h', 'TEMP_IS1_140h', 'PDYN_IS1_140h', 'F107_IS1_140h', 'VX_141h', 'SYMH_141h', 'VX_IS1_141h', 'BZGSM_141h', 'TEMP_141h', 'PDYN_141h', 'Kp_141h', 'Dst_141h', 'F107_141h', 'AE_141h', 'AL_141h', 'AU_141h', 'BZGSM_IS1_141h', 'TEMP_IS1_141h', 'PDYN_IS1_141h', 'F107_IS1_141h', 'VX_142h', 'SYMH_142h', 'VX_IS1_142h', 'BZGSM_142h', 'TEMP_142h', 'PDYN_142h', 'Kp_142h', 'Dst_142h', 'F107_142h', 'AE_142h', 'AL_142h', 'AU_142h', 'BZGSM_IS1_142h', 'TEMP_IS1_142h', 'PDYN_IS1_142h', 'F107_IS1_142h', 'VX_143h', 'SYMH_143h', 'VX_IS1_143h', 'BZGSM_143h', 'TEMP_143h', 'PDYN_143h', 'Kp_143h', 'Dst_143h', 'F107_143h', 'AE_143h', 'AL_143h', 'AU_143h', 'BZGSM_IS1_143h', 'TEMP_IS1_143h', 'PDYN_IS1_143h', 'F107_IS1_143h', 'VX_144h', 'SYMH_144h', 'VX_IS1_144h', 'BZGSM_144h', 'TEMP_144h', 'PDYN_144h', 'Kp_144h', 'Dst_144h', 'F107_144h', 'AE_144h', 'AL_144h', 'AU_144h', 'BZGSM_IS1_144h', 'TEMP_IS1_144h', 'PDYN_IS1_144h', 'F107_IS1_144h', 'VX_145h', 'SYMH_145h', 'VX_IS1_145h', 'BZGSM_145h', 'TEMP_145h', 'PDYN_145h', 'Kp_145h', 'Dst_145h', 'F107_145h', 'AE_145h', 'AL_145h', 'AU_145h', 'BZGSM_IS1_145h', 'TEMP_IS1_145h', 'PDYN_IS1_145h', 'F107_IS1_145h', 'VX_146h', 'SYMH_146h', 'VX_IS1_146h', 'BZGSM_146h', 'TEMP_146h', 'PDYN_146h', 'Kp_146h', 'Dst_146h', 'F107_146h', 'AE_146h', 'AL_146h', 'AU_146h', 'BZGSM_IS1_146h', 'TEMP_IS1_146h', 'PDYN_IS1_146h', 'F107_IS1_146h', 'VX_147h', 'SYMH_147h', 'VX_IS1_147h', 'BZGSM_147h', 'TEMP_147h', 'PDYN_147h', 'Kp_147h', 'Dst_147h', 'F107_147h', 'AE_147h', 'AL_147h', 'AU_147h', 'BZGSM_IS1_147h', 'TEMP_IS1_147h', 'PDYN_IS1_147h', 'F107_IS1_147h', 'VX_148h', 'SYMH_148h', 'VX_IS1_148h', 'BZGSM_148h', 'TEMP_148h', 'PDYN_148h', 'Kp_148h', 'Dst_148h', 'F107_148h', 'AE_148h', 'AL_148h', 'AU_148h', 'BZGSM_IS1_148h', 'TEMP_IS1_148h', 'PDYN_IS1_148h', 'F107_IS1_148h', 'VX_149h', 'SYMH_149h', 'VX_IS1_149h', 'BZGSM_149h', 'TEMP_149h', 'PDYN_149h', 'Kp_149h', 'Dst_149h', 'F107_149h', 'AE_149h', 'AL_149h', 'AU_149h', 'BZGSM_IS1_149h', 'TEMP_IS1_149h', 'PDYN_IS1_149h', 'F107_IS1_149h', 'VX_150h', 'SYMH_150h', 'VX_IS1_150h', 'BZGSM_150h', 'TEMP_150h', 'PDYN_150h', 'Kp_150h', 'Dst_150h', 'F107_150h', 'AE_150h', 'AL_150h', 'AU_150h', 'BZGSM_IS1_150h', 'TEMP_IS1_150h', 'PDYN_IS1_150h', 'F107_IS1_150h']\n"
     ]
    }
   ],
   "source": [
    "columns_list = combined_df.columns.tolist()\n",
    "print(columns_list)\n"
   ]
  },
  {
   "cell_type": "code",
   "execution_count": null,
   "metadata": {},
   "outputs": [],
   "source": [
    "time_steps=300\n",
    "VX_time1 = [f'VX_{i}h' for i in range(0, time_steps + 1)]\n",
    "SYMH_time2 = [f'SYMH_{i}h' for i in range(0, time_steps + 1)]\n",
    "VX_IS1_time3 = [f'VX_IS1_{i}h' for i in range(0, time_steps + 1)]\n",
    "BZGSM_time4 = [f'BZGSM_{i}h' for i in range(0, time_steps + 1)]\n",
    "TEMP_time5 = [f'TEMP_{i}h' for i in range(0, time_steps + 1)]\n",
    "PDYN_time6 = [f'PDYN_{i}h' for i in range(0, time_steps + 1)]\n",
    "Kp_time7 = [f'Kp_{i}h' for i in range(0, time_steps + 1)]\n",
    "Dst_time8 = [f'Dst_{i}h' for i in range(0, time_steps + 1)]\n",
    "F107_time9 = [f'F107_{i}h' for i in range(0, time_steps + 1)]\n",
    "AE_time10 = [f'AE_{i}h' for i in range(0, time_steps + 1)]\n",
    "AL_time11 = [f'AL_{i}h' for i in range(0, time_steps + 1)]\n",
    "AU_time12 = [f'AU_{i}h' for i in range(0, time_steps + 1)]\n",
    "BZGSM_IS1_time13 = [f'BZGSM_IS1_{i}h' for i in range(0, time_steps + 1)]\n",
    "TEMP_IS1_time14 = [f'TEMP_IS1_{i}h' for i in range(0, time_steps + 1)]\n",
    "PDYN_IS1_time15 = [f'PDYN_IS1_{i}h' for i in range(0, time_steps + 1)]\n",
    "F107_IS1_time16 = [f'F107_IS1_{i}h' for i in range(0, time_steps + 1)]\n"
   ]
  },
  {
   "cell_type": "code",
   "execution_count": null,
   "metadata": {},
   "outputs": [
    {
     "name": "stdout",
     "output_type": "stream",
     "text": [
      "['VX_0h', 'VX_1h', 'VX_2h', 'VX_3h', 'VX_4h', 'VX_5h', 'VX_6h', 'VX_7h', 'VX_8h', 'VX_9h', 'VX_10h', 'VX_11h', 'VX_12h', 'VX_13h', 'VX_14h', 'VX_15h', 'VX_16h', 'VX_17h', 'VX_18h', 'VX_19h', 'VX_20h', 'VX_21h', 'VX_22h', 'VX_23h', 'VX_24h', 'VX_25h', 'VX_26h', 'VX_27h', 'VX_28h', 'VX_29h', 'VX_30h', 'VX_31h', 'VX_32h', 'VX_33h', 'VX_34h', 'VX_35h', 'VX_36h', 'VX_37h', 'VX_38h', 'VX_39h', 'VX_40h', 'VX_41h', 'VX_42h', 'VX_43h', 'VX_44h', 'VX_45h', 'VX_46h', 'VX_47h', 'VX_48h', 'VX_49h', 'VX_50h', 'VX_51h', 'VX_52h', 'VX_53h', 'VX_54h', 'VX_55h', 'VX_56h', 'VX_57h', 'VX_58h', 'VX_59h', 'VX_60h', 'VX_61h', 'VX_62h', 'VX_63h', 'VX_64h', 'VX_65h', 'VX_66h', 'VX_67h', 'VX_68h', 'VX_69h', 'VX_70h', 'VX_71h', 'VX_72h', 'VX_73h', 'VX_74h', 'VX_75h', 'VX_76h', 'VX_77h', 'VX_78h', 'VX_79h', 'VX_80h', 'VX_81h', 'VX_82h', 'VX_83h', 'VX_84h', 'VX_85h', 'VX_86h', 'VX_87h', 'VX_88h', 'VX_89h', 'VX_90h', 'VX_91h', 'VX_92h', 'VX_93h', 'VX_94h', 'VX_95h', 'VX_96h', 'VX_97h', 'VX_98h', 'VX_99h', 'VX_100h', 'VX_101h', 'VX_102h', 'VX_103h', 'VX_104h', 'VX_105h', 'VX_106h', 'VX_107h', 'VX_108h', 'VX_109h', 'VX_110h', 'VX_111h', 'VX_112h', 'VX_113h', 'VX_114h', 'VX_115h', 'VX_116h', 'VX_117h', 'VX_118h', 'VX_119h', 'VX_120h', 'VX_121h', 'VX_122h', 'VX_123h', 'VX_124h', 'VX_125h', 'VX_126h', 'VX_127h', 'VX_128h', 'VX_129h', 'VX_130h', 'VX_131h', 'VX_132h', 'VX_133h', 'VX_134h', 'VX_135h', 'VX_136h', 'VX_137h', 'VX_138h', 'VX_139h', 'VX_140h', 'VX_141h', 'VX_142h', 'VX_143h', 'VX_144h', 'VX_145h', 'VX_146h', 'VX_147h', 'VX_148h', 'VX_149h', 'VX_150h']\n"
     ]
    }
   ],
   "source": [
    "print(VX_time1)"
   ]
  },
  {
   "cell_type": "code",
   "execution_count": null,
   "metadata": {},
   "outputs": [
    {
     "name": "stdout",
     "output_type": "stream",
     "text": [
      "1.1106969956787767 6.5601253442998635\n"
     ]
    }
   ],
   "source": [
    "print(combined_df['Interpolated_Lstar'].min(), combined_df['Interpolated_Lstar'].max())\n",
    "#找到combined_df['Interpolated_Lstar']=2.6对应归一化之后的值\n"
   ]
  },
  {
   "cell_type": "markdown",
   "metadata": {},
   "source": []
  },
  {
   "cell_type": "code",
   "execution_count": 6,
   "metadata": {},
   "outputs": [
    {
     "name": "stdout",
     "output_type": "stream",
     "text": [
      "(1366979, 151, 12)\n"
     ]
    }
   ],
   "source": [
    "X_time1 = combined_df[VX_time1].values  \n",
    "X_time2 = combined_df[SYMH_time2].values \n",
    "X_time3 = combined_df[VX_IS1_time3].values\n",
    "X_time4 = combined_df[BZGSM_time4].values\n",
    "X_time5 = combined_df[TEMP_time5].values\n",
    "X_time6 = combined_df[PDYN_time6].values\n",
    "# X_time7 = combined_df[Kp_time7].values\n",
    "# X_time8 = combined_df[Dst_time8].values\n",
    "X_time9 = combined_df[F107_time9].values\n",
    "X_time10 = combined_df[AE_time10].values\n",
    "X_time11 = combined_df[AL_time11].values\n",
    "X_time12 = combined_df[AU_time12].values\n",
    "X_time13 = combined_df[BZGSM_IS1_time13].values\n",
    "X_time14 = combined_df[TEMP_IS1_time14].values\n",
    "X_time15 = combined_df[PDYN_IS1_time15].values\n",
    "X_time16 = combined_df[F107_IS1_time16].values\n",
    "\n",
    "\n",
    "X_time = np.stack((X_time1, X_time2,X_time3,X_time4,X_time6,X_time9,X_time10,X_time11,X_time12,X_time13,X_time15,X_time16), axis=2)\n",
    "print(X_time.shape)\n",
    "# 定义非时间序列特征列\n",
    "non_time_features = [ 'MLT','Interpolated_Lstar', 'PitchAngle','MLAT']\n",
    "\n",
    "# 提取非时间序列数据\n",
    "X_non_time = combined_df[non_time_features].values  # 形状 (num_samples, 3)\n",
    "y=np.log10(combined_df['Flux'].values +0.5) # 形状 (num_samples,)\n",
    "\n",
    "# 如果是二分类任务，将其转换为二维数组\n",
    "y = y.reshape(-1, 1)  # 形状 (num_samples, 1)\n",
    "flux_error = combined_df['Flux_Error'].values.reshape(-1, 1)"
   ]
  },
  {
   "cell_type": "code",
   "execution_count": 7,
   "metadata": {},
   "outputs": [],
   "source": [
    "del combined_df"
   ]
  },
  {
   "cell_type": "code",
   "execution_count": 8,
   "metadata": {},
   "outputs": [],
   "source": [
    "import pandas as pd\n",
    "import numpy as np\n",
    "from sklearn.model_selection import train_test_split\n",
    "from sklearn.preprocessing import StandardScaler, MinMaxScaler\n",
    "import tensorflow as tf\n",
    "from tensorflow.keras.layers import Input, LSTM, Dense, Concatenate, Dropout\n",
    "from tensorflow.keras.models import Model\n",
    "from tensorflow.keras.callbacks import EarlyStopping\n",
    "import matplotlib.pyplot as plt"
   ]
  },
  {
   "cell_type": "code",
   "execution_count": null,
   "metadata": {},
   "outputs": [],
   "source": [
    "scaler_time = MinMaxScaler()\n",
    "num_samples = X_time.shape[0]\n",
    "time_steps = 301  # 根据您的数据调整\n",
    "num_features = 12  # 您有16个时间序列特征\n",
    "X_time_reshaped = X_time.reshape(-1, num_features)  # (num_samples * time_steps, 16)"
   ]
  },
  {
   "cell_type": "code",
   "execution_count": 10,
   "metadata": {},
   "outputs": [],
   "source": [
    "\n",
    "X_time_scaled = scaler_time.fit_transform(X_time_reshaped)\n",
    "X_time = X_time_scaled.reshape(num_samples, time_steps, num_features)\n",
    "scaler_non_time = StandardScaler()\n",
    "X_non_time = scaler_non_time.fit_transform(X_non_time)\n",
    "scaler_target = MinMaxScaler()\n",
    "y_scaled = scaler_target.fit_transform(y)\n",
    "\n",
    "\n",
    "# 归一化 Flux_Error\n",
    "scaler_flux = MinMaxScaler()\n",
    "flux_error_scaled = scaler_flux.fit_transform(flux_error)  # 缩放到 [0, 1]\n",
    "\n",
    "# 反转权重（假设较高的 Flux_Error 表示较低的质量）\n",
    "flux_error_reversed = 1 - flux_error_scaled \n",
    "min_weight = 0.2\n",
    "flux_error_final = flux_error_reversed * (1 - min_weight) + min_weight  # 缩放到 [min_weight, 1]"
   ]
  },
  {
   "cell_type": "code",
   "execution_count": 11,
   "metadata": {},
   "outputs": [
    {
     "name": "stdout",
     "output_type": "stream",
     "text": [
      "-2.4264567353392694 1.8177877721949838\n",
      "-1.2636204125486967\n"
     ]
    }
   ],
   "source": [
    "print(X_non_time[:,1].min(), X_non_time[:,1].max())\n",
    "original_value = 2.6\n",
    "\n",
    "# 使用 scaler_non_time 转换原始值为标准化后的值\n",
    "scaled_value = scaler_non_time.transform([[0, original_value, 0,0]])\n",
    "\n",
    "L_YZ=scaled_value[0,1]\n",
    "print(L_YZ)"
   ]
  },
  {
   "cell_type": "code",
   "execution_count": 12,
   "metadata": {},
   "outputs": [],
   "source": [
    "X_time_train, X_time_val, X_non_time_train, X_non_time_val, y_train, y_val, weight_train, weight_val = train_test_split(\n",
    "    X_time, X_non_time, y_scaled, flux_error_final, test_size=0.2, random_state=42\n",
    ")"
   ]
  },
  {
   "cell_type": "code",
   "execution_count": 13,
   "metadata": {},
   "outputs": [
    {
     "name": "stdout",
     "output_type": "stream",
     "text": [
      "(None, 64)\n",
      "Model: \"model\"\n",
      "__________________________________________________________________________________________________\n",
      " Layer (type)                   Output Shape         Param #     Connected to                     \n",
      "==================================================================================================\n",
      " time_series_input (InputLayer)  [(None, 151, 12)]   0           []                               \n",
      "                                                                                                  \n",
      " lstm (LSTM)                    (None, 64)           19712       ['time_series_input[0][0]']      \n",
      "                                                                                                  \n",
      " non_time_series_input (InputLa  [(None, 4)]         0           []                               \n",
      " yer)                                                                                             \n",
      "                                                                                                  \n",
      " concatenate (Concatenate)      (None, 68)           0           ['lstm[0][0]',                   \n",
      "                                                                  'non_time_series_input[0][0]']  \n",
      "                                                                                                  \n",
      " dense (Dense)                  (None, 128)          8832        ['concatenate[0][0]']            \n",
      "                                                                                                  \n",
      " dense_1 (Dense)                (None, 64)           8256        ['dense[0][0]']                  \n",
      "                                                                                                  \n",
      " dense_2 (Dense)                (None, 1)            65          ['dense_1[0][0]']                \n",
      "                                                                                                  \n",
      "==================================================================================================\n",
      "Total params: 36,865\n",
      "Trainable params: 36,865\n",
      "Non-trainable params: 0\n",
      "__________________________________________________________________________________________________\n"
     ]
    }
   ],
   "source": [
    "\n",
    "\n",
    "\n",
    "time_series_input = Input(shape=(time_steps, num_features), name='time_series_input')\n",
    "lstm_out = LSTM(64, activation='tanh')(time_series_input)\n",
    "print(lstm_out.shape)\n",
    "\n",
    "# 非时间序列输入：3个特征\n",
    "non_time_series_input = Input(shape=(X_non_time_train.shape[1],), name='non_time_series_input')\n",
    "\n",
    "# 拼接 LSTM 输出和非时间序列输入\n",
    "concatenated = Concatenate()([lstm_out, non_time_series_input])\n",
    "\n",
    "# 全连接层\n",
    "dense1 = Dense(128, activation='relu')(concatenated)\n",
    "dense2 = Dense(64, activation='relu')(dense1)\n",
    "output = Dense(1, activation='sigmoid')(dense2)  # 根据任务调整输出层\n",
    "\n",
    "# 构建模型\n",
    "model = Model(inputs=[time_series_input, non_time_series_input], outputs=output)\n",
    "\n",
    "# 编译模型\n",
    "model.compile(optimizer='adam',\n",
    "              loss='mean_squared_error',  # 根据任务调整损失函数\n",
    "              metrics=['mae'])\n",
    "\n",
    "# 模型概述\n",
    "model.summary()\n",
    "\n",
    "\n",
    "\n",
    "\n"
   ]
  },
  {
   "cell_type": "code",
   "execution_count": 14,
   "metadata": {},
   "outputs": [
    {
     "name": "stdout",
     "output_type": "stream",
     "text": [
      "Epoch 1/100\n",
      "4272/4272 [==============================] - 39s 9ms/step - loss: 0.0164 - mae: 0.0894 - val_loss: 0.0123 - val_mae: 0.0743\n",
      "Epoch 2/100\n",
      "4272/4272 [==============================] - 34s 8ms/step - loss: 0.0093 - mae: 0.0650 - val_loss: 0.0077 - val_mae: 0.0578\n",
      "Epoch 3/100\n",
      "4272/4272 [==============================] - 34s 8ms/step - loss: 0.0070 - mae: 0.0555 - val_loss: 0.0063 - val_mae: 0.0519\n",
      "Epoch 4/100\n",
      "4272/4272 [==============================] - 34s 8ms/step - loss: 0.0057 - mae: 0.0500 - val_loss: 0.0053 - val_mae: 0.0470\n",
      "Epoch 5/100\n",
      "4272/4272 [==============================] - 34s 8ms/step - loss: 0.0050 - mae: 0.0464 - val_loss: 0.0048 - val_mae: 0.0451\n",
      "Epoch 6/100\n",
      "4272/4272 [==============================] - 34s 8ms/step - loss: 0.0045 - mae: 0.0439 - val_loss: 0.0049 - val_mae: 0.0447\n",
      "Epoch 7/100\n",
      "4272/4272 [==============================] - 35s 8ms/step - loss: 0.0042 - mae: 0.0422 - val_loss: 0.0044 - val_mae: 0.0419\n",
      "Epoch 8/100\n",
      "4272/4272 [==============================] - 35s 8ms/step - loss: 0.0040 - mae: 0.0410 - val_loss: 0.0040 - val_mae: 0.0404\n",
      "Epoch 9/100\n",
      "4272/4272 [==============================] - 35s 8ms/step - loss: 0.0038 - mae: 0.0399 - val_loss: 0.0039 - val_mae: 0.0397\n",
      "Epoch 10/100\n",
      "4272/4272 [==============================] - 34s 8ms/step - loss: 0.0037 - mae: 0.0391 - val_loss: 0.0037 - val_mae: 0.0388\n",
      "Epoch 11/100\n",
      "4272/4272 [==============================] - 34s 8ms/step - loss: 0.0036 - mae: 0.0385 - val_loss: 0.0037 - val_mae: 0.0382\n",
      "Epoch 12/100\n",
      "4272/4272 [==============================] - 34s 8ms/step - loss: 0.0035 - mae: 0.0379 - val_loss: 0.0037 - val_mae: 0.0383\n",
      "Epoch 13/100\n",
      "4272/4272 [==============================] - 35s 8ms/step - loss: 0.0034 - mae: 0.0375 - val_loss: 0.0035 - val_mae: 0.0369\n",
      "Epoch 14/100\n",
      "4272/4272 [==============================] - 35s 8ms/step - loss: 0.0034 - mae: 0.0370 - val_loss: 0.0035 - val_mae: 0.0378\n",
      "Epoch 15/100\n",
      "4272/4272 [==============================] - 34s 8ms/step - loss: 0.0033 - mae: 0.0366 - val_loss: 0.0035 - val_mae: 0.0371\n",
      "Epoch 16/100\n",
      "4272/4272 [==============================] - 34s 8ms/step - loss: 0.0033 - mae: 0.0363 - val_loss: 0.0034 - val_mae: 0.0368\n",
      "Epoch 17/100\n",
      "4272/4272 [==============================] - 35s 8ms/step - loss: 0.0032 - mae: 0.0360 - val_loss: 0.0033 - val_mae: 0.0360\n",
      "Epoch 18/100\n",
      "4272/4272 [==============================] - 34s 8ms/step - loss: 0.0032 - mae: 0.0358 - val_loss: 0.0034 - val_mae: 0.0367\n",
      "Epoch 19/100\n",
      "4272/4272 [==============================] - 34s 8ms/step - loss: 0.0031 - mae: 0.0355 - val_loss: 0.0033 - val_mae: 0.0359\n",
      "Epoch 20/100\n",
      "4272/4272 [==============================] - 34s 8ms/step - loss: 0.0031 - mae: 0.0354 - val_loss: 0.0033 - val_mae: 0.0361\n",
      "Epoch 21/100\n",
      "4272/4272 [==============================] - 34s 8ms/step - loss: 0.0031 - mae: 0.0352 - val_loss: 0.0032 - val_mae: 0.0352\n",
      "Epoch 22/100\n",
      "4272/4272 [==============================] - 34s 8ms/step - loss: 0.0030 - mae: 0.0349 - val_loss: 0.0033 - val_mae: 0.0363\n",
      "Epoch 23/100\n",
      "4272/4272 [==============================] - 34s 8ms/step - loss: 0.0030 - mae: 0.0347 - val_loss: 0.0032 - val_mae: 0.0355\n",
      "Epoch 24/100\n",
      "4272/4272 [==============================] - 35s 8ms/step - loss: 0.0030 - mae: 0.0346 - val_loss: 0.0032 - val_mae: 0.0354\n",
      "Epoch 25/100\n",
      "4272/4272 [==============================] - 37s 9ms/step - loss: 0.0030 - mae: 0.0345 - val_loss: 0.0032 - val_mae: 0.0352\n",
      "Epoch 26/100\n",
      "4272/4272 [==============================] - 34s 8ms/step - loss: 0.0030 - mae: 0.0343 - val_loss: 0.0031 - val_mae: 0.0348\n",
      "Epoch 27/100\n",
      "4272/4272 [==============================] - 36s 8ms/step - loss: 0.0029 - mae: 0.0342 - val_loss: 0.0032 - val_mae: 0.0352\n",
      "Epoch 28/100\n",
      "4272/4272 [==============================] - 47s 11ms/step - loss: 0.0029 - mae: 0.0341 - val_loss: 0.0032 - val_mae: 0.0353\n",
      "Epoch 29/100\n",
      "4272/4272 [==============================] - 49s 12ms/step - loss: 0.0029 - mae: 0.0339 - val_loss: 0.0032 - val_mae: 0.0347\n",
      "Epoch 30/100\n",
      "4272/4272 [==============================] - 49s 11ms/step - loss: 0.0029 - mae: 0.0339 - val_loss: 0.0031 - val_mae: 0.0343\n",
      "Epoch 31/100\n",
      "4272/4272 [==============================] - 49s 11ms/step - loss: 0.0029 - mae: 0.0338 - val_loss: 0.0031 - val_mae: 0.0348\n",
      "Epoch 32/100\n",
      "4272/4272 [==============================] - 49s 12ms/step - loss: 0.0029 - mae: 0.0336 - val_loss: 0.0030 - val_mae: 0.0340\n",
      "Epoch 33/100\n",
      "4272/4272 [==============================] - 50s 12ms/step - loss: 0.0029 - mae: 0.0336 - val_loss: 0.0031 - val_mae: 0.0340\n",
      "Epoch 34/100\n",
      "4272/4272 [==============================] - 48s 11ms/step - loss: 0.0028 - mae: 0.0335 - val_loss: 0.0031 - val_mae: 0.0342\n",
      "Epoch 35/100\n",
      "4272/4272 [==============================] - 49s 12ms/step - loss: 0.0028 - mae: 0.0334 - val_loss: 0.0031 - val_mae: 0.0346\n",
      "Epoch 36/100\n",
      "4272/4272 [==============================] - 50s 12ms/step - loss: 0.0028 - mae: 0.0333 - val_loss: 0.0030 - val_mae: 0.0343\n",
      "Epoch 37/100\n",
      "4272/4272 [==============================] - 45s 11ms/step - loss: 0.0028 - mae: 0.0332 - val_loss: 0.0030 - val_mae: 0.0337\n",
      "Epoch 38/100\n",
      "4272/4272 [==============================] - 34s 8ms/step - loss: 0.0028 - mae: 0.0332 - val_loss: 0.0030 - val_mae: 0.0337\n",
      "Epoch 39/100\n",
      "4272/4272 [==============================] - 34s 8ms/step - loss: 0.0028 - mae: 0.0331 - val_loss: 0.0030 - val_mae: 0.0341\n",
      "Epoch 40/100\n",
      "4272/4272 [==============================] - 35s 8ms/step - loss: 0.0028 - mae: 0.0330 - val_loss: 0.0030 - val_mae: 0.0336\n",
      "Epoch 41/100\n",
      "4272/4272 [==============================] - 35s 8ms/step - loss: 0.0028 - mae: 0.0330 - val_loss: 0.0030 - val_mae: 0.0342\n",
      "Epoch 42/100\n",
      "4272/4272 [==============================] - 34s 8ms/step - loss: 0.0028 - mae: 0.0329 - val_loss: 0.0029 - val_mae: 0.0334\n",
      "Epoch 43/100\n",
      "4272/4272 [==============================] - 34s 8ms/step - loss: 0.0028 - mae: 0.0328 - val_loss: 0.0029 - val_mae: 0.0329\n",
      "Epoch 44/100\n",
      "4272/4272 [==============================] - 34s 8ms/step - loss: 0.0028 - mae: 0.0328 - val_loss: 0.0029 - val_mae: 0.0331\n",
      "Epoch 45/100\n",
      "4272/4272 [==============================] - 34s 8ms/step - loss: 0.0027 - mae: 0.0327 - val_loss: 0.0029 - val_mae: 0.0335\n",
      "Epoch 46/100\n",
      "4272/4272 [==============================] - 34s 8ms/step - loss: 0.0027 - mae: 0.0326 - val_loss: 0.0029 - val_mae: 0.0332\n",
      "Epoch 47/100\n",
      "4272/4272 [==============================] - 35s 8ms/step - loss: 0.0027 - mae: 0.0326 - val_loss: 0.0029 - val_mae: 0.0334\n",
      "Epoch 48/100\n",
      "4272/4272 [==============================] - 35s 8ms/step - loss: 0.0027 - mae: 0.0326 - val_loss: 0.0030 - val_mae: 0.0332\n",
      "Epoch 49/100\n",
      "4272/4272 [==============================] - 34s 8ms/step - loss: 0.0027 - mae: 0.0325 - val_loss: 0.0030 - val_mae: 0.0336\n",
      "Epoch 50/100\n",
      "4272/4272 [==============================] - 35s 8ms/step - loss: 0.0027 - mae: 0.0324 - val_loss: 0.0030 - val_mae: 0.0334\n",
      "Epoch 51/100\n",
      "4272/4272 [==============================] - 35s 8ms/step - loss: 0.0027 - mae: 0.0324 - val_loss: 0.0029 - val_mae: 0.0331\n",
      "Epoch 52/100\n",
      "4272/4272 [==============================] - 34s 8ms/step - loss: 0.0027 - mae: 0.0324 - val_loss: 0.0029 - val_mae: 0.0329\n",
      "Epoch 53/100\n",
      "4272/4272 [==============================] - 34s 8ms/step - loss: 0.0027 - mae: 0.0323 - val_loss: 0.0029 - val_mae: 0.0329\n",
      "Epoch 54/100\n",
      "4272/4272 [==============================] - 34s 8ms/step - loss: 0.0027 - mae: 0.0323 - val_loss: 0.0029 - val_mae: 0.0328\n",
      "Epoch 55/100\n",
      "4272/4272 [==============================] - 34s 8ms/step - loss: 0.0027 - mae: 0.0322 - val_loss: 0.0029 - val_mae: 0.0333\n",
      "Epoch 56/100\n",
      "4272/4272 [==============================] - 34s 8ms/step - loss: 0.0027 - mae: 0.0322 - val_loss: 0.0029 - val_mae: 0.0330\n",
      "Epoch 57/100\n",
      "4272/4272 [==============================] - 35s 8ms/step - loss: 0.0027 - mae: 0.0321 - val_loss: 0.0029 - val_mae: 0.0326\n",
      "Epoch 58/100\n",
      "4272/4272 [==============================] - 35s 8ms/step - loss: 0.0027 - mae: 0.0321 - val_loss: 0.0029 - val_mae: 0.0329\n",
      "Epoch 59/100\n",
      "4272/4272 [==============================] - 48s 11ms/step - loss: 0.0027 - mae: 0.0321 - val_loss: 0.0029 - val_mae: 0.0330\n",
      "Epoch 60/100\n",
      "4272/4272 [==============================] - 48s 11ms/step - loss: 0.0027 - mae: 0.0321 - val_loss: 0.0028 - val_mae: 0.0325\n",
      "Epoch 61/100\n",
      "4272/4272 [==============================] - 48s 11ms/step - loss: 0.0026 - mae: 0.0320 - val_loss: 0.0028 - val_mae: 0.0327\n",
      "Epoch 62/100\n",
      "4272/4272 [==============================] - 48s 11ms/step - loss: 0.0026 - mae: 0.0320 - val_loss: 0.0029 - val_mae: 0.0331\n",
      "Epoch 63/100\n",
      "4272/4272 [==============================] - 48s 11ms/step - loss: 0.0026 - mae: 0.0320 - val_loss: 0.0028 - val_mae: 0.0326\n",
      "Epoch 64/100\n",
      "4272/4272 [==============================] - 48s 11ms/step - loss: 0.0026 - mae: 0.0319 - val_loss: 0.0029 - val_mae: 0.0331\n",
      "Epoch 65/100\n",
      "4272/4272 [==============================] - 48s 11ms/step - loss: 0.0026 - mae: 0.0319 - val_loss: 0.0028 - val_mae: 0.0328\n",
      "Epoch 66/100\n",
      "4272/4272 [==============================] - 48s 11ms/step - loss: 0.0026 - mae: 0.0319 - val_loss: 0.0029 - val_mae: 0.0328\n",
      "Epoch 67/100\n",
      "4272/4272 [==============================] - 49s 11ms/step - loss: 0.0026 - mae: 0.0318 - val_loss: 0.0028 - val_mae: 0.0326\n",
      "Epoch 68/100\n",
      "4272/4272 [==============================] - 49s 11ms/step - loss: 0.0026 - mae: 0.0318 - val_loss: 0.0029 - val_mae: 0.0330\n",
      "Epoch 69/100\n",
      "4272/4272 [==============================] - 48s 11ms/step - loss: 0.0026 - mae: 0.0318 - val_loss: 0.0029 - val_mae: 0.0334\n",
      "Epoch 70/100\n",
      "4272/4272 [==============================] - 48s 11ms/step - loss: 0.0026 - mae: 0.0318 - val_loss: 0.0028 - val_mae: 0.0325\n",
      "Epoch 71/100\n",
      "4272/4272 [==============================] - 48s 11ms/step - loss: 0.0026 - mae: 0.0317 - val_loss: 0.0028 - val_mae: 0.0324\n",
      "Epoch 72/100\n",
      "4272/4272 [==============================] - 48s 11ms/step - loss: 0.0026 - mae: 0.0317 - val_loss: 0.0028 - val_mae: 0.0325\n",
      "Epoch 73/100\n",
      "4272/4272 [==============================] - 48s 11ms/step - loss: 0.0026 - mae: 0.0317 - val_loss: 0.0028 - val_mae: 0.0324\n",
      "Epoch 74/100\n",
      "4272/4272 [==============================] - 48s 11ms/step - loss: 0.0026 - mae: 0.0316 - val_loss: 0.0028 - val_mae: 0.0324\n",
      "Epoch 75/100\n",
      "4272/4272 [==============================] - 48s 11ms/step - loss: 0.0026 - mae: 0.0316 - val_loss: 0.0028 - val_mae: 0.0324\n",
      "Epoch 76/100\n",
      "4272/4272 [==============================] - 48s 11ms/step - loss: 0.0026 - mae: 0.0316 - val_loss: 0.0028 - val_mae: 0.0324\n",
      "Epoch 77/100\n",
      "4272/4272 [==============================] - 48s 11ms/step - loss: 0.0026 - mae: 0.0316 - val_loss: 0.0028 - val_mae: 0.0325\n",
      "Epoch 78/100\n",
      "4272/4272 [==============================] - 48s 11ms/step - loss: 0.0026 - mae: 0.0315 - val_loss: 0.0028 - val_mae: 0.0325\n",
      "Epoch 79/100\n",
      "4272/4272 [==============================] - 48s 11ms/step - loss: 0.0026 - mae: 0.0316 - val_loss: 0.0028 - val_mae: 0.0322\n",
      "Epoch 80/100\n",
      "4272/4272 [==============================] - 48s 11ms/step - loss: 0.0026 - mae: 0.0315 - val_loss: 0.0028 - val_mae: 0.0327\n",
      "Epoch 81/100\n",
      "4272/4272 [==============================] - 48s 11ms/step - loss: 0.0026 - mae: 0.0315 - val_loss: 0.0028 - val_mae: 0.0323\n",
      "Epoch 82/100\n",
      "4272/4272 [==============================] - 48s 11ms/step - loss: 0.0026 - mae: 0.0315 - val_loss: 0.0028 - val_mae: 0.0324\n",
      "Epoch 83/100\n",
      "4272/4272 [==============================] - 48s 11ms/step - loss: 0.0026 - mae: 0.0314 - val_loss: 0.0029 - val_mae: 0.0327\n",
      "Epoch 84/100\n",
      "4272/4272 [==============================] - 48s 11ms/step - loss: 0.0026 - mae: 0.0314 - val_loss: 0.0028 - val_mae: 0.0321\n",
      "Epoch 85/100\n",
      "4272/4272 [==============================] - 48s 11ms/step - loss: 0.0026 - mae: 0.0314 - val_loss: 0.0028 - val_mae: 0.0323\n",
      "Epoch 86/100\n",
      "4272/4272 [==============================] - 48s 11ms/step - loss: 0.0026 - mae: 0.0314 - val_loss: 0.0028 - val_mae: 0.0324\n",
      "Epoch 87/100\n",
      "4272/4272 [==============================] - 48s 11ms/step - loss: 0.0026 - mae: 0.0314 - val_loss: 0.0028 - val_mae: 0.0322\n",
      "Epoch 88/100\n",
      "4272/4272 [==============================] - 48s 11ms/step - loss: 0.0026 - mae: 0.0314 - val_loss: 0.0029 - val_mae: 0.0338\n",
      "Epoch 89/100\n",
      "4272/4272 [==============================] - 48s 11ms/step - loss: 0.0026 - mae: 0.0313 - val_loss: 0.0028 - val_mae: 0.0322\n",
      "Epoch 90/100\n",
      "4272/4272 [==============================] - 48s 11ms/step - loss: 0.0026 - mae: 0.0313 - val_loss: 0.0028 - val_mae: 0.0320\n",
      "Epoch 91/100\n",
      "4272/4272 [==============================] - 48s 11ms/step - loss: 0.0026 - mae: 0.0313 - val_loss: 0.0028 - val_mae: 0.0324\n",
      "Epoch 92/100\n",
      "4272/4272 [==============================] - 48s 11ms/step - loss: 0.0025 - mae: 0.0313 - val_loss: 0.0028 - val_mae: 0.0321\n",
      "Epoch 93/100\n",
      "4272/4272 [==============================] - 48s 11ms/step - loss: 0.0025 - mae: 0.0313 - val_loss: 0.0028 - val_mae: 0.0321\n",
      "Epoch 94/100\n",
      "4272/4272 [==============================] - 48s 11ms/step - loss: 0.0025 - mae: 0.0312 - val_loss: 0.0028 - val_mae: 0.0322\n",
      "Epoch 95/100\n",
      "4272/4272 [==============================] - 48s 11ms/step - loss: 0.0025 - mae: 0.0312 - val_loss: 0.0028 - val_mae: 0.0320\n",
      "Epoch 96/100\n",
      "4272/4272 [==============================] - 48s 11ms/step - loss: 0.0025 - mae: 0.0312 - val_loss: 0.0028 - val_mae: 0.0320\n",
      "Epoch 97/100\n",
      "4272/4272 [==============================] - 48s 11ms/step - loss: 0.0025 - mae: 0.0312 - val_loss: 0.0028 - val_mae: 0.0320\n",
      "Epoch 98/100\n",
      "4272/4272 [==============================] - 48s 11ms/step - loss: 0.0025 - mae: 0.0312 - val_loss: 0.0028 - val_mae: 0.0320\n",
      "Epoch 99/100\n",
      "4272/4272 [==============================] - 48s 11ms/step - loss: 0.0025 - mae: 0.0312 - val_loss: 0.0028 - val_mae: 0.0321\n",
      "Epoch 100/100\n",
      "4272/4272 [==============================] - 48s 11ms/step - loss: 0.0025 - mae: 0.0311 - val_loss: 0.0028 - val_mae: 0.0322\n"
     ]
    }
   ],
   "source": [
    "history = model.fit(\n",
    "    [X_time_train, X_non_time_train],  # 输入\n",
    "    y_train,\n",
    "    epochs=100,  # 设置较大的 epoch，早停会提前终止\n",
    "    batch_size=256,\n",
    "    validation_data=([X_time_val, X_non_time_val], y_val),\n",
    "    sample_weight=weight_train.flatten()\n",
    ")"
   ]
  },
  {
   "cell_type": "code",
   "execution_count": 15,
   "metadata": {},
   "outputs": [
    {
     "data": {
      "text/plain": [
       "['scaler_target.pkl']"
      ]
     },
     "execution_count": 15,
     "metadata": {},
     "output_type": "execute_result"
    }
   ],
   "source": [
    "#保存scaler_time\n",
    "import joblib\n",
    "joblib.dump(scaler_time, 'scaler_time.pkl')\n",
    "joblib.dump(scaler_non_time, 'scaler_non_time.pkl')\n",
    "joblib.dump(scaler_target, 'scaler_target.pkl')\n"
   ]
  },
  {
   "cell_type": "code",
   "execution_count": null,
   "metadata": {},
   "outputs": [],
   "source": [
    "# y_pred_scaled = model.predict([X_time_val, X_non_time_val])\n",
    "\n",
    "# # 反缩放预测结果\n",
    "# y_pred = scaler_target.inverse_transform(y_pred_scaled)\n",
    "# y_val_original = scaler_target.inverse_transform(y_val)"
   ]
  },
  {
   "cell_type": "code",
   "execution_count": null,
   "metadata": {},
   "outputs": [],
   "source": [
    "# from sklearn.metrics import mean_squared_error, r2_score\n",
    "# rmse = np.sqrt(mean_squared_error(y_val_original, y_pred))\n",
    "# r2 = r2_score(y_val_original, y_pred)\n",
    "# print(f'测试集上的 RMSE: {rmse}',f'测试集上的 R2: {r2}')\n",
    "\n",
    "\n",
    "# # 15. 可视化训练过程\n",
    "# import matplotlib.pyplot as plt\n",
    "\n",
    "# # 绘制训练和验证的损失\n",
    "# plt.figure(figsize=(12, 4))\n",
    "# plt.subplot(1, 2, 1)\n",
    "# plt.plot(history.history['loss'], label='训练损失')\n",
    "# plt.plot(history.history['val_loss'], label='验证损失')\n",
    "# plt.legend()\n",
    "# plt.xlabel('Epoch')\n",
    "# plt.ylabel('Loss (MSE)')\n",
    "# plt.title('Training and Validation Loss')\n",
    "\n",
    "# # 绘制训练和验证的 MAE\n",
    "# plt.subplot(1, 2, 2)\n",
    "# plt.plot(history.history['mae'], label='训练 MAE')\n",
    "# plt.plot(history.history['val_mae'], label='验证 MAE')\n",
    "# plt.legend()\n",
    "# plt.xlabel('Epoch')\n",
    "# plt.ylabel('MAE')\n",
    "# plt.title('Training and Validation MAE')\n",
    "\n",
    "# plt.show()"
   ]
  },
  {
   "cell_type": "code",
   "execution_count": 16,
   "metadata": {},
   "outputs": [],
   "source": [
    "import numpy as np\n",
    "import pandas as pd\n",
    "from sklearn.model_selection import train_test_split\n",
    "from sklearn.preprocessing import StandardScaler\n",
    "import tensorflow as tf\n",
    "from tensorflow import keras"
   ]
  },
  {
   "cell_type": "code",
   "execution_count": 17,
   "metadata": {},
   "outputs": [],
   "source": [
    "#保存模型\n",
    "\n",
    "model.save('LSTM_H_1_model.h5')\n",
    "#读取模型\n",
    "#model = keras.models.load_model('LOW2_model.h5')"
   ]
  },
  {
   "cell_type": "code",
   "execution_count": null,
   "metadata": {},
   "outputs": [
    {
     "name": "stdout",
     "output_type": "stream",
     "text": [
      "6206/6206 [==============================] - 18s 3ms/step\n",
      "测试集上的 RMSE: 0.22566464407809073 测试集上的 R2: 0.9549048366703419\n"
     ]
    },
    {
     "name": "stderr",
     "output_type": "stream",
     "text": [
      "d:\\anaconda3\\envs\\tensorflow\\lib\\site-packages\\seaborn\\_oldcore.py:1119: FutureWarning: use_inf_as_na option is deprecated and will be removed in a future version. Convert inf values to NaN before operating instead.\n",
      "  with pd.option_context('mode.use_inf_as_na', True):\n",
      "d:\\anaconda3\\envs\\tensorflow\\lib\\site-packages\\seaborn\\_oldcore.py:1119: FutureWarning: use_inf_as_na option is deprecated and will be removed in a future version. Convert inf values to NaN before operating instead.\n",
      "  with pd.option_context('mode.use_inf_as_na', True):\n"
     ]
    }
   ],
   "source": [
    "import numpy as np\n",
    "import matplotlib.pyplot as plt\n",
    "from sklearn.metrics import mean_squared_error\n",
    "from sklearn.metrics import mean_squared_error, r2_score\n",
    "import seaborn as sns\n",
    "\n",
    "\n",
    "#去除X_non_time_val[:,2]中<L_YZ的值,并将其对应的X_time_val，y_val中的值也去除\n",
    "mask = X_non_time_val[:,1] < L_YZ\n",
    "X_non_time_val = X_non_time_val[~mask]\n",
    "X_time_val = X_time_val[~mask]\n",
    "y_val = y_val[~mask]\n",
    "\n",
    "# 显示负号\n",
    "plt.rcParams['axes.unicode_minus'] = False\n",
    "\n",
    "y_pred_scaled = model.predict([X_time_val, X_non_time_val])\n",
    "\n",
    "# 反缩放预测结果\n",
    "y_pred = scaler_target.inverse_transform(y_pred_scaled)\n",
    "y_test_subset = scaler_target.inverse_transform(y_val)\n",
    "\n",
    "\n",
    "\n",
    "# 将对数值还原（如果需要）\n",
    "y_test_exp = y_test_subset.flatten()\n",
    "y_pred_exp = y_pred.flatten()\n",
    "\n",
    "# 计算均方根误差（RMSE）\n",
    "rmse = np.sqrt(mean_squared_error(y_test_exp, y_pred_exp))\n",
    "r2 = r2_score(y_test_subset, y_pred)\n",
    "print(f'测试集上的 RMSE: {rmse}',f'测试集上的 R2: {r2}')\n",
    "\n",
    "# 创建绘图\n",
    "plt.figure(figsize=(9, 6))\n",
    "\n",
    "# 使用 Seaborn 的 kdeplot 绘制联合概率密度图\n",
    "ax = sns.kdeplot(\n",
    "    x=y_test_exp, \n",
    "    y=y_pred_exp, \n",
    "    cmap='viridis', \n",
    "    fill=True, \n",
    "    thresh=0, \n",
    "    levels=100\n",
    ")\n",
    "\n",
    "# 添加理想拟合线\n",
    "plt.plot(\n",
    "    [y_test_exp.min(), y_test_exp.max()], \n",
    "    [y_test_exp.min(), y_test_exp.max()], \n",
    "    'r--', \n",
    "    label='理想拟合线'\n",
    ")\n",
    "\n",
    "# 提取绘图的颜色集合（PolyCollection）\n",
    "collections = ax.collections\n",
    "\n",
    "if collections:\n",
    "    # 创建颜色条，基于第一个集合（KDE 图）\n",
    "    cbar = plt.colorbar(collections[0], ax=ax)\n",
    "    cbar.set_label('Probability Density',fontsize=18)\n",
    "\n",
    "ax.text(\n",
    "    0.05, 0.95, \n",
    "    f'$RMSE$: {rmse:.4f}\\n$R^2$: {r2:.4f}', \n",
    "    transform=ax.transAxes,\n",
    "    fontsize=16,\n",
    "    verticalalignment='top',\n",
    "    bbox=dict(boxstyle='round', facecolor='white', alpha=0.5)\n",
    ")\n",
    "# plt.xlim(-8, -4)\n",
    "# plt.ylim(-8, -4)\n",
    "# # 添加图例\n",
    "# plt.legend()\n",
    "\n",
    "# 设置坐标轴标签和标题\n",
    "plt.xlabel('$log^{10}(PSD_{model})$',fontsize=18)\n",
    "plt.ylabel('$log^{10}(PSD_{obs})$',fontsize=18)\n",
    "# plt.title('真实值与预测值的概率密度图')\n",
    "\n",
    "# 显示图形\n",
    "plt.show()"
   ]
  }
 ],
 "metadata": {
  "kernelspec": {
   "display_name": "tensorflow",
   "language": "python",
   "name": "python3"
  },
  "language_info": {
   "codemirror_mode": {
    "name": "ipython",
    "version": 3
   },
   "file_extension": ".py",
   "mimetype": "text/x-python",
   "name": "python",
   "nbconvert_exporter": "python",
   "pygments_lexer": "ipython3",
   "version": "3.9.18"
  }
 },
 "nbformat": 4,
 "nbformat_minor": 2
}
