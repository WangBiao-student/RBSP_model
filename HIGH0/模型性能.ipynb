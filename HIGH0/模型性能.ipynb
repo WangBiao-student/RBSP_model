{
 "cells": [
  {
   "cell_type": "code",
   "execution_count": 1,
   "metadata": {},
   "outputs": [],
   "source": [
    "\n",
    "import pandas as pd\n",
    "import warnings\n",
    "import numpy as np\n",
    "# 完全忽略PerformanceWarning\n",
    "warnings.filterwarnings('ignore', category=pd.errors.PerformanceWarning)\n",
    "import numpy as np\n",
    "from sklearn.model_selection import train_test_split\n",
    "from sklearn.preprocessing import StandardScaler, MinMaxScaler\n",
    "import tensorflow as tf\n",
    "from tensorflow.keras.layers import Input, LSTM, Dense, Concatenate, Dropout\n",
    "from tensorflow.keras.models import Model\n",
    "from tensorflow.keras.callbacks import EarlyStopping\n",
    "import matplotlib.pyplot as plt"
   ]
  },
  {
   "cell_type": "code",
   "execution_count": 2,
   "metadata": {},
   "outputs": [],
   "source": [
    "\n",
    "combined_df=pd.read_hdf('combined_df_test.h5', key='df')"
   ]
  },
  {
   "cell_type": "code",
   "execution_count": 3,
   "metadata": {},
   "outputs": [
    {
     "name": "stdout",
     "output_type": "stream",
     "text": [
      "    Interpolated_Lstar        Flux\n",
      "0                  1.1    0.003084\n",
      "1                  1.2    0.000610\n",
      "2                  1.3    0.000800\n",
      "3                  1.4    0.000000\n",
      "4                  1.5    1.161012\n",
      "5                  1.6    4.470628\n",
      "6                  1.7    3.900471\n",
      "7                  1.8    1.667228\n",
      "8                  1.9    0.474452\n",
      "9                  2.0    0.056930\n",
      "10                 2.1    0.022203\n",
      "11                 2.2    0.024613\n",
      "12                 2.3    0.052802\n",
      "13                 2.4    0.114697\n",
      "14                 2.5    0.464889\n",
      "15                 2.6    0.804655\n",
      "16                 2.7    3.303617\n",
      "17                 2.8    6.039007\n",
      "18                 2.9   15.063213\n",
      "19                 3.0   29.533584\n",
      "20                 3.1   47.932464\n",
      "21                 3.2   78.023256\n",
      "22                 3.3  147.873573\n",
      "23                 3.4  207.312684\n",
      "24                 3.5  269.313306\n",
      "25                 3.6  360.320551\n",
      "26                 3.7  445.877044\n",
      "27                 3.8  532.628621\n",
      "28                 3.9  595.238382\n",
      "29                 4.0  652.928453\n",
      "30                 4.1  707.880439\n",
      "31                 4.2  739.482424\n",
      "32                 4.3  764.076322\n",
      "33                 4.4  743.971203\n",
      "34                 4.5  723.228983\n",
      "35                 4.6  687.119308\n",
      "36                 4.7  632.768177\n",
      "37                 4.8  565.322068\n",
      "38                 4.9  497.989902\n",
      "39                 5.0  442.835839\n",
      "40                 5.1  372.054955\n",
      "41                 5.2  314.864055\n",
      "42                 5.3  274.105957\n",
      "43                 5.4  247.155174\n",
      "44                 5.5  208.842451\n",
      "45                 5.6  161.278453\n",
      "46                 5.7  129.247355\n",
      "47                 5.8   95.997890\n",
      "48                 5.9   74.627417\n",
      "49                 6.0   56.898456\n",
      "50                 6.1   62.532068\n",
      "51                 6.2   83.931591\n",
      "52                 6.3   79.746419\n",
      "53                 6.4   53.286229\n",
      "54                 6.5    8.133803\n"
     ]
    }
   ],
   "source": [
    "# combined_df=combined_df[combined_df['Kp_0h'] <30]\n",
    "# flux_dict = {}\n",
    "# for i in np.arange(1.1, 6.6, 0.1):\n",
    "#     combined_df_i = combined_df[combined_df['Interpolated_Lstar'] > i]\n",
    "#     combined_df_i = combined_df_i[combined_df_i['Interpolated_Lstar'] < i + 0.1]\n",
    "#     #计算范围内的Flux均值\n",
    "#     flux_mean = combined_df_i['Flux'].mean()\n",
    "#     #将均值存入字典中\n",
    "#     flux_dict[i] = flux_mean\n",
    "# #将flux_dict保存为csv文件\n",
    "# flux_df = pd.DataFrame(list(flux_dict.items()), columns=['Interpolated_Lstar', 'Flux'])\n",
    "# print(flux_df)\n",
    "# flux_df.to_csv('flux_L_1064.csv', index=False)"
   ]
  },
  {
   "cell_type": "code",
   "execution_count": 3,
   "metadata": {},
   "outputs": [
    {
     "name": "stdout",
     "output_type": "stream",
     "text": [
      "                          Time         Flux  Flux_Error  PitchAngle  \\\n",
      "0      2012-10-05 00:02:15.891  1379.325195    2.129150  155.454545   \n",
      "1      2012-10-05 00:03:22.160    54.141201    7.784909  106.363636   \n",
      "2      2012-10-05 00:03:43.449   741.628357    4.000000    8.181818   \n",
      "3      2012-10-05 00:04:38.170  1736.725220    1.414217   40.909091   \n",
      "4      2012-10-05 00:05:00.649    53.410698    8.124733   90.000000   \n",
      "...                        ...          ...         ...         ...   \n",
      "886342 2018-12-31 23:39:18.970     0.000000  198.313507   73.636364   \n",
      "886343 2018-12-31 23:39:50.893     0.468969   87.064613   40.909091   \n",
      "886344 2018-12-31 23:40:33.457     0.000000  160.196167   90.000000   \n",
      "886345 2018-12-31 23:41:58.585     0.662809   70.756607  139.090909   \n",
      "886346 2018-12-31 23:52:58.329     0.000000  133.242050  106.363636   \n",
      "\n",
      "            B_Calc        B_Eq         I         L    L_star        MLT  ...  \\\n",
      "0       462.260007  431.858483  0.167121  4.091372  3.862556   4.133299  ...   \n",
      "1       250.009141  158.303692  1.720462  5.680722  5.177750   8.026382  ...   \n",
      "2       450.607525  419.669659  0.175716  4.129541  3.893961   4.169734  ...   \n",
      "3       443.601680  412.340385  0.181155  4.153194  3.913382   4.192211  ...   \n",
      "4       253.047595  160.044790  1.719875  5.660575  5.162890   8.051432  ...   \n",
      "...            ...         ...       ...       ...       ...        ...  ...   \n",
      "886342  683.353558  524.277964  0.643613  3.810606  3.706281  21.310963  ...   \n",
      "886343  691.714725  532.171990  0.634813  3.792457  3.690229  21.328139  ...   \n",
      "886344  703.206438  543.062040  0.623048  3.768126  3.668687  21.351313  ...   \n",
      "886345  727.010553  565.715372  0.599446  3.719156  3.625244  21.398300  ...   \n",
      "886346  967.785467  802.266487  0.414645  3.323892  3.268814  21.802097  ...   \n",
      "\n",
      "        Kp_150h  Dst_150h  F107_150h  AE_150h  AL_150h  AU_150h  \\\n",
      "0             0        12      138.3       34      -23       11   \n",
      "1             0        12      138.3       34      -23       11   \n",
      "2             0        12      138.3       34      -23       11   \n",
      "3             0        12      138.3       34      -23       11   \n",
      "4             0        12      138.3       34      -23       11   \n",
      "...         ...       ...        ...      ...      ...      ...   \n",
      "886342       13        -7       67.3      156      -97       59   \n",
      "886343       13        -7       67.3      156      -97       59   \n",
      "886344       13        -7       67.3      156      -97       59   \n",
      "886345       13        -7       67.3      156      -97       59   \n",
      "886346       13        -7       67.3      156      -97       59   \n",
      "\n",
      "        BZGSM_IS1_150h  TEMP_IS1_150h  PDYN_IS1_150h  F107_IS1_150h  \n",
      "0                    1              1              1              1  \n",
      "1                    1              1              1              1  \n",
      "2                    1              1              1              1  \n",
      "3                    1              1              1              1  \n",
      "4                    1              1              1              1  \n",
      "...                ...            ...            ...            ...  \n",
      "886342               1              1              1              1  \n",
      "886343               1              1              1              1  \n",
      "886344               1              1              1              1  \n",
      "886345               1              1              1              1  \n",
      "886346               1              1              1              1  \n",
      "\n",
      "[886347 rows x 2431 columns]\n"
     ]
    }
   ],
   "source": [
    "print(combined_df)"
   ]
  },
  {
   "cell_type": "code",
   "execution_count": 4,
   "metadata": {},
   "outputs": [],
   "source": [
    "time_steps=150\n",
    "VX_time1 = [f'VX_{i}h' for i in range(0, time_steps + 1)]\n",
    "SYMH_time2 = [f'SYMH_{i}h' for i in range(0, time_steps + 1)]\n",
    "VX_IS1_time3 = [f'VX_IS1_{i}h' for i in range(0, time_steps + 1)]\n",
    "BZGSM_time4 = [f'BZGSM_{i}h' for i in range(0, time_steps + 1)]\n",
    "TEMP_time5 = [f'TEMP_{i}h' for i in range(0, time_steps + 1)]\n",
    "PDYN_time6 = [f'PDYN_{i}h' for i in range(0, time_steps + 1)]\n",
    "Kp_time7 = [f'Kp_{i}h' for i in range(0, time_steps + 1)]\n",
    "Dst_time8 = [f'Dst_{i}h' for i in range(0, time_steps + 1)]\n",
    "F107_time9 = [f'F107_{i}h' for i in range(0, time_steps + 1)]\n",
    "AE_time10 = [f'AE_{i}h' for i in range(0, time_steps + 1)]\n",
    "AL_time11 = [f'AL_{i}h' for i in range(0, time_steps + 1)]\n",
    "AU_time12 = [f'AU_{i}h' for i in range(0, time_steps + 1)]\n",
    "BZGSM_IS1_time13 = [f'BZGSM_IS1_{i}h' for i in range(0, time_steps + 1)]\n",
    "TEMP_IS1_time14 = [f'TEMP_IS1_{i}h' for i in range(0, time_steps + 1)]\n",
    "PDYN_IS1_time15 = [f'PDYN_IS1_{i}h' for i in range(0, time_steps + 1)]\n",
    "F107_IS1_time16 = [f'F107_IS1_{i}h' for i in range(0, time_steps + 1)]\n"
   ]
  },
  {
   "cell_type": "code",
   "execution_count": 5,
   "metadata": {},
   "outputs": [
    {
     "name": "stdout",
     "output_type": "stream",
     "text": [
      "(886347, 151, 12)\n"
     ]
    }
   ],
   "source": [
    "X_time1 = combined_df[VX_time1].values  \n",
    "X_time2 = combined_df[SYMH_time2].values \n",
    "X_time3 = combined_df[VX_IS1_time3].values\n",
    "X_time4 = combined_df[BZGSM_time4].values\n",
    "# X_time5 = combined_df[TEMP_time5].values\n",
    "X_time6 = combined_df[PDYN_time6].values\n",
    "# X_time7 = combined_df[Kp_time7].values\n",
    "# X_time8 = combined_df[Dst_time8].values\n",
    "X_time9 = combined_df[F107_time9].values\n",
    "X_time10 = combined_df[AE_time10].values\n",
    "X_time11 = combined_df[AL_time11].values\n",
    "X_time12 = combined_df[AU_time12].values\n",
    "X_time13 = combined_df[BZGSM_IS1_time13].values\n",
    "# X_time14 = combined_df[TEMP_IS1_time14].values\n",
    "X_time15 = combined_df[PDYN_IS1_time15].values\n",
    "X_time16 = combined_df[F107_IS1_time16].values\n",
    "\n",
    "\n",
    "X_time = np.stack((X_time1, X_time2,X_time3,X_time4,X_time6,X_time9,X_time10,X_time11,X_time12,X_time13,X_time15,X_time16), axis=2)\n",
    "print(X_time.shape)\n",
    "# 定义非时间序列特征列\n",
    "non_time_features = [ 'MLT','Interpolated_Lstar', 'PitchAngle','MLAT']\n",
    "\n",
    "# 提取非时间序列数据\n",
    "X_non_time = combined_df[non_time_features].values  # 形状 (num_samples, 3)\n",
    "y = np.log10(combined_df['Flux'].values+0.2 ) # 形状 (num_samples,)\n",
    "\n",
    "# 如果是二分类任务，将其转换为二维数组\n",
    "y = y.reshape(-1, 1)  # 形状 (num_samples, 1)\n",
    "flux_error = combined_df['Flux_Error'].values.reshape(-1, 1)"
   ]
  },
  {
   "cell_type": "code",
   "execution_count": 6,
   "metadata": {},
   "outputs": [],
   "source": [
    "scaler_time = MinMaxScaler()\n",
    "num_samples = X_time.shape[0]\n",
    "time_steps = 151  # 根据您的数据调整\n",
    "num_features = 12  # 您有16个时间序列特征\n",
    "X_time_reshaped = X_time.reshape(-1, num_features)  # (num_samples * time_steps, 16)\n",
    "X_time_scaled = scaler_time.fit_transform(X_time_reshaped)\n",
    "X_time = X_time_scaled.reshape(num_samples, time_steps, num_features)\n",
    "scaler_non_time = StandardScaler()\n",
    "X_non_time = scaler_non_time.fit_transform(X_non_time)\n",
    "scaler_target = MinMaxScaler()\n",
    "y_scaled = scaler_target.fit_transform(y)\n",
    "\n",
    "\n",
    "# 归一化 Flux_Error\n",
    "scaler_flux = MinMaxScaler()\n",
    "flux_error_scaled = scaler_flux.fit_transform(flux_error)  # 缩放到 [0, 1]\n",
    "\n",
    "# 反转权重（假设较高的 Flux_Error 表示较低的质量）\n",
    "flux_error_reversed = 1 - flux_error_scaled \n",
    "min_weight = 0.2\n",
    "flux_error_final = flux_error_reversed * (1 - min_weight) + min_weight  # 缩放到 [min_weight, 1]"
   ]
  },
  {
   "cell_type": "code",
   "execution_count": 7,
   "metadata": {},
   "outputs": [
    {
     "name": "stdout",
     "output_type": "stream",
     "text": [
      "-1.7403737172825764 1.889161624065997\n",
      "-1.8641812005930225\n"
     ]
    }
   ],
   "source": [
    "print(X_non_time[:,2].min(), X_non_time[:,2].max())\n",
    "original_value = 2.6\n",
    "\n",
    "# 使用 scaler_non_time 转换原始值为标准化后的值\n",
    "scaled_value = scaler_non_time.transform([[0, 0, original_value, 0]])\n",
    "\n",
    "L_YZ=scaled_value[0,2]\n",
    "print(L_YZ)"
   ]
  },
  {
   "cell_type": "code",
   "execution_count": 8,
   "metadata": {},
   "outputs": [],
   "source": [
    "X_time_train, X_time_val, X_non_time_train, X_non_time_val, y_train, y_val, weight_train, weight_val = train_test_split(\n",
    "    X_time, X_non_time, y_scaled, flux_error_final, test_size=0.2, random_state=42\n",
    ")"
   ]
  },
  {
   "cell_type": "code",
   "execution_count": 9,
   "metadata": {},
   "outputs": [],
   "source": [
    "#读入模型\n",
    "model = tf.keras.models.load_model('LSTM_HIGH_0_model.h5')\n"
   ]
  },
  {
   "cell_type": "code",
   "execution_count": 10,
   "metadata": {},
   "outputs": [
    {
     "name": "stdout",
     "output_type": "stream",
     "text": [
      "5540/5540 [==============================] - 17s 3ms/step\n",
      "测试集上的 RMSE: 0.20670292832757564 测试集上的 R2: 0.9782461126094127\n",
      "测试集上的 RMSE_10: 227.25957478824324\n",
      "预测效率 (PE): 0.9782461126094127\n"
     ]
    },
    {
     "name": "stderr",
     "output_type": "stream",
     "text": [
      "d:\\anaconda3\\envs\\tensorflow\\lib\\site-packages\\seaborn\\_oldcore.py:1119: FutureWarning: use_inf_as_na option is deprecated and will be removed in a future version. Convert inf values to NaN before operating instead.\n",
      "  with pd.option_context('mode.use_inf_as_na', True):\n",
      "d:\\anaconda3\\envs\\tensorflow\\lib\\site-packages\\seaborn\\_oldcore.py:1119: FutureWarning: use_inf_as_na option is deprecated and will be removed in a future version. Convert inf values to NaN before operating instead.\n",
      "  with pd.option_context('mode.use_inf_as_na', True):\n"
     ]
    },
    {
     "data": {
      "image/png": "[encoded data removed]",
      "text/plain": [
       "<Figure size 900x600 with 2 Axes>"
      ]
     },
     "metadata": {},
     "output_type": "display_data"
    }
   ],
   "source": [
    "import numpy as np\n",
    "import matplotlib.pyplot as plt\n",
    "from sklearn.metrics import mean_squared_error\n",
    "from sklearn.metrics import mean_squared_error, r2_score\n",
    "import seaborn as sns\n",
    "\n",
    "# 显示负号\n",
    "plt.rcParams['axes.unicode_minus'] = False\n",
    "\n",
    "mask = X_non_time_val[:,2] < L_YZ\n",
    "X_non_time_val_out = X_non_time_val[~mask]\n",
    "X_time_val_out = X_time_val[~mask]\n",
    "y_val_out = y_val[~mask]\n",
    "\n",
    "y_pred_scaled = model.predict([X_time_val_out, X_non_time_val_out])\n",
    "\n",
    "# 反缩放预测结果\n",
    "y_pred = scaler_target.inverse_transform(y_pred_scaled)\n",
    "y_test_subset = scaler_target.inverse_transform(y_val_out)\n",
    "# 生成布尔掩码\n",
    "\n",
    "\n",
    "y_test_exp = y_test_subset.flatten()\n",
    "y_pred_exp = y_pred.flatten()\n",
    "\n",
    "# 计算均方根误差（RMSE）\n",
    "rmse = np.sqrt(mean_squared_error(y_test_exp, y_pred_exp))\n",
    "r2 = r2_score(y_test_subset, y_pred)\n",
    "print(f'测试集上的 RMSE: {rmse}',f'测试集上的 R2: {r2}')\n",
    "\n",
    "y_test_10 = 10**y_test_exp\n",
    "y_pred_10 = 10**y_pred_exp\n",
    "rmse_10 = np.sqrt(mean_squared_error(y_test_10, y_pred_10)) \n",
    "print(f'测试集上的 RMSE_10: {rmse_10}')\n",
    "\n",
    "# 计算PE\n",
    "observed_values = y_test_exp  # 真实值\n",
    "predicted_values = y_pred_exp  # 预测值\n",
    "mean_observed = np.mean(observed_values)  # 真实值的均值\n",
    "\n",
    "# 计算PE\n",
    "numerator = np.sum((observed_values - predicted_values) ** 2)\n",
    "denominator = np.sum((observed_values - mean_observed) ** 2)\n",
    "\n",
    "pe = 1 - (numerator / denominator)\n",
    "\n",
    "print(f'预测效率 (PE): {pe}')\n",
    "\n",
    "\n",
    "\n",
    "\n",
    "\n",
    "# 创建绘图\n",
    "plt.figure(figsize=(9, 6))\n",
    "\n",
    "# 使用 Seaborn 的 kdeplot 绘制联合概率密度图\n",
    "ax = sns.kdeplot(\n",
    "    x=y_test_exp, \n",
    "    y=y_pred_exp, \n",
    "    cmap='viridis', \n",
    "    fill=True, \n",
    "    thresh=0, \n",
    "    levels=100,\n",
    "    bw_adjust=1.5\n",
    ")\n",
    "\n",
    "# 添加理想拟合线\n",
    "plt.plot(\n",
    "    [y_test_exp.min(), y_test_exp.max()], \n",
    "    [y_test_exp.min(), y_test_exp.max()], \n",
    "    'r--', \n",
    "    label='理想拟合线'\n",
    ")\n",
    "\n",
    "# 提取绘图的颜色集合（PolyCollection）\n",
    "collections = ax.collections\n",
    "\n",
    "\n",
    "if collections:\n",
    "    # 创建颜色条，基于第一个集合（KDE 图）\n",
    "    cbar = plt.colorbar(collections[0], ax=ax)\n",
    "    cbar.set_label('Probability Density')\n",
    "\n",
    "ax.text(\n",
    "    0.05, 0.95, \n",
    "    f'$RMSE$: {rmse:.4f}\\n$R^2$: {r2:.4f}', \n",
    "    transform=ax.transAxes,\n",
    "    fontsize=12,\n",
    "    verticalalignment='top',\n",
    "    bbox=dict(boxstyle='round', facecolor='white', alpha=0.5)\n",
    ")\n",
    "# plt.xlim(-10, -6)\n",
    "# plt.ylim(-10, -6)\n",
    "# # 添加图例\n",
    "# plt.legend()\n",
    "\n",
    "# 设置坐标轴标签和标题\n",
    "plt.xlabel('$log^{10}(PSD_{model})$')\n",
    "plt.ylabel('$log^{10}(PSD_{obs})$')\n",
    "# plt.title('真实值与预测值的概率密度图')\n",
    "\n",
    "# 显示图形\n",
    "plt.show()\n"
   ]
  },
  {
   "cell_type": "code",
   "execution_count": 12,
   "metadata": {},
   "outputs": [],
   "source": [
    "#保存\n",
    "#保存y_test_exp, y_pred_exp,为txt文件\n",
    "np.savetxt('high_0_y_test_exp.txt', y_test_exp)\n",
    "np.savetxt('high_0_y_pred_exp.txt', y_pred_exp)"
   ]
  },
  {
   "cell_type": "code",
   "execution_count": null,
   "metadata": {},
   "outputs": [],
   "source": []
  }
 ],
 "metadata": {
  "kernelspec": {
   "display_name": "tensorflow",
   "language": "python",
   "name": "python3"
  },
  "language_info": {
   "codemirror_mode": {
    "name": "ipython",
    "version": 3
   },
   "file_extension": ".py",
   "mimetype": "text/x-python",
   "name": "python",
   "nbconvert_exporter": "python",
   "pygments_lexer": "ipython3",
   "version": "3.9.18"
  }
 },
 "nbformat": 4,
 "nbformat_minor": 2
}
